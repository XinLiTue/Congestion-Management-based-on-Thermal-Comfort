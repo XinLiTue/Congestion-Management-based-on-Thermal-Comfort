{
 "cells": [
  {
   "cell_type": "markdown",
   "metadata": {},
   "source": [
    "# Calculate PPD distribution from data"
   ]
  },
  {
   "cell_type": "code",
   "execution_count": 35,
   "metadata": {},
   "outputs": [
    {
     "name": "stderr",
     "output_type": "stream",
     "text": [
      "\u001b[32m\u001b[1m  Activating\u001b[22m\u001b[39m project at `c:\\Users\\lange\\OneDrive\\Projects\\2024\\EEM25\\Congestion-Management-based-on-Thermal-Comfort`\n",
      "\u001b[32m\u001b[1m  No Changes\u001b[22m\u001b[39m to `C:\\Users\\lange\\OneDrive\\Projects\\2024\\EEM25\\Congestion-Management-based-on-Thermal-Comfort\\Project.toml`\n",
      "\u001b[32m\u001b[1m  No Changes\u001b[22m\u001b[39m to `C:\\Users\\lange\\OneDrive\\Projects\\2024\\EEM25\\Congestion-Management-based-on-Thermal-Comfort\\Manifest.toml`\n"
     ]
    },
    {
     "name": "stdout",
     "output_type": "stream",
     "text": [
      "\u001b[32m\u001b[1mStatus\u001b[22m\u001b[39m `C:\\Users\\lange\\OneDrive\\Projects\\2024\\EEM25\\Congestion-Management-based-on-Thermal-Comfort\\Project.toml`\n",
      "  \u001b[90m[336ed68f] \u001b[39mCSV v0.10.15\n",
      "  \u001b[90m[13f3f980] \u001b[39mCairoMakie v0.13.1\n",
      "  \u001b[90m[a93c6f00] \u001b[39mDataFrames v1.7.0\n",
      "  \u001b[90m[682c06a0] \u001b[39mJSON v0.21.4\n",
      "  \u001b[90m[4076af6c] \u001b[39mJuMP v1.23.6\n",
      "\u001b[32m⌃\u001b[39m \u001b[90m[b8f27783] \u001b[39mMathOptInterface v1.35.1\n",
      "  \u001b[90m[2d871509] \u001b[39mOptHP v1.0.0-DEV `OptHP`\n",
      "  \u001b[90m[295af30f] \u001b[39mRevise v3.7.2\n",
      "  \u001b[90m[2913bbd2] \u001b[39mStatsBase v0.34.4\n",
      "  \u001b[90m[f269a46b] \u001b[39mTimeZones v1.20.0\n",
      "  \u001b[90m[ade2ca70] \u001b[39mDates\n",
      "\u001b[36m\u001b[1mInfo\u001b[22m\u001b[39m Packages marked with \u001b[32m⌃\u001b[39m have new versions available and may be upgradable.\n"
     ]
    }
   ],
   "source": [
    "import Pkg\n",
    "\n",
    "# activate parent environment\n",
    "Pkg.activate(normpath(joinpath(@__DIR__, \".\")))\n",
    "Pkg.resolve()\n",
    "Pkg.instantiate()\n",
    "Pkg.status()\n",
    "\n",
    "using CSV\n",
    "using DataFrames\n",
    "using CairoMakie\n",
    "using StatsBase"
   ]
  },
  {
   "cell_type": "markdown",
   "metadata": {},
   "source": [
    "## Read data"
   ]
  },
  {
   "cell_type": "code",
   "execution_count": 46,
   "metadata": {},
   "outputs": [
    {
     "data": {
      "text/html": [
       "<div><div style = \"float: left;\"><span>5×2 DataFrame</span></div><div style = \"clear: both;\"></div></div><div class = \"data-frame\" style = \"overflow-x: scroll;\"><table class = \"data-frame\" style = \"margin-bottom: 6px;\"><thead><tr class = \"header\"><th class = \"rowNumber\" style = \"font-weight: bold; text-align: right;\">Row</th><th style = \"text-align: left;\">Ta</th><th style = \"text-align: left;\">PPD</th></tr><tr class = \"subheader headerLastRow\"><th class = \"rowNumber\" style = \"font-weight: bold; text-align: right;\"></th><th title = \"Int64\" style = \"text-align: left;\">Int64</th><th title = \"Float64\" style = \"text-align: left;\">Float64</th></tr></thead><tbody><tr><td class = \"rowNumber\" style = \"font-weight: bold; text-align: right;\">1</td><td style = \"text-align: right;\">15</td><td style = \"text-align: right;\">35.9</td></tr><tr><td class = \"rowNumber\" style = \"font-weight: bold; text-align: right;\">2</td><td style = \"text-align: right;\">15</td><td style = \"text-align: right;\">38.0</td></tr><tr><td class = \"rowNumber\" style = \"font-weight: bold; text-align: right;\">3</td><td style = \"text-align: right;\">15</td><td style = \"text-align: right;\">25.3</td></tr><tr><td class = \"rowNumber\" style = \"font-weight: bold; text-align: right;\">4</td><td style = \"text-align: right;\">15</td><td style = \"text-align: right;\">51.8</td></tr><tr><td class = \"rowNumber\" style = \"font-weight: bold; text-align: right;\">5</td><td style = \"text-align: right;\">15</td><td style = \"text-align: right;\">5.3</td></tr></tbody></table></div>"
      ],
      "text/latex": [
       "\\begin{tabular}{r|cc}\n",
       "\t& Ta & PPD\\\\\n",
       "\t\\hline\n",
       "\t& Int64 & Float64\\\\\n",
       "\t\\hline\n",
       "\t1 & 15 & 35.9 \\\\\n",
       "\t2 & 15 & 38.0 \\\\\n",
       "\t3 & 15 & 25.3 \\\\\n",
       "\t4 & 15 & 51.8 \\\\\n",
       "\t5 & 15 & 5.3 \\\\\n",
       "\\end{tabular}\n"
      ],
      "text/plain": [
       "\u001b[1m5×2 DataFrame\u001b[0m\n",
       "\u001b[1m Row \u001b[0m│\u001b[1m Ta    \u001b[0m\u001b[1m PPD     \u001b[0m\n",
       "     │\u001b[90m Int64 \u001b[0m\u001b[90m Float64 \u001b[0m\n",
       "─────┼────────────────\n",
       "   1 │    15     35.9\n",
       "   2 │    15     38.0\n",
       "   3 │    15     25.3\n",
       "   4 │    15     51.8\n",
       "   5 │    15      5.3"
      ]
     },
     "metadata": {},
     "output_type": "display_data"
    }
   ],
   "source": [
    "df = CSV.read(\"data/PPD/PPD_ta_3001.csv\", DataFrame)\n",
    "dropmissing!(df)\n",
    "select!(df, Not(:Column1))\n",
    "first(df, 5)"
   ]
  },
  {
   "cell_type": "markdown",
   "metadata": {},
   "source": [
    "## Calculate interquartiles ranges"
   ]
  },
  {
   "cell_type": "code",
   "execution_count": 38,
   "metadata": {},
   "outputs": [],
   "source": [
    "# summarystats(df[!, :PPD])"
   ]
  },
  {
   "cell_type": "code",
   "execution_count": 53,
   "metadata": {},
   "outputs": [
    {
     "data": {
      "text/plain": [
       "\"data/PPD/PPD_quantiles.csv\""
      ]
     },
     "metadata": {},
     "output_type": "display_data"
    }
   ],
   "source": [
    "dfg = groupby(df, :Ta)\n",
    "\n",
    "# compute quantiles\n",
    "dfg = combine(dfg) do df\n",
    "    # filter outliers 3 std\n",
    "    df = filter(:PPD => <(3 * std(df.PPD)), df)\n",
    "\n",
    "    # Ti min max Q1 Q2 Q3 \n",
    "    (\n",
    "        min = quantile(df.PPD, max(0.0,0.25 - 1.5 * iqr(df.PPD))),\n",
    "        max = quantile(df.PPD, min(1.0,0.75 + 1.5 * iqr(df.PPD))),\n",
    "        Q1 = quantile(df.PPD, 0.25), \n",
    "        Q2 = quantile(df.PPD, 0.50),\n",
    "        Q3 = quantile(df.PPD, 0.75)\n",
    "    )\n",
    "end\n",
    "\n",
    "# save to CSV\n",
    "CSV.write(\"data/PPD/PPD_quantiles.csv\", dfg)"
   ]
  }
 ],
 "metadata": {
  "kernelspec": {
   "display_name": "Julia 1.10.6",
   "language": "julia",
   "name": "julia-1.10"
  },
  "language_info": {
   "file_extension": ".jl",
   "mimetype": "application/julia",
   "name": "julia",
   "version": "1.10.6"
  }
 },
 "nbformat": 4,
 "nbformat_minor": 2
}
