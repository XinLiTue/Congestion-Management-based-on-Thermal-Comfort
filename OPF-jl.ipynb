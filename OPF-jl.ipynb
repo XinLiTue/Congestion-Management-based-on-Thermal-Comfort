{
 "cells": [
  {
   "cell_type": "markdown",
   "metadata": {},
   "source": [
    "\n",
    "# Optimal power flow model in Julia"
   ]
  },
  {
   "cell_type": "code",
   "execution_count": 1,
   "metadata": {},
   "outputs": [
    {
     "name": "stderr",
     "output_type": "stream",
     "text": [
      "\u001b[32m\u001b[1m  Activating\u001b[22m\u001b[39m project at `c:\\Users\\lange\\OneDrive\\Projects\\2024\\EEM25\\Congestion-Management-based-on-Thermal-Comfort`\n",
      "\u001b[32m\u001b[1m  No Changes\u001b[22m\u001b[39m to `C:\\Users\\lange\\OneDrive\\Projects\\2024\\EEM25\\Congestion-Management-based-on-Thermal-Comfort\\Project.toml`\n",
      "\u001b[32m\u001b[1m  No Changes\u001b[22m\u001b[39m to `C:\\Users\\lange\\OneDrive\\Projects\\2024\\EEM25\\Congestion-Management-based-on-Thermal-Comfort\\Manifest.toml`\n"
     ]
    },
    {
     "name": "stdout",
     "output_type": "stream",
     "text": [
      "\u001b[32m\u001b[1mStatus\u001b[22m\u001b[39m `C:\\Users\\lange\\OneDrive\\Projects\\2024\\EEM25\\Congestion-Management-based-on-Thermal-Comfort\\Project.toml`\n",
      "  \u001b[90m[336ed68f] \u001b[39mCSV v0.10.15\n",
      "  \u001b[90m[13f3f980] \u001b[39mCairoMakie v0.12.18\n",
      "  \u001b[90m[a93c6f00] \u001b[39mDataFrames v1.7.0\n",
      "  \u001b[90m[682c06a0] \u001b[39mJSON v0.21.4\n",
      "  \u001b[90m[4076af6c] \u001b[39mJuMP v1.23.5\n",
      "  \u001b[90m[b8f27783] \u001b[39mMathOptInterface v1.34.0\n",
      "  \u001b[90m[2d871509] \u001b[39mOptHP v1.0.0-DEV `OptHP`\n",
      "  \u001b[90m[295af30f] \u001b[39mRevise v3.6.4\n"
     ]
    }
   ],
   "source": [
    "import Pkg\n",
    "\n",
    "# activate parent environment\n",
    "Pkg.activate(normpath(joinpath(@__DIR__, \".\")))\n",
    "Pkg.resolve()\n",
    "Pkg.instantiate()\n",
    "Pkg.status()\n",
    "\n",
    "using CSV\n",
    "using DataFrames\n",
    "using Dates\n",
    "using CairoMakie\n",
    "using JuMP\n",
    "import JSON\n",
    "import MathOptInterface as MOI\n",
    "\n",
    "using Revise\n",
    "using OptHP"
   ]
  },
  {
   "cell_type": "markdown",
   "metadata": {},
   "source": [
    "## Load data"
   ]
  },
  {
   "cell_type": "code",
   "execution_count": 2,
   "metadata": {},
   "outputs": [
    {
     "data": {
      "text/html": [
       "<div><div style = \"float: left;\"><span>5×7 DataFrame</span></div><div style = \"clear: both;\"></div></div><div class = \"data-frame\" style = \"overflow-x: scroll;\"><table class = \"data-frame\" style = \"margin-bottom: 6px;\"><thead><tr class = \"header\"><th class = \"rowNumber\" style = \"font-weight: bold; text-align: right;\">Row</th><th style = \"text-align: left;\">StartNode</th><th style = \"text-align: left;\">EndNode</th><th style = \"text-align: left;\">Length</th><th style = \"text-align: left;\">cable</th><th style = \"text-align: left;\">Inom</th><th style = \"text-align: left;\">R</th><th style = \"text-align: left;\">X</th></tr><tr class = \"subheader headerLastRow\"><th class = \"rowNumber\" style = \"font-weight: bold; text-align: right;\"></th><th title = \"Int64\" style = \"text-align: left;\">Int64</th><th title = \"Int64\" style = \"text-align: left;\">Int64</th><th title = \"Float64\" style = \"text-align: left;\">Float64</th><th title = \"String7\" style = \"text-align: left;\">String7</th><th title = \"Float64\" style = \"text-align: left;\">Float64</th><th title = \"Float64\" style = \"text-align: left;\">Float64</th><th title = \"Float64\" style = \"text-align: left;\">Float64</th></tr></thead><tbody><tr><td class = \"rowNumber\" style = \"font-weight: bold; text-align: right;\">1</td><td style = \"text-align: right;\">47</td><td style = \"text-align: right;\">15</td><td style = \"text-align: right;\">22.21</td><td style = \"text-align: left;\">50Al</td><td style = \"text-align: right;\">0.12528</td><td style = \"text-align: right;\">0.0142366</td><td style = \"text-align: right;\">0.00188785</td></tr><tr><td class = \"rowNumber\" style = \"font-weight: bold; text-align: right;\">2</td><td style = \"text-align: right;\">49</td><td style = \"text-align: right;\">40</td><td style = \"text-align: right;\">15.57</td><td style = \"text-align: left;\">95Al</td><td style = \"text-align: right;\">0.18386</td><td style = \"text-align: right;\">0.0049824</td><td style = \"text-align: right;\">0.00127674</td></tr><tr><td class = \"rowNumber\" style = \"font-weight: bold; text-align: right;\">3</td><td style = \"text-align: right;\">26</td><td style = \"text-align: right;\">41</td><td style = \"text-align: right;\">18.26</td><td style = \"text-align: left;\">95Al</td><td style = \"text-align: right;\">0.18386</td><td style = \"text-align: right;\">0.0058432</td><td style = \"text-align: right;\">0.00149732</td></tr><tr><td class = \"rowNumber\" style = \"font-weight: bold; text-align: right;\">4</td><td style = \"text-align: right;\">11</td><td style = \"text-align: right;\">12</td><td style = \"text-align: right;\">6.71</td><td style = \"text-align: left;\">95Al</td><td style = \"text-align: right;\">0.18386</td><td style = \"text-align: right;\">0.0021472</td><td style = \"text-align: right;\">0.00055022</td></tr><tr><td class = \"rowNumber\" style = \"font-weight: bold; text-align: right;\">5</td><td style = \"text-align: right;\">12</td><td style = \"text-align: right;\">27</td><td style = \"text-align: right;\">6.52</td><td style = \"text-align: left;\">95Al</td><td style = \"text-align: right;\">0.18386</td><td style = \"text-align: right;\">0.0020864</td><td style = \"text-align: right;\">0.00053464</td></tr></tbody></table></div>"
      ],
      "text/latex": [
       "\\begin{tabular}{r|ccccccc}\n",
       "\t& StartNode & EndNode & Length & cable & Inom & R & X\\\\\n",
       "\t\\hline\n",
       "\t& Int64 & Int64 & Float64 & String7 & Float64 & Float64 & Float64\\\\\n",
       "\t\\hline\n",
       "\t1 & 47 & 15 & 22.21 & 50Al & 0.12528 & 0.0142366 & 0.00188785 \\\\\n",
       "\t2 & 49 & 40 & 15.57 & 95Al & 0.18386 & 0.0049824 & 0.00127674 \\\\\n",
       "\t3 & 26 & 41 & 18.26 & 95Al & 0.18386 & 0.0058432 & 0.00149732 \\\\\n",
       "\t4 & 11 & 12 & 6.71 & 95Al & 0.18386 & 0.0021472 & 0.00055022 \\\\\n",
       "\t5 & 12 & 27 & 6.52 & 95Al & 0.18386 & 0.0020864 & 0.00053464 \\\\\n",
       "\\end{tabular}\n"
      ],
      "text/plain": [
       "\u001b[1m5×7 DataFrame\u001b[0m\n",
       "\u001b[1m Row \u001b[0m│\u001b[1m StartNode \u001b[0m\u001b[1m EndNode \u001b[0m\u001b[1m Length  \u001b[0m\u001b[1m cable   \u001b[0m\u001b[1m Inom    \u001b[0m\u001b[1m R         \u001b[0m\u001b[1m X          \u001b[0m\n",
       "     │\u001b[90m Int64     \u001b[0m\u001b[90m Int64   \u001b[0m\u001b[90m Float64 \u001b[0m\u001b[90m String7 \u001b[0m\u001b[90m Float64 \u001b[0m\u001b[90m Float64   \u001b[0m\u001b[90m Float64    \u001b[0m\n",
       "─────┼──────────────────────────────────────────────────────────────────────\n",
       "   1 │        47       15    22.21  50Al     0.12528  0.0142366  0.00188785\n",
       "   2 │        49       40    15.57  95Al     0.18386  0.0049824  0.00127674\n",
       "   3 │        26       41    18.26  95Al     0.18386  0.0058432  0.00149732\n",
       "   4 │        11       12     6.71  95Al     0.18386  0.0021472  0.00055022\n",
       "   5 │        12       27     6.52  95Al     0.18386  0.0020864  0.00053464"
      ]
     },
     "metadata": {},
     "output_type": "display_data"
    }
   ],
   "source": [
    "network = CSV.read(\"data/network.csv\", DataFrame)\n",
    "first(network, 5)"
   ]
  },
  {
   "cell_type": "code",
   "execution_count": 3,
   "metadata": {},
   "outputs": [
    {
     "data": {
      "text/html": [
       "<div><div style = \"float: left;\"><span>5×11 DataFrame</span></div><div style = \"clear: both;\"></div></div><div class = \"data-frame\" style = \"overflow-x: scroll;\"><table class = \"data-frame\" style = \"margin-bottom: 6px;\"><thead><tr class = \"header\"><th class = \"rowNumber\" style = \"font-weight: bold; text-align: right;\">Row</th><th style = \"text-align: left;\">Column1</th><th style = \"text-align: left;\">Name</th><th style = \"text-align: left;\">Node.ID</th><th style = \"text-align: left;\">Node.Unom</th><th style = \"text-align: left;\">Length</th><th style = \"text-align: left;\">Type short</th><th style = \"text-align: left;\">Connection value</th><th style = \"text-align: left;\">load</th><th style = \"text-align: left;\">PV</th><th style = \"text-align: left;\">HP</th><th style = \"text-align: left;\">Node</th></tr><tr class = \"subheader headerLastRow\"><th class = \"rowNumber\" style = \"font-weight: bold; text-align: right;\"></th><th title = \"Int64\" style = \"text-align: left;\">Int64</th><th title = \"Int64\" style = \"text-align: left;\">Int64</th><th title = \"Int64\" style = \"text-align: left;\">Int64</th><th title = \"Int64\" style = \"text-align: left;\">Int64</th><th title = \"String7\" style = \"text-align: left;\">String7</th><th title = \"String15\" style = \"text-align: left;\">String15</th><th title = \"String7\" style = \"text-align: left;\">String7</th><th title = \"Int64\" style = \"text-align: left;\">Int64</th><th title = \"Float64\" style = \"text-align: left;\">Float64</th><th title = \"Int64\" style = \"text-align: left;\">Int64</th><th title = \"Int64\" style = \"text-align: left;\">Int64</th></tr></thead><tbody><tr><td class = \"rowNumber\" style = \"font-weight: bold; text-align: right;\">1</td><td style = \"text-align: right;\">1</td><td style = \"text-align: right;\">871694840006284337</td><td style = \"text-align: right;\">46559968</td><td style = \"text-align: right;\">230</td><td style = \"text-align: left;\">21,75</td><td style = \"text-align: left;\">XLPE 4x6Cu</td><td style = \"text-align: left;\">3x25 A</td><td style = \"text-align: right;\">7000</td><td style = \"text-align: right;\">4.0</td><td style = \"text-align: right;\">1</td><td style = \"text-align: right;\">50</td></tr><tr><td class = \"rowNumber\" style = \"font-weight: bold; text-align: right;\">2</td><td style = \"text-align: right;\">2</td><td style = \"text-align: right;\">871694840006288793</td><td style = \"text-align: right;\">46563894</td><td style = \"text-align: right;\">230</td><td style = \"text-align: left;\">2,22</td><td style = \"text-align: left;\">XLPE 4x6Cu</td><td style = \"text-align: left;\">3x25 A</td><td style = \"text-align: right;\">7000</td><td style = \"text-align: right;\">6.0</td><td style = \"text-align: right;\">0</td><td style = \"text-align: right;\">51</td></tr><tr><td class = \"rowNumber\" style = \"font-weight: bold; text-align: right;\">3</td><td style = \"text-align: right;\">3</td><td style = \"text-align: right;\">871694840006284108</td><td style = \"text-align: right;\">11195660</td><td style = \"text-align: right;\">230</td><td style = \"text-align: left;\">10,4</td><td style = \"text-align: left;\">PVC 4x16Al</td><td style = \"text-align: left;\">1x35 A</td><td style = \"text-align: right;\">2000</td><td style = \"text-align: right;\">2.2</td><td style = \"text-align: right;\">0</td><td style = \"text-align: right;\">52</td></tr><tr><td class = \"rowNumber\" style = \"font-weight: bold; text-align: right;\">4</td><td style = \"text-align: right;\">4</td><td style = \"text-align: right;\">871694840006284115</td><td style = \"text-align: right;\">11195660</td><td style = \"text-align: right;\">230</td><td style = \"text-align: left;\">10,4</td><td style = \"text-align: left;\">PVC 4x16Al</td><td style = \"text-align: left;\">1x35 A</td><td style = \"text-align: right;\">500</td><td style = \"text-align: right;\">2.2</td><td style = \"text-align: right;\">0</td><td style = \"text-align: right;\">53</td></tr><tr><td class = \"rowNumber\" style = \"font-weight: bold; text-align: right;\">5</td><td style = \"text-align: right;\">5</td><td style = \"text-align: right;\">871694840006284092</td><td style = \"text-align: right;\">2573422</td><td style = \"text-align: right;\">230</td><td style = \"text-align: left;\">7,33</td><td style = \"text-align: left;\">PVC 4x16Al</td><td style = \"text-align: left;\">1x35 A</td><td style = \"text-align: right;\">2000</td><td style = \"text-align: right;\">2.2</td><td style = \"text-align: right;\">0</td><td style = \"text-align: right;\">54</td></tr></tbody></table></div>"
      ],
      "text/latex": [
       "\\begin{tabular}{r|cccccccc}\n",
       "\t& Column1 & Name & Node.ID & Node.Unom & Length & Type short & Connection value & \\\\\n",
       "\t\\hline\n",
       "\t& Int64 & Int64 & Int64 & Int64 & String7 & String15 & String7 & \\\\\n",
       "\t\\hline\n",
       "\t1 & 1 & 871694840006284337 & 46559968 & 230 & 21,75 & XLPE 4x6Cu & 3x25 A & $\\dots$ \\\\\n",
       "\t2 & 2 & 871694840006288793 & 46563894 & 230 & 2,22 & XLPE 4x6Cu & 3x25 A & $\\dots$ \\\\\n",
       "\t3 & 3 & 871694840006284108 & 11195660 & 230 & 10,4 & PVC 4x16Al & 1x35 A & $\\dots$ \\\\\n",
       "\t4 & 4 & 871694840006284115 & 11195660 & 230 & 10,4 & PVC 4x16Al & 1x35 A & $\\dots$ \\\\\n",
       "\t5 & 5 & 871694840006284092 & 2573422 & 230 & 7,33 & PVC 4x16Al & 1x35 A & $\\dots$ \\\\\n",
       "\\end{tabular}\n"
      ],
      "text/plain": [
       "\u001b[1m5×11 DataFrame\u001b[0m\n",
       "\u001b[1m Row \u001b[0m│\u001b[1m Column1 \u001b[0m\u001b[1m Name               \u001b[0m\u001b[1m Node.ID  \u001b[0m\u001b[1m Node.Unom \u001b[0m\u001b[1m Length  \u001b[0m\u001b[1m Type short \u001b[0m\u001b[1m \u001b[0m ⋯\n",
       "     │\u001b[90m Int64   \u001b[0m\u001b[90m Int64              \u001b[0m\u001b[90m Int64    \u001b[0m\u001b[90m Int64     \u001b[0m\u001b[90m String7 \u001b[0m\u001b[90m String15   \u001b[0m\u001b[90m \u001b[0m ⋯\n",
       "─────┼──────────────────────────────────────────────────────────────────────────\n",
       "   1 │       1  871694840006284337  46559968        230  21,75    XLPE 4x6Cu   ⋯\n",
       "   2 │       2  871694840006288793  46563894        230  2,22     XLPE 4x6Cu\n",
       "   3 │       3  871694840006284108  11195660        230  10,4     PVC 4x16Al\n",
       "   4 │       4  871694840006284115  11195660        230  10,4     PVC 4x16Al\n",
       "   5 │       5  871694840006284092   2573422        230  7,33     PVC 4x16Al   ⋯\n",
       "\u001b[36m                                                               5 columns omitted\u001b[0m"
      ]
     },
     "metadata": {},
     "output_type": "display_data"
    }
   ],
   "source": [
    "connections = CSV.read(\"data/user_connect.csv\", DataFrame; delim=\";\")\n",
    "\n",
    "# convert PV (str) to Float64\n",
    "connections.PV = parse.(Float64, replace.(connections.PV, \",\" => \".\"))\n",
    "\n",
    "first(connections, 5)"
   ]
  },
  {
   "cell_type": "code",
   "execution_count": 4,
   "metadata": {},
   "outputs": [
    {
     "data": {
      "text/html": [
       "<div><div style = \"float: left;\"><span>5×37 DataFrame</span></div><div style = \"clear: both;\"></div></div><div class = \"data-frame\" style = \"overflow-x: scroll;\"><table class = \"data-frame\" style = \"margin-bottom: 6px;\"><thead><tr class = \"header\"><th class = \"rowNumber\" style = \"font-weight: bold; text-align: right;\">Row</th><th style = \"text-align: left;\">50</th><th style = \"text-align: left;\">51</th><th style = \"text-align: left;\">52</th><th style = \"text-align: left;\">53</th><th style = \"text-align: left;\">54</th><th style = \"text-align: left;\">55</th><th style = \"text-align: left;\">56</th><th style = \"text-align: left;\">57</th><th style = \"text-align: left;\">58</th><th style = \"text-align: left;\">59</th><th style = \"text-align: left;\">60</th><th style = \"text-align: left;\">61</th><th style = \"text-align: left;\">62</th><th style = \"text-align: left;\">63</th><th style = \"text-align: left;\">64</th><th style = \"text-align: left;\">65</th><th style = \"text-align: left;\">66</th><th style = \"text-align: left;\">67</th><th style = \"text-align: left;\">68</th><th style = \"text-align: left;\">69</th><th style = \"text-align: left;\">70</th><th style = \"text-align: left;\">71</th><th style = \"text-align: left;\">72</th><th style = \"text-align: left;\">73</th><th style = \"text-align: left;\">74</th><th style = \"text-align: left;\">75</th><th style = \"text-align: left;\">76</th><th style = \"text-align: left;\">77</th><th style = \"text-align: left;\">78</th><th style = \"text-align: left;\">79</th><th style = \"text-align: left;\">80</th><th style = \"text-align: left;\">81</th><th style = \"text-align: left;\">82</th><th style = \"text-align: left;\">83</th><th style = \"text-align: left;\">84</th><th style = \"text-align: left;\">85</th><th style = \"text-align: left;\">86</th></tr><tr class = \"subheader headerLastRow\"><th class = \"rowNumber\" style = \"font-weight: bold; text-align: right;\"></th><th title = \"Float64\" style = \"text-align: left;\">Float64</th><th title = \"Float64\" style = \"text-align: left;\">Float64</th><th title = \"Float64\" style = \"text-align: left;\">Float64</th><th title = \"Float64\" style = \"text-align: left;\">Float64</th><th title = \"Float64\" style = \"text-align: left;\">Float64</th><th title = \"Float64\" style = \"text-align: left;\">Float64</th><th title = \"Float64\" style = \"text-align: left;\">Float64</th><th title = \"Float64\" style = \"text-align: left;\">Float64</th><th title = \"Float64\" style = \"text-align: left;\">Float64</th><th title = \"Float64\" style = \"text-align: left;\">Float64</th><th title = \"Float64\" style = \"text-align: left;\">Float64</th><th title = \"Float64\" style = \"text-align: left;\">Float64</th><th title = \"Float64\" style = \"text-align: left;\">Float64</th><th title = \"Float64\" style = \"text-align: left;\">Float64</th><th title = \"Float64\" style = \"text-align: left;\">Float64</th><th title = \"Float64\" style = \"text-align: left;\">Float64</th><th title = \"Float64\" style = \"text-align: left;\">Float64</th><th title = \"Float64\" style = \"text-align: left;\">Float64</th><th title = \"Float64\" style = \"text-align: left;\">Float64</th><th title = \"Float64\" style = \"text-align: left;\">Float64</th><th title = \"Float64\" style = \"text-align: left;\">Float64</th><th title = \"Float64\" style = \"text-align: left;\">Float64</th><th title = \"Float64\" style = \"text-align: left;\">Float64</th><th title = \"Float64\" style = \"text-align: left;\">Float64</th><th title = \"Float64\" style = \"text-align: left;\">Float64</th><th title = \"Float64\" style = \"text-align: left;\">Float64</th><th title = \"Float64\" style = \"text-align: left;\">Float64</th><th title = \"Float64\" style = \"text-align: left;\">Float64</th><th title = \"Float64\" style = \"text-align: left;\">Float64</th><th title = \"Float64\" style = \"text-align: left;\">Float64</th><th title = \"Float64\" style = \"text-align: left;\">Float64</th><th title = \"Float64\" style = \"text-align: left;\">Float64</th><th title = \"Float64\" style = \"text-align: left;\">Float64</th><th title = \"Float64\" style = \"text-align: left;\">Float64</th><th title = \"Float64\" style = \"text-align: left;\">Float64</th><th title = \"Float64\" style = \"text-align: left;\">Float64</th><th title = \"Float64\" style = \"text-align: left;\">Float64</th></tr></thead><tbody><tr><td class = \"rowNumber\" style = \"font-weight: bold; text-align: right;\">1</td><td style = \"text-align: right;\">0.0280492</td><td style = \"text-align: right;\">0.0327633</td><td style = \"text-align: right;\">0.00789328</td><td style = \"text-align: right;\">0.00216432</td><td style = \"text-align: right;\">0.00870451</td><td style = \"text-align: right;\">0.0066902</td><td style = \"text-align: right;\">0.0190303</td><td style = \"text-align: right;\">0.0208217</td><td style = \"text-align: right;\">0.0316786</td><td style = \"text-align: right;\">0.00885476</td><td style = \"text-align: right;\">0.00227458</td><td style = \"text-align: right;\">0.0100109</td><td style = \"text-align: right;\">0.00389288</td><td style = \"text-align: right;\">0.00391422</td><td style = \"text-align: right;\">0.0217207</td><td style = \"text-align: right;\">0.00663473</td><td style = \"text-align: right;\">0.0137514</td><td style = \"text-align: right;\">0.038904</td><td style = \"text-align: right;\">0.0160743</td><td style = \"text-align: right;\">0.0134882</td><td style = \"text-align: right;\">0.0108427</td><td style = \"text-align: right;\">0.044233</td><td style = \"text-align: right;\">0.00783649</td><td style = \"text-align: right;\">0.00964245</td><td style = \"text-align: right;\">0.0327462</td><td style = \"text-align: right;\">0.0462532</td><td style = \"text-align: right;\">0.0159094</td><td style = \"text-align: right;\">0.0085621</td><td style = \"text-align: right;\">0.0220982</td><td style = \"text-align: right;\">0.00783409</td><td style = \"text-align: right;\">0.00924792</td><td style = \"text-align: right;\">0.0118713</td><td style = \"text-align: right;\">0.025677</td><td style = \"text-align: right;\">0.019321</td><td style = \"text-align: right;\">0.0138463</td><td style = \"text-align: right;\">0.0255821</td><td style = \"text-align: right;\">0.0</td></tr><tr><td class = \"rowNumber\" style = \"font-weight: bold; text-align: right;\">2</td><td style = \"text-align: right;\">0.0194261</td><td style = \"text-align: right;\">0.0201885</td><td style = \"text-align: right;\">0.00556897</td><td style = \"text-align: right;\">0.00150743</td><td style = \"text-align: right;\">0.00557323</td><td style = \"text-align: right;\">0.00408914</td><td style = \"text-align: right;\">0.0129535</td><td style = \"text-align: right;\">0.0161562</td><td style = \"text-align: right;\">0.0188356</td><td style = \"text-align: right;\">0.00547041</td><td style = \"text-align: right;\">0.00150153</td><td style = \"text-align: right;\">0.00703371</td><td style = \"text-align: right;\">0.00301253</td><td style = \"text-align: right;\">0.00301947</td><td style = \"text-align: right;\">0.0136849</td><td style = \"text-align: right;\">0.00469629</td><td style = \"text-align: right;\">0.0110687</td><td style = \"text-align: right;\">0.0308354</td><td style = \"text-align: right;\">0.0108854</td><td style = \"text-align: right;\">0.0103217</td><td style = \"text-align: right;\">0.00754248</td><td style = \"text-align: right;\">0.0315925</td><td style = \"text-align: right;\">0.00559041</td><td style = \"text-align: right;\">0.00759827</td><td style = \"text-align: right;\">0.0213481</td><td style = \"text-align: right;\">0.0281427</td><td style = \"text-align: right;\">0.0101261</td><td style = \"text-align: right;\">0.00647718</td><td style = \"text-align: right;\">0.0135207</td><td style = \"text-align: right;\">0.00579418</td><td style = \"text-align: right;\">0.00582512</td><td style = \"text-align: right;\">0.00873516</td><td style = \"text-align: right;\">0.018251</td><td style = \"text-align: right;\">0.013007</td><td style = \"text-align: right;\">0.00943072</td><td style = \"text-align: right;\">0.0178395</td><td style = \"text-align: right;\">0.0</td></tr><tr><td class = \"rowNumber\" style = \"font-weight: bold; text-align: right;\">3</td><td style = \"text-align: right;\">0.0222562</td><td style = \"text-align: right;\">0.0222175</td><td style = \"text-align: right;\">0.00583958</td><td style = \"text-align: right;\">0.00149652</td><td style = \"text-align: right;\">0.00583324</td><td style = \"text-align: right;\">0.0040186</td><td style = \"text-align: right;\">0.0131774</td><td style = \"text-align: right;\">0.0146778</td><td style = \"text-align: right;\">0.0221186</td><td style = \"text-align: right;\">0.0063148</td><td style = \"text-align: right;\">0.00160216</td><td style = \"text-align: right;\">0.00741227</td><td style = \"text-align: right;\">0.00291713</td><td style = \"text-align: right;\">0.00310672</td><td style = \"text-align: right;\">0.0151385</td><td style = \"text-align: right;\">0.00471799</td><td style = \"text-align: right;\">0.0109297</td><td style = \"text-align: right;\">0.0284821</td><td style = \"text-align: right;\">0.0112424</td><td style = \"text-align: right;\">0.00954143</td><td style = \"text-align: right;\">0.00796256</td><td style = \"text-align: right;\">0.0309558</td><td style = \"text-align: right;\">0.00559076</td><td style = \"text-align: right;\">0.00797005</td><td style = \"text-align: right;\">0.0227603</td><td style = \"text-align: right;\">0.0303833</td><td style = \"text-align: right;\">0.0111911</td><td style = \"text-align: right;\">0.0058502</td><td style = \"text-align: right;\">0.0160791</td><td style = \"text-align: right;\">0.00646978</td><td style = \"text-align: right;\">0.00603232</td><td style = \"text-align: right;\">0.00961901</td><td style = \"text-align: right;\">0.0193459</td><td style = \"text-align: right;\">0.0125066</td><td style = \"text-align: right;\">0.00844744</td><td style = \"text-align: right;\">0.0178119</td><td style = \"text-align: right;\">0.0</td></tr><tr><td class = \"rowNumber\" style = \"font-weight: bold; text-align: right;\">4</td><td style = \"text-align: right;\">0.0236077</td><td style = \"text-align: right;\">0.0214192</td><td style = \"text-align: right;\">0.00656782</td><td style = \"text-align: right;\">0.00158927</td><td style = \"text-align: right;\">0.00727005</td><td style = \"text-align: right;\">0.00480448</td><td style = \"text-align: right;\">0.0148979</td><td style = \"text-align: right;\">0.0172582</td><td style = \"text-align: right;\">0.021615</td><td style = \"text-align: right;\">0.00741563</td><td style = \"text-align: right;\">0.00154189</td><td style = \"text-align: right;\">0.00765452</td><td style = \"text-align: right;\">0.00309739</td><td style = \"text-align: right;\">0.00323702</td><td style = \"text-align: right;\">0.0160809</td><td style = \"text-align: right;\">0.00554229</td><td style = \"text-align: right;\">0.012016</td><td style = \"text-align: right;\">0.0365018</td><td style = \"text-align: right;\">0.0146685</td><td style = \"text-align: right;\">0.0129499</td><td style = \"text-align: right;\">0.00916666</td><td style = \"text-align: right;\">0.0329395</td><td style = \"text-align: right;\">0.00737826</td><td style = \"text-align: right;\">0.00877966</td><td style = \"text-align: right;\">0.0230161</td><td style = \"text-align: right;\">0.0328368</td><td style = \"text-align: right;\">0.0108052</td><td style = \"text-align: right;\">0.00674518</td><td style = \"text-align: right;\">0.0164615</td><td style = \"text-align: right;\">0.00639536</td><td style = \"text-align: right;\">0.00619007</td><td style = \"text-align: right;\">0.0105051</td><td style = \"text-align: right;\">0.0187594</td><td style = \"text-align: right;\">0.0137561</td><td style = \"text-align: right;\">0.010025</td><td style = \"text-align: right;\">0.020322</td><td style = \"text-align: right;\">0.0</td></tr><tr><td class = \"rowNumber\" style = \"font-weight: bold; text-align: right;\">5</td><td style = \"text-align: right;\">0.0258527</td><td style = \"text-align: right;\">0.026771</td><td style = \"text-align: right;\">0.00830569</td><td style = \"text-align: right;\">0.00182058</td><td style = \"text-align: right;\">0.00881239</td><td style = \"text-align: right;\">0.00562766</td><td style = \"text-align: right;\">0.0188999</td><td style = \"text-align: right;\">0.0181352</td><td style = \"text-align: right;\">0.0267452</td><td style = \"text-align: right;\">0.00775641</td><td style = \"text-align: right;\">0.00204764</td><td style = \"text-align: right;\">0.00959481</td><td style = \"text-align: right;\">0.00368743</td><td style = \"text-align: right;\">0.00390459</td><td style = \"text-align: right;\">0.0200733</td><td style = \"text-align: right;\">0.00636839</td><td style = \"text-align: right;\">0.0138178</td><td style = \"text-align: right;\">0.0417959</td><td style = \"text-align: right;\">0.0160488</td><td style = \"text-align: right;\">0.0146582</td><td style = \"text-align: right;\">0.00963903</td><td style = \"text-align: right;\">0.0412269</td><td style = \"text-align: right;\">0.00812958</td><td style = \"text-align: right;\">0.00960557</td><td style = \"text-align: right;\">0.0266</td><td style = \"text-align: right;\">0.0380806</td><td style = \"text-align: right;\">0.0141561</td><td style = \"text-align: right;\">0.00851961</td><td style = \"text-align: right;\">0.0213948</td><td style = \"text-align: right;\">0.00755007</td><td style = \"text-align: right;\">0.00783836</td><td style = \"text-align: right;\">0.0122754</td><td style = \"text-align: right;\">0.0233571</td><td style = \"text-align: right;\">0.0186267</td><td style = \"text-align: right;\">0.0109073</td><td style = \"text-align: right;\">0.0241358</td><td style = \"text-align: right;\">0.0</td></tr></tbody></table></div>"
      ],
      "text/latex": [
       "\\begin{tabular}{r|cccccccc}\n",
       "\t& 50 & 51 & 52 & 53 & 54 & 55 & 56 & \\\\\n",
       "\t\\hline\n",
       "\t& Float64 & Float64 & Float64 & Float64 & Float64 & Float64 & Float64 & \\\\\n",
       "\t\\hline\n",
       "\t1 & 0.0280492 & 0.0327633 & 0.00789328 & 0.00216432 & 0.00870451 & 0.0066902 & 0.0190303 & $\\dots$ \\\\\n",
       "\t2 & 0.0194261 & 0.0201885 & 0.00556897 & 0.00150743 & 0.00557323 & 0.00408914 & 0.0129535 & $\\dots$ \\\\\n",
       "\t3 & 0.0222562 & 0.0222175 & 0.00583958 & 0.00149652 & 0.00583324 & 0.0040186 & 0.0131774 & $\\dots$ \\\\\n",
       "\t4 & 0.0236077 & 0.0214192 & 0.00656782 & 0.00158927 & 0.00727005 & 0.00480448 & 0.0148979 & $\\dots$ \\\\\n",
       "\t5 & 0.0258527 & 0.026771 & 0.00830569 & 0.00182058 & 0.00881239 & 0.00562766 & 0.0188999 & $\\dots$ \\\\\n",
       "\\end{tabular}\n"
      ],
      "text/plain": [
       "\u001b[1m5×37 DataFrame\u001b[0m\n",
       "\u001b[1m Row \u001b[0m│\u001b[1m 50        \u001b[0m\u001b[1m 51        \u001b[0m\u001b[1m 52         \u001b[0m\u001b[1m 53         \u001b[0m\u001b[1m 54         \u001b[0m\u001b[1m 55         \u001b[0m\u001b[1m 5\u001b[0m ⋯\n",
       "     │\u001b[90m Float64   \u001b[0m\u001b[90m Float64   \u001b[0m\u001b[90m Float64    \u001b[0m\u001b[90m Float64    \u001b[0m\u001b[90m Float64    \u001b[0m\u001b[90m Float64    \u001b[0m\u001b[90m F\u001b[0m ⋯\n",
       "─────┼──────────────────────────────────────────────────────────────────────────\n",
       "   1 │ 0.0280492  0.0327633  0.00789328  0.00216432  0.00870451  0.0066902   0 ⋯\n",
       "   2 │ 0.0194261  0.0201885  0.00556897  0.00150743  0.00557323  0.00408914  0\n",
       "   3 │ 0.0222562  0.0222175  0.00583958  0.00149652  0.00583324  0.0040186   0\n",
       "   4 │ 0.0236077  0.0214192  0.00656782  0.00158927  0.00727005  0.00480448  0\n",
       "   5 │ 0.0258527  0.026771   0.00830569  0.00182058  0.00881239  0.00562766  0 ⋯\n",
       "\u001b[36m                                                              31 columns omitted\u001b[0m"
      ]
     },
     "metadata": {},
     "output_type": "display_data"
    }
   ],
   "source": [
    "loads_real = CSV.read(\"data/UserPower.csv\", DataFrame)\n",
    "loads_real.time = DateTime.(loads_real.time, \"m/d/yyyy H:M p\")\n",
    "\n",
    "loads_reactive = CSV.read(\"data/UserReactivePower.csv\", DataFrame)\n",
    "loads_reactive.time = DateTime.(loads_reactive.time, \"m/d/yyyy H:M p\")\n",
    "\n",
    "# Filter for rows where the date is February 1, 2024\n",
    "date = Date(2024, 2, 1)\n",
    "loads_real = loads_real[Date.(loads_real.time) .== date, 3:end]\n",
    "loads_reactive = loads_reactive[Date.(loads_reactive.time) .== date, 3:end]\n",
    "first(loads_real, 5)"
   ]
  },
  {
   "cell_type": "markdown",
   "metadata": {},
   "source": [
    "## Load state-space matrices"
   ]
  },
  {
   "cell_type": "code",
   "execution_count": 5,
   "metadata": {},
   "outputs": [
    {
     "data": {
      "text/plain": [
       "Dict{String, Dict{String, Matrix{Float64}}} with 1 entry:\n",
       "  \"H14\" => Dict(\"B\"=>[0.00663784 0.00224598 0.166439; 9.37536e-5 2.65051e-6 0.0…"
      ]
     },
     "metadata": {},
     "output_type": "display_data"
    }
   ],
   "source": [
    "id = \"H14\"\n",
    "\n",
    "A_d = Matrix(CSV.read(\"data/$(id)/$(id)_15min_A_exact.csv\", DataFrame))\n",
    "B_d = Matrix(CSV.read(\"data/$(id)/$(id)_15min_B_exact.csv\", DataFrame))\n",
    "\n",
    "H14_meta = Dict(\n",
    "    \"A\" => A_d,\n",
    "    \"B\" => B_d\n",
    ")\n",
    "\n",
    "meta = Dict(\n",
    "    \"H14\" => H14_meta\n",
    ")"
   ]
  },
  {
   "cell_type": "markdown",
   "metadata": {},
   "source": [
    "## Construct GEC"
   ]
  },
  {
   "cell_type": "code",
   "execution_count": 6,
   "metadata": {},
   "outputs": [
    {
     "name": "stdout",
     "output_type": "stream",
     "text": [
      "Set parameter Username\n",
      "Set parameter LicenseID to value 2599292\n",
      "Academic license - for non-commercial use only - expires 2025-12-13\n"
     ]
    },
    {
     "data": {
      "text/plain": [
       "(2-dimensional DenseAxisArray{VariableRef,2,...} with index sets:\n",
       "    Dimension 1, 1:96\n",
       "    Dimension 2, [5, 56, 35, 55, 60, 30, 32, 6, 67, 45  …  83, 14, 3, 80, 51, 33, 40, 48, 15, 65]\n",
       "And data, a 96×87 Matrix{VariableRef}:\n",
       " PBusInjection[1,5]   PBusInjection[1,56]   …  PBusInjection[1,65]\n",
       " PBusInjection[2,5]   PBusInjection[2,56]      PBusInjection[2,65]\n",
       " PBusInjection[3,5]   PBusInjection[3,56]      PBusInjection[3,65]\n",
       " PBusInjection[4,5]   PBusInjection[4,56]      PBusInjection[4,65]\n",
       " PBusInjection[5,5]   PBusInjection[5,56]      PBusInjection[5,65]\n",
       " PBusInjection[6,5]   PBusInjection[6,56]   …  PBusInjection[6,65]\n",
       " PBusInjection[7,5]   PBusInjection[7,56]      PBusInjection[7,65]\n",
       " PBusInjection[8,5]   PBusInjection[8,56]      PBusInjection[8,65]\n",
       " PBusInjection[9,5]   PBusInjection[9,56]      PBusInjection[9,65]\n",
       " PBusInjection[10,5]  PBusInjection[10,56]     PBusInjection[10,65]\n",
       " ⋮                                          ⋱  \n",
       " PBusInjection[88,5]  PBusInjection[88,56]     PBusInjection[88,65]\n",
       " PBusInjection[89,5]  PBusInjection[89,56]     PBusInjection[89,65]\n",
       " PBusInjection[90,5]  PBusInjection[90,56]     PBusInjection[90,65]\n",
       " PBusInjection[91,5]  PBusInjection[91,56]  …  PBusInjection[91,65]\n",
       " PBusInjection[92,5]  PBusInjection[92,56]     PBusInjection[92,65]\n",
       " PBusInjection[93,5]  PBusInjection[93,56]     PBusInjection[93,65]\n",
       " PBusInjection[94,5]  PBusInjection[94,56]     PBusInjection[94,65]\n",
       " PBusInjection[95,5]  PBusInjection[95,56]     PBusInjection[95,65]\n",
       " PBusInjection[96,5]  PBusInjection[96,56]  …  PBusInjection[96,65], 2-dimensional DenseAxisArray{VariableRef,2,...} with index sets:\n",
       "    Dimension 1, 1:96\n",
       "    Dimension 2, [5, 56, 35, 55, 60, 30, 32, 6, 67, 45  …  83, 14, 3, 80, 51, 33, 40, 48, 15, 65]\n",
       "And data, a 96×87 Matrix{VariableRef}:\n",
       " QBusInjection[1,5]   QBusInjection[1,56]   …  QBusInjection[1,65]\n",
       " QBusInjection[2,5]   QBusInjection[2,56]      QBusInjection[2,65]\n",
       " QBusInjection[3,5]   QBusInjection[3,56]      QBusInjection[3,65]\n",
       " QBusInjection[4,5]   QBusInjection[4,56]      QBusInjection[4,65]\n",
       " QBusInjection[5,5]   QBusInjection[5,56]      QBusInjection[5,65]\n",
       " QBusInjection[6,5]   QBusInjection[6,56]   …  QBusInjection[6,65]\n",
       " QBusInjection[7,5]   QBusInjection[7,56]      QBusInjection[7,65]\n",
       " QBusInjection[8,5]   QBusInjection[8,56]      QBusInjection[8,65]\n",
       " QBusInjection[9,5]   QBusInjection[9,56]      QBusInjection[9,65]\n",
       " QBusInjection[10,5]  QBusInjection[10,56]     QBusInjection[10,65]\n",
       " ⋮                                          ⋱  \n",
       " QBusInjection[88,5]  QBusInjection[88,56]     QBusInjection[88,65]\n",
       " QBusInjection[89,5]  QBusInjection[89,56]     QBusInjection[89,65]\n",
       " QBusInjection[90,5]  QBusInjection[90,56]     QBusInjection[90,65]\n",
       " QBusInjection[91,5]  QBusInjection[91,56]  …  QBusInjection[91,65]\n",
       " QBusInjection[92,5]  QBusInjection[92,56]     QBusInjection[92,65]\n",
       " QBusInjection[93,5]  QBusInjection[93,56]     QBusInjection[93,65]\n",
       " QBusInjection[94,5]  QBusInjection[94,56]     QBusInjection[94,65]\n",
       " QBusInjection[95,5]  QBusInjection[95,56]     QBusInjection[95,65]\n",
       " QBusInjection[96,5]  QBusInjection[96,56]  …  QBusInjection[96,65], 2-dimensional DenseAxisArray{VariableRef,2,...} with index sets:\n",
       "    Dimension 1, 1:96\n",
       "    Dimension 2, [5, 56, 35, 55, 60, 30, 32, 6, 67, 45  …  83, 14, 3, 80, 51, 33, 40, 48, 15, 65]\n",
       "And data, a 96×87 Matrix{VariableRef}:\n",
       " VoltSquare[1,5]   VoltSquare[1,56]   VoltSquare[1,35]   …  VoltSquare[1,65]\n",
       " VoltSquare[2,5]   VoltSquare[2,56]   VoltSquare[2,35]      VoltSquare[2,65]\n",
       " VoltSquare[3,5]   VoltSquare[3,56]   VoltSquare[3,35]      VoltSquare[3,65]\n",
       " VoltSquare[4,5]   VoltSquare[4,56]   VoltSquare[4,35]      VoltSquare[4,65]\n",
       " VoltSquare[5,5]   VoltSquare[5,56]   VoltSquare[5,35]      VoltSquare[5,65]\n",
       " VoltSquare[6,5]   VoltSquare[6,56]   VoltSquare[6,35]   …  VoltSquare[6,65]\n",
       " VoltSquare[7,5]   VoltSquare[7,56]   VoltSquare[7,35]      VoltSquare[7,65]\n",
       " VoltSquare[8,5]   VoltSquare[8,56]   VoltSquare[8,35]      VoltSquare[8,65]\n",
       " VoltSquare[9,5]   VoltSquare[9,56]   VoltSquare[9,35]      VoltSquare[9,65]\n",
       " VoltSquare[10,5]  VoltSquare[10,56]  VoltSquare[10,35]     VoltSquare[10,65]\n",
       " ⋮                                                       ⋱  \n",
       " VoltSquare[88,5]  VoltSquare[88,56]  VoltSquare[88,35]     VoltSquare[88,65]\n",
       " VoltSquare[89,5]  VoltSquare[89,56]  VoltSquare[89,35]     VoltSquare[89,65]\n",
       " VoltSquare[90,5]  VoltSquare[90,56]  VoltSquare[90,35]     VoltSquare[90,65]\n",
       " VoltSquare[91,5]  VoltSquare[91,56]  VoltSquare[91,35]  …  VoltSquare[91,65]\n",
       " VoltSquare[92,5]  VoltSquare[92,56]  VoltSquare[92,35]     VoltSquare[92,65]\n",
       " VoltSquare[93,5]  VoltSquare[93,56]  VoltSquare[93,35]     VoltSquare[93,65]\n",
       " VoltSquare[94,5]  VoltSquare[94,56]  VoltSquare[94,35]     VoltSquare[94,65]\n",
       " VoltSquare[95,5]  VoltSquare[95,56]  VoltSquare[95,35]     VoltSquare[95,65]\n",
       " VoltSquare[96,5]  VoltSquare[96,56]  VoltSquare[96,35]  …  VoltSquare[96,65], 2-dimensional DenseAxisArray{VariableRef,2,...} with index sets:\n",
       "    Dimension 1, 1:96\n",
       "    Dimension 2, [78, 56, 55, 79, 81, 58, 52, 60, 72, 75  …  76, 57, 59, 50, 70, 54, 63, 86, 65, 62]\n",
       "And data, a 96×37 Matrix{VariableRef}:\n",
       " PVactivePower[1,78]   PVactivePower[1,56]   …  PVactivePower[1,62]\n",
       " PVactivePower[2,78]   PVactivePower[2,56]      PVactivePower[2,62]\n",
       " PVactivePower[3,78]   PVactivePower[3,56]      PVactivePower[3,62]\n",
       " PVactivePower[4,78]   PVactivePower[4,56]      PVactivePower[4,62]\n",
       " PVactivePower[5,78]   PVactivePower[5,56]      PVactivePower[5,62]\n",
       " PVactivePower[6,78]   PVactivePower[6,56]   …  PVactivePower[6,62]\n",
       " PVactivePower[7,78]   PVactivePower[7,56]      PVactivePower[7,62]\n",
       " PVactivePower[8,78]   PVactivePower[8,56]      PVactivePower[8,62]\n",
       " PVactivePower[9,78]   PVactivePower[9,56]      PVactivePower[9,62]\n",
       " PVactivePower[10,78]  PVactivePower[10,56]     PVactivePower[10,62]\n",
       " ⋮                                           ⋱  \n",
       " PVactivePower[88,78]  PVactivePower[88,56]     PVactivePower[88,62]\n",
       " PVactivePower[89,78]  PVactivePower[89,56]     PVactivePower[89,62]\n",
       " PVactivePower[90,78]  PVactivePower[90,56]     PVactivePower[90,62]\n",
       " PVactivePower[91,78]  PVactivePower[91,56]  …  PVactivePower[91,62]\n",
       " PVactivePower[92,78]  PVactivePower[92,56]     PVactivePower[92,62]\n",
       " PVactivePower[93,78]  PVactivePower[93,56]     PVactivePower[93,62]\n",
       " PVactivePower[94,78]  PVactivePower[94,56]     PVactivePower[94,62]\n",
       " PVactivePower[95,78]  PVactivePower[95,56]     PVactivePower[95,62]\n",
       " PVactivePower[96,78]  PVactivePower[96,56]  …  PVactivePower[96,62], 2-dimensional DenseAxisArray{VariableRef,2,...} with index sets:\n",
       "    Dimension 1, 1:96\n",
       "    Dimension 2, [78, 56, 55, 79, 81, 58, 52, 60, 72, 75  …  76, 57, 59, 50, 70, 54, 63, 86, 65, 62]\n",
       "And data, a 96×37 Matrix{VariableRef}:\n",
       " PVreactivePower[1,78]   PVreactivePower[1,56]   …  PVreactivePower[1,62]\n",
       " PVreactivePower[2,78]   PVreactivePower[2,56]      PVreactivePower[2,62]\n",
       " PVreactivePower[3,78]   PVreactivePower[3,56]      PVreactivePower[3,62]\n",
       " PVreactivePower[4,78]   PVreactivePower[4,56]      PVreactivePower[4,62]\n",
       " PVreactivePower[5,78]   PVreactivePower[5,56]      PVreactivePower[5,62]\n",
       " PVreactivePower[6,78]   PVreactivePower[6,56]   …  PVreactivePower[6,62]\n",
       " PVreactivePower[7,78]   PVreactivePower[7,56]      PVreactivePower[7,62]\n",
       " PVreactivePower[8,78]   PVreactivePower[8,56]      PVreactivePower[8,62]\n",
       " PVreactivePower[9,78]   PVreactivePower[9,56]      PVreactivePower[9,62]\n",
       " PVreactivePower[10,78]  PVreactivePower[10,56]     PVreactivePower[10,62]\n",
       " ⋮                                               ⋱  \n",
       " PVreactivePower[88,78]  PVreactivePower[88,56]     PVreactivePower[88,62]\n",
       " PVreactivePower[89,78]  PVreactivePower[89,56]     PVreactivePower[89,62]\n",
       " PVreactivePower[90,78]  PVreactivePower[90,56]     PVreactivePower[90,62]\n",
       " PVreactivePower[91,78]  PVreactivePower[91,56]  …  PVreactivePower[91,62]\n",
       " PVreactivePower[92,78]  PVreactivePower[92,56]     PVreactivePower[92,62]\n",
       " PVreactivePower[93,78]  PVreactivePower[93,56]     PVreactivePower[93,62]\n",
       " PVreactivePower[94,78]  PVreactivePower[94,56]     PVreactivePower[94,62]\n",
       " PVreactivePower[95,78]  PVreactivePower[95,56]     PVreactivePower[95,62]\n",
       " PVreactivePower[96,78]  PVreactivePower[96,56]  …  PVreactivePower[96,62], 2-dimensional DenseAxisArray{VariableRef,2,...} with index sets:\n",
       "    Dimension 1, 1:96\n",
       "    Dimension 2, [78, 56, 55, 79, 81, 58, 52, 60, 72, 75  …  76, 57, 59, 50, 70, 54, 63, 86, 65, 62]\n",
       "And data, a 96×37 Matrix{VariableRef}:\n",
       " PVcurtailedActivePower[1,78]   …  PVcurtailedActivePower[1,62]\n",
       " PVcurtailedActivePower[2,78]      PVcurtailedActivePower[2,62]\n",
       " PVcurtailedActivePower[3,78]      PVcurtailedActivePower[3,62]\n",
       " PVcurtailedActivePower[4,78]      PVcurtailedActivePower[4,62]\n",
       " PVcurtailedActivePower[5,78]      PVcurtailedActivePower[5,62]\n",
       " PVcurtailedActivePower[6,78]   …  PVcurtailedActivePower[6,62]\n",
       " PVcurtailedActivePower[7,78]      PVcurtailedActivePower[7,62]\n",
       " PVcurtailedActivePower[8,78]      PVcurtailedActivePower[8,62]\n",
       " PVcurtailedActivePower[9,78]      PVcurtailedActivePower[9,62]\n",
       " PVcurtailedActivePower[10,78]     PVcurtailedActivePower[10,62]\n",
       " ⋮                              ⋱  \n",
       " PVcurtailedActivePower[88,78]     PVcurtailedActivePower[88,62]\n",
       " PVcurtailedActivePower[89,78]     PVcurtailedActivePower[89,62]\n",
       " PVcurtailedActivePower[90,78]     PVcurtailedActivePower[90,62]\n",
       " PVcurtailedActivePower[91,78]  …  PVcurtailedActivePower[91,62]\n",
       " PVcurtailedActivePower[92,78]     PVcurtailedActivePower[92,62]\n",
       " PVcurtailedActivePower[93,78]     PVcurtailedActivePower[93,62]\n",
       " PVcurtailedActivePower[94,78]     PVcurtailedActivePower[94,62]\n",
       " PVcurtailedActivePower[95,78]     PVcurtailedActivePower[95,62]\n",
       " PVcurtailedActivePower[96,78]  …  PVcurtailedActivePower[96,62], 2-dimensional DenseAxisArray{VariableRef,2,...} with index sets:\n",
       "    Dimension 1, 1:96\n",
       "    Dimension 2, [64, 56, 84, 78, 66, 75, 57, 50, 67, 68, 82, 74]\n",
       "And data, a 96×12 Matrix{VariableRef}:\n",
       " HPactivePower[1,64]   HPactivePower[1,56]   …  HPactivePower[1,74]\n",
       " HPactivePower[2,64]   HPactivePower[2,56]      HPactivePower[2,74]\n",
       " HPactivePower[3,64]   HPactivePower[3,56]      HPactivePower[3,74]\n",
       " HPactivePower[4,64]   HPactivePower[4,56]      HPactivePower[4,74]\n",
       " HPactivePower[5,64]   HPactivePower[5,56]      HPactivePower[5,74]\n",
       " HPactivePower[6,64]   HPactivePower[6,56]   …  HPactivePower[6,74]\n",
       " HPactivePower[7,64]   HPactivePower[7,56]      HPactivePower[7,74]\n",
       " HPactivePower[8,64]   HPactivePower[8,56]      HPactivePower[8,74]\n",
       " HPactivePower[9,64]   HPactivePower[9,56]      HPactivePower[9,74]\n",
       " HPactivePower[10,64]  HPactivePower[10,56]     HPactivePower[10,74]\n",
       " ⋮                                           ⋱  \n",
       " HPactivePower[88,64]  HPactivePower[88,56]     HPactivePower[88,74]\n",
       " HPactivePower[89,64]  HPactivePower[89,56]     HPactivePower[89,74]\n",
       " HPactivePower[90,64]  HPactivePower[90,56]     HPactivePower[90,74]\n",
       " HPactivePower[91,64]  HPactivePower[91,56]  …  HPactivePower[91,74]\n",
       " HPactivePower[92,64]  HPactivePower[92,56]     HPactivePower[92,74]\n",
       " HPactivePower[93,64]  HPactivePower[93,56]     HPactivePower[93,74]\n",
       " HPactivePower[94,64]  HPactivePower[94,56]     HPactivePower[94,74]\n",
       " HPactivePower[95,64]  HPactivePower[95,56]     HPactivePower[95,74]\n",
       " HPactivePower[96,64]  HPactivePower[96,56]  …  HPactivePower[96,74], 2-dimensional DenseAxisArray{VariableRef,2,...} with index sets:\n",
       "    Dimension 1, 1:96\n",
       "    Dimension 2, [64, 56, 84, 78, 66, 75, 57, 50, 67, 68, 82, 74]\n",
       "And data, a 96×12 Matrix{VariableRef}:\n",
       " HPreactivePower[1,64]   HPreactivePower[1,56]   …  HPreactivePower[1,74]\n",
       " HPreactivePower[2,64]   HPreactivePower[2,56]      HPreactivePower[2,74]\n",
       " HPreactivePower[3,64]   HPreactivePower[3,56]      HPreactivePower[3,74]\n",
       " HPreactivePower[4,64]   HPreactivePower[4,56]      HPreactivePower[4,74]\n",
       " HPreactivePower[5,64]   HPreactivePower[5,56]      HPreactivePower[5,74]\n",
       " HPreactivePower[6,64]   HPreactivePower[6,56]   …  HPreactivePower[6,74]\n",
       " HPreactivePower[7,64]   HPreactivePower[7,56]      HPreactivePower[7,74]\n",
       " HPreactivePower[8,64]   HPreactivePower[8,56]      HPreactivePower[8,74]\n",
       " HPreactivePower[9,64]   HPreactivePower[9,56]      HPreactivePower[9,74]\n",
       " HPreactivePower[10,64]  HPreactivePower[10,56]     HPreactivePower[10,74]\n",
       " ⋮                                               ⋱  \n",
       " HPreactivePower[88,64]  HPreactivePower[88,56]     HPreactivePower[88,74]\n",
       " HPreactivePower[89,64]  HPreactivePower[89,56]     HPreactivePower[89,74]\n",
       " HPreactivePower[90,64]  HPreactivePower[90,56]     HPreactivePower[90,74]\n",
       " HPreactivePower[91,64]  HPreactivePower[91,56]  …  HPreactivePower[91,74]\n",
       " HPreactivePower[92,64]  HPreactivePower[92,56]     HPreactivePower[92,74]\n",
       " HPreactivePower[93,64]  HPreactivePower[93,56]     HPreactivePower[93,74]\n",
       " HPreactivePower[94,64]  HPreactivePower[94,56]     HPreactivePower[94,74]\n",
       " HPreactivePower[95,64]  HPreactivePower[95,56]     HPreactivePower[95,74]\n",
       " HPreactivePower[96,64]  HPreactivePower[96,56]  …  HPreactivePower[96,74], 2-dimensional DenseAxisArray{VariableRef,2,...} with index sets:\n",
       "    Dimension 1, 1:96\n",
       "    Dimension 2, [64, 56, 84, 78, 66, 75, 57, 50, 67, 68, 82, 74]\n",
       "And data, a 96×12 Matrix{VariableRef}:\n",
       " HPOnOff[1,64]   HPOnOff[1,56]   …  HPOnOff[1,82]   HPOnOff[1,74]\n",
       " HPOnOff[2,64]   HPOnOff[2,56]      HPOnOff[2,82]   HPOnOff[2,74]\n",
       " HPOnOff[3,64]   HPOnOff[3,56]      HPOnOff[3,82]   HPOnOff[3,74]\n",
       " HPOnOff[4,64]   HPOnOff[4,56]      HPOnOff[4,82]   HPOnOff[4,74]\n",
       " HPOnOff[5,64]   HPOnOff[5,56]      HPOnOff[5,82]   HPOnOff[5,74]\n",
       " HPOnOff[6,64]   HPOnOff[6,56]   …  HPOnOff[6,82]   HPOnOff[6,74]\n",
       " HPOnOff[7,64]   HPOnOff[7,56]      HPOnOff[7,82]   HPOnOff[7,74]\n",
       " HPOnOff[8,64]   HPOnOff[8,56]      HPOnOff[8,82]   HPOnOff[8,74]\n",
       " HPOnOff[9,64]   HPOnOff[9,56]      HPOnOff[9,82]   HPOnOff[9,74]\n",
       " HPOnOff[10,64]  HPOnOff[10,56]     HPOnOff[10,82]  HPOnOff[10,74]\n",
       " ⋮                               ⋱  ⋮               \n",
       " HPOnOff[88,64]  HPOnOff[88,56]     HPOnOff[88,82]  HPOnOff[88,74]\n",
       " HPOnOff[89,64]  HPOnOff[89,56]     HPOnOff[89,82]  HPOnOff[89,74]\n",
       " HPOnOff[90,64]  HPOnOff[90,56]     HPOnOff[90,82]  HPOnOff[90,74]\n",
       " HPOnOff[91,64]  HPOnOff[91,56]  …  HPOnOff[91,82]  HPOnOff[91,74]\n",
       " HPOnOff[92,64]  HPOnOff[92,56]     HPOnOff[92,82]  HPOnOff[92,74]\n",
       " HPOnOff[93,64]  HPOnOff[93,56]     HPOnOff[93,82]  HPOnOff[93,74]\n",
       " HPOnOff[94,64]  HPOnOff[94,56]     HPOnOff[94,82]  HPOnOff[94,74]\n",
       " HPOnOff[95,64]  HPOnOff[95,56]     HPOnOff[95,82]  HPOnOff[95,74]\n",
       " HPOnOff[96,64]  HPOnOff[96,56]  …  HPOnOff[96,82]  HPOnOff[96,74], 2-dimensional DenseAxisArray{VariableRef,2,...} with index sets:\n",
       "    Dimension 1, 1:96\n",
       "    Dimension 2, [64, 56, 84, 78, 66, 75, 57, 50, 67, 68, 82, 74]\n",
       "And data, a 96×12 Matrix{VariableRef}:\n",
       " HPcurtailedActivePower[1,64]   …  HPcurtailedActivePower[1,74]\n",
       " HPcurtailedActivePower[2,64]      HPcurtailedActivePower[2,74]\n",
       " HPcurtailedActivePower[3,64]      HPcurtailedActivePower[3,74]\n",
       " HPcurtailedActivePower[4,64]      HPcurtailedActivePower[4,74]\n",
       " HPcurtailedActivePower[5,64]      HPcurtailedActivePower[5,74]\n",
       " HPcurtailedActivePower[6,64]   …  HPcurtailedActivePower[6,74]\n",
       " HPcurtailedActivePower[7,64]      HPcurtailedActivePower[7,74]\n",
       " HPcurtailedActivePower[8,64]      HPcurtailedActivePower[8,74]\n",
       " HPcurtailedActivePower[9,64]      HPcurtailedActivePower[9,74]\n",
       " HPcurtailedActivePower[10,64]     HPcurtailedActivePower[10,74]\n",
       " ⋮                              ⋱  \n",
       " HPcurtailedActivePower[88,64]     HPcurtailedActivePower[88,74]\n",
       " HPcurtailedActivePower[89,64]     HPcurtailedActivePower[89,74]\n",
       " HPcurtailedActivePower[90,64]     HPcurtailedActivePower[90,74]\n",
       " HPcurtailedActivePower[91,64]  …  HPcurtailedActivePower[91,74]\n",
       " HPcurtailedActivePower[92,64]     HPcurtailedActivePower[92,74]\n",
       " HPcurtailedActivePower[93,64]     HPcurtailedActivePower[93,74]\n",
       " HPcurtailedActivePower[94,64]     HPcurtailedActivePower[94,74]\n",
       " HPcurtailedActivePower[95,64]     HPcurtailedActivePower[95,74]\n",
       " HPcurtailedActivePower[96,64]  …  HPcurtailedActivePower[96,74])"
      ]
     },
     "metadata": {},
     "output_type": "display_data"
    }
   ],
   "source": [
    "model = GEC(network=network, \n",
    "            connections=connections, \n",
    "            loads_real=loads_real .* 1E-3, \n",
    "            loads_reactive=loads_reactive .* 1E-3,       \n",
    "            meta = meta \n",
    ")\n",
    "     "
   ]
  }
 ],
 "metadata": {
  "kernelspec": {
   "display_name": "Julia 1.10.6",
   "language": "julia",
   "name": "julia-1.10"
  },
  "language_info": {
   "file_extension": ".jl",
   "mimetype": "application/julia",
   "name": "julia",
   "version": "1.10.6"
  }
 },
 "nbformat": 4,
 "nbformat_minor": 2
}
