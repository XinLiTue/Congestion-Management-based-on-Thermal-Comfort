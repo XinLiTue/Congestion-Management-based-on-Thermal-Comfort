{
 "cells": [
  {
   "cell_type": "markdown",
   "metadata": {},
   "source": [
    "# Optimal power flow model in Julia"
   ]
  },
  {
   "cell_type": "code",
   "execution_count": null,
   "metadata": {},
   "outputs": [
    {
     "name": "stderr",
     "output_type": "stream",
     "text": [
      "\u001b[32m\u001b[1m  Activating\u001b[22m\u001b[39m project at `c:\\Users\\lange\\OneDrive\\Projects\\2024\\EEM25\\Congestion-Management-based-on-Thermal-Comfort`\n"
     ]
    }
   ],
   "source": [
    "import Pkg\n",
    "\n",
    "# activate parent environment\n",
    "Pkg.activate(normpath(joinpath(@__DIR__, \".\")))\n",
    "Pkg.resolve()\n",
    "Pkg.instantiate()\n",
    "Pkg.status()\n",
    "\n",
    "using CSV\n",
    "using DataFrames\n",
    "using Dates\n",
    "using CairoMakie\n",
    "using JuMP\n",
    "import JSON\n",
    "import MathOptInterface as MOI\n",
    "\n",
    "using Revise\n",
    "using OptHP"
   ]
  },
  {
   "cell_type": "markdown",
   "metadata": {},
   "source": [
    "## Load data"
   ]
  },
  {
   "cell_type": "code",
   "execution_count": null,
   "metadata": {},
   "outputs": [],
   "source": [
    "network = CSV.read(\"data/network.csv\", DataFrame)\n",
    "# network = CSV.read(\"data/TestNet(in).csv\", DataFrame)\n",
    "\n",
    "# correct StarNode and EndNode for 1 based indexing\n",
    "network.StartNode = network.StartNode .+ 1\n",
    "network.EndNode = network.EndNode .+ 1\n",
    "\n",
    "first(network, 5)"
   ]
  },
  {
   "cell_type": "code",
   "execution_count": null,
   "metadata": {},
   "outputs": [],
   "source": [
    "connections = CSV.read(\"data/user_connect.csv\", DataFrame; delim=\";\")\n",
    "# connections = CSV.read(\"data/user_connect_test.csv\", DataFrame; delim=\";\")\n",
    "\n",
    "# correct for 1 based indexing\n",
    "connections.Node = connections.Node .+ 1\n",
    "\n",
    "# # convert PV (str) to Float64\n",
    "connections.PV = parse.(Float64, replace.(connections.PV, \",\" => \".\"))\n",
    "\n",
    "first(connections, 5)"
   ]
  },
  {
   "cell_type": "code",
   "execution_count": null,
   "metadata": {},
   "outputs": [],
   "source": [
    "loads_real = CSV.read(\"data/UserPower.csv\", DataFrame)\n",
    "loads_real.time = DateTime.(loads_real.time, \"m/d/yyyy H:M p\")\n",
    "\n",
    "loads_reactive = CSV.read(\"data/UserReactivePower.csv\", DataFrame)\n",
    "loads_reactive.time = DateTime.(loads_reactive.time, \"m/d/yyyy H:M p\")\n",
    "\n",
    "# Filter for rows where the date is February 1, 2024\n",
    "date = Date(2024, 2, 1)\n",
    "loads_real = loads_real[Date.(loads_real.time) .== date, 3:end]\n",
    "loads_reactive = loads_reactive[Date.(loads_reactive.time) .== date, 3:end]\n",
    "first(loads_real, 5)"
   ]
  },
  {
   "cell_type": "markdown",
   "metadata": {},
   "source": [
    "## Build graph model"
   ]
  },
  {
   "cell_type": "code",
   "execution_count": null,
   "metadata": {},
   "outputs": [],
   "source": [
    "# Step 1: Identify all unique nodes\n",
    "nodes = 0:maximum(vcat(network.EndNode, network.StartNode))\n",
    "node_indices = Dict(node => i for (i, node) in enumerate(nodes))  # Map nodes to indices\n",
    "\n",
    "# Step 2: Initialize an adjacency matrix\n",
    "n = length(nodes)\n",
    "adjacency_matrix = zeros(Int, n, n)\n",
    "\n",
    "# Step 3: Populate the matrix with connections\n",
    "for (start_node, end_node) in zip(network.StartNode, network.EndNode)\n",
    "    j = node_indices[start_node]\n",
    "    i = node_indices[end_node]\n",
    "    adjacency_matrix[i, j] = 1\n",
    "end\n",
    "\n",
    "# this gives:\n",
    "# --- StartNode ---\n",
    "#   0, 1, 2, 3, ...\n",
    "# 0 1, 0, 0, 0, ... \n",
    "# 1 0, 0, 1, 0, ...\n",
    "# 2 0, 0, 0, 1, ...\n",
    "df_adj = DataFrame(adjacency_matrix, string.(nodes))\n",
    "\n",
    "# save as CSV\n",
    "CSV.write(\"data/adjacency_matrix.csv\", df_adj, delim=\",\")"
   ]
  },
  {
   "cell_type": "markdown",
   "metadata": {},
   "source": [
    "## Construct GEC"
   ]
  },
  {
   "cell_type": "code",
   "execution_count": null,
   "metadata": {},
   "outputs": [],
   "source": [
    "model = GEC(network=network, \n",
    "            connections=connections, \n",
    "            loads_real=loads_real .* 1E-3, \n",
    "            loads_reactive=loads_reactive .* 1E-3,        \n",
    ")"
   ]
  },
  {
   "cell_type": "code",
   "execution_count": null,
   "metadata": {},
   "outputs": [],
   "source": [
    "solution_summary(model)"
   ]
  },
  {
   "cell_type": "code",
   "execution_count": null,
   "metadata": {},
   "outputs": [],
   "source": [
    "function prepare_solution(model)\n",
    "    # prepare JuMP solution for plotting\n",
    "    sol = Dict{Symbol, Vector{Float64}}()\n",
    "    for var in [:P, :Q, :P_pv, :P_hp, :P_hp_down, :P_pv_down]\n",
    "        sol[var] = vec(sum(Matrix{Float64}(value.(model[var]; result=1)), dims=2)) .* 1E3\n",
    "    end\n",
    "\n",
    "    # some solutions have to be corrected\n",
    "    for var in [:P, :Q]\n",
    "        sol[var] = sol[var] .* -1\n",
    "    end\n",
    "    return sol\n",
    "end"
   ]
  },
  {
   "cell_type": "code",
   "execution_count": null,
   "metadata": {},
   "outputs": [],
   "source": [
    "sol = prepare_solution(model)\n",
    "\n",
    "# plot using Makie\n",
    "fig = Figure(; size = (1000, 600))\n",
    "ax = Axis(fig[1, 1], xlabel = \"Time [hours]\", \n",
    "    ylabel = \"Power [kW]\", \n",
    "    title = \"Power flow\",\n",
    "    xticks = (1:4:97, string.(0:1:24))\n",
    ")\n",
    "\n",
    "P_trafo = Matrix(value.(model[:P]; result=1))[:, 1] .* -1E3\n",
    "\n",
    "# lines!(ax, sol[:P], color = :blue, label = \"Transformer\", linestyle = :so\n",
    "scatterlines!(ax, P_trafo, color = :blue, label = \"Transformer\", linewidth = 2)\n",
    "# scatterlines!(ax, sol[:Q], color = :green, label = \"Reactive power\", linewidth = 2)\n",
    "scatterlines!(ax, sol[:P_hp], color = :red, label = \"Heat pump\", linewidth = 2)\n",
    "scatterlines!(ax, sol[:P_pv], color = :orange, label = \"PV\", linewidth = 2)\n",
    "scatterlines!(ax, sol[:P_hp_down], color = :purple, label = \"Heat pump (down)\", marker=:cross, linewidth = 2)\n",
    "scatterlines!(ax, sol[:P_pv_down], color = :black, label = \"PV (down)\", marker=:x, linewidth = 2)\n",
    "# fig[1, 2] = Legend(fig, ax)\n",
    "axislegend(ax, merge = true, position = :lb)\n",
    "\n",
    "# display\n",
    "fig"
   ]
  },
  {
   "cell_type": "code",
   "execution_count": null,
   "metadata": {},
   "outputs": [],
   "source": [
    "P_load_user = Vector{Float64}(value.(model[:P_load_user]; result=1)) .* 1E3\n",
    "P_loss = Vector{Float64}(value.(model[:P_loss]; result=1)) .* 1E3\n",
    "P_trafo = Matrix(value.(model[:P]; result=1))[:, 1] .* -1E3\n",
    "\n",
    "# plot using Makie\n",
    "fig_load = Figure(; size = (1000, 600))\n",
    "axl = Axis(fig_load[1, 1], xlabel = \"Time [hours]\", \n",
    "    ylabel = \"Power [kW]\", \n",
    "    title = \"Power flow\",\n",
    "    xticks = (1:4:97, string.(0:1:24))\n",
    ")\n",
    "\n",
    "scatterlines!(axl, P_trafo, color = :blue, label = \"Transformer\", linewidth = 2)\n",
    "scatterlines!(axl, P_load_user, color = :purple, label = \"P_load_user\", linewidth = 2)\n",
    "scatterlines!(axl, P_loss, color = :red, label = \"P_loss\", linewidth = 2)\n",
    "axislegend(axl, merge = true, position = :lb)\n",
    "\n",
    "# display\n",
    "fig_load"
   ]
  },
  {
   "cell_type": "code",
   "execution_count": null,
   "metadata": {},
   "outputs": [],
   "source": [
    "V = Matrix(value.(model[:V]; result=1))\n",
    "V_ref = 0.23 # [kV]\n",
    "\n",
    "I = Matrix(value.(model[:I]; result=1)) .* 1E3\n",
    "\n",
    "# plot using Makie\n",
    "fig_volt = Figure(; size = (1000, 600))\n",
    "axv = Axis(fig_volt[1, 1], xlabel = \"Time [hours]\", \n",
    "    ylabel = \"Voltage [V]\", \n",
    "    title = \"Voltage\",\n",
    "    xticks = (1:4:97, string.(0:1:24))\n",
    ")\n",
    "\n",
    "# scatterlines!(axv, V, color = :blue, label = \"Voltage\", linewidth = 2)\n",
    "for i in 1:size(V, 2)\n",
    "    scatterlines!(axv, sqrt.(V[:, i]), color = :blue, label = \"Voltage\", linewidth = 2)\n",
    "end\n",
    "\n",
    "# twin axis \n",
    "axv2 = Axis(fig_volt[1, 1], xlabel = \"Time [hours]\", \n",
    "    ylabel = \"Current [A]\", \n",
    "    title = \"Current\",\n",
    "    xticks = (1:4:97, string.(0:1:24)),\n",
    "    # move axis to the right\n",
    "    yaxisposition = :right\n",
    ")\n",
    "for i in 1:size(I, 2)\n",
    "    scatterlines!(axv2, I[:, i], color = :red, label = \"Current\", linewidth = 2)\n",
    "end\n",
    "axislegend(axv, merge = true, position = :lb)\n",
    "\n",
    "\n",
    "# display\n",
    "fig_volt"
   ]
  },
  {
   "cell_type": "markdown",
   "metadata": {},
   "source": [
    "## Write model to LP file"
   ]
  },
  {
   "cell_type": "code",
   "execution_count": 20,
   "metadata": {},
   "outputs": [],
   "source": [
    "# model = MOI.FileFormats.Model(format = MOI.FileFormats.FORMAT_LP)\n",
    "# src = MOI.Utilities.Model{Float64}()\n",
    "dest = MOI.FileFormats.Model(format = MOI.FileFormats.FORMAT_LP);\n",
    "MOI.copy_to(dest, model)\n",
    "MOI.write_to_file(dest, \"model_jl_test.txt\")"
   ]
  },
  {
   "cell_type": "code",
   "execution_count": null,
   "metadata": {},
   "outputs": [],
   "source": [
    "solution = Dict(name(x) => value(x) for x in all_variables(model))\n",
    "write(\"solution.json\", JSON.json(solution))"
   ]
  }
 ],
 "metadata": {
  "kernelspec": {
   "display_name": "Julia 1.10.6",
   "language": "julia",
   "name": "julia-1.10"
  },
  "language_info": {
   "file_extension": ".jl",
   "mimetype": "application/julia",
   "name": "julia",
   "version": "1.10.6"
  }
 },
 "nbformat": 4,
 "nbformat_minor": 2
}
