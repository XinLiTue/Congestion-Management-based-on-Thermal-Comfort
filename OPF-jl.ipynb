{
 "cells": [
  {
   "cell_type": "markdown",
   "metadata": {},
   "source": [
    "\n",
    "# Optimal power flow model in Julia"
   ]
  },
  {
   "cell_type": "code",
   "execution_count": null,
   "metadata": {},
   "outputs": [],
   "source": [
    "import Pkg\n",
    "\n",
    "# activate parent environment\n",
    "Pkg.activate(normpath(joinpath(@__DIR__, \".\")))\n",
    "Pkg.resolve()\n",
    "Pkg.instantiate()\n",
    "Pkg.status()\n",
    "\n",
    "using CSV\n",
    "using DataFrames\n",
    "using Dates\n",
    "using TimeZones\n",
    "using CairoMakie\n",
    "using JuMP\n",
    "import JSON\n",
    "import MathOptInterface as MOI\n",
    "\n",
    "using Revise\n",
    "using OptHP"
   ]
  },
  {
   "cell_type": "markdown",
   "metadata": {},
   "source": [
    "## Load data"
   ]
  },
  {
   "cell_type": "code",
   "execution_count": null,
   "metadata": {},
   "outputs": [],
   "source": [
    "network = CSV.read(\"data/network.csv\", DataFrame)\n",
    "first(network, 5)"
   ]
  },
  {
   "cell_type": "code",
   "execution_count": null,
   "metadata": {},
   "outputs": [],
   "source": [
    "connections = CSV.read(\"data/user_connect.csv\", DataFrame; delim=\";\")\n",
    "\n",
    "# convert PV (str) to Float64\n",
    "connections.PV = parse.(Float64, replace.(connections.PV, \",\" => \".\"))\n",
    "\n",
    "first(connections, 5)"
   ]
  },
  {
   "cell_type": "code",
   "execution_count": null,
   "metadata": {},
   "outputs": [],
   "source": [
    "loads_real = CSV.read(\"data/UserPower.csv\", DataFrame)\n",
    "loads_real.time = DateTime.(loads_real.time, \"m/d/yyyy H:M p\")\n",
    "\n",
    "loads_reactive = CSV.read(\"data/UserReactivePower.csv\", DataFrame)\n",
    "loads_reactive.time = DateTime.(loads_reactive.time, \"m/d/yyyy H:M p\")\n",
    "\n",
    "# Filter for rows where the date is February 1, 2024\n",
    "date = Date(2024, 2, 1)\n",
    "loads_real = loads_real[Date.(loads_real.time) .== date, 3:end] .* 10\n",
    "loads_reactive = loads_reactive[Date.(loads_reactive.time) .== date, 3:end] .* 10\n",
    "first(loads_real, 5)"
   ]
  },
  {
   "cell_type": "markdown",
   "metadata": {},
   "source": [
    "## Load state-space matrices"
   ]
  },
  {
   "cell_type": "code",
   "execution_count": null,
   "metadata": {},
   "outputs": [],
   "source": [
    "id = \"H14\"\n",
    "\n",
    "A_d = Matrix(CSV.read(\"data/$(id)/$(id)_15min_A_exact.csv\", DataFrame))\n",
    "B_d = Matrix(CSV.read(\"data/$(id)/$(id)_15min_B_exact.csv\", DataFrame))\n",
    "\n",
    "H14_meta = Dict(\n",
    "    \"A\" => A_d,\n",
    "    \"B\" => B_d\n",
    ")\n",
    "\n",
    "meta = Dict(\n",
    "    \"H14\" => H14_meta\n",
    ")"
   ]
  },
  {
   "cell_type": "markdown",
   "metadata": {},
   "source": [
    "## Read weather data"
   ]
  },
  {
   "cell_type": "code",
   "execution_count": null,
   "metadata": {},
   "outputs": [],
   "source": [
    "weather_df = CSV.read(\"data/weather/weather.csv\", DataFrame)\n",
    "select!(weather_df, Not([:interpolated]))\n",
    "rename!(weather_df, Dict(\"P_solar\" => \"Φ_s\", \"T_ambient\" => \"T_a\"))\n",
    "\n",
    "dt_format = \"yyyy-mm-ddTHH:MM:SS.sss+zzzz\"\n",
    "weather_df.timestamp = ZonedDateTime.(String.(weather_df.timestamp), dt_format)\n",
    "weather_df = interpolate_data(weather_df, 15)\n",
    "\n",
    "# select a particular day\n",
    "date = Date(2024, 4, 1)\n",
    "weather_df = weather_df[Date.(weather_df.timestamp) .== date, :]\n",
    "\n",
    "# add electricity price [€/kWh]\n",
    "weather_df.λ_e .= 0.21\n",
    "\n",
    "# convert Φ_s from W to kW\n",
    "weather_df.Φ_s .= weather_df.Φ_s ./ 1000\n",
    "\n",
    "println(\"Weather data shape: \", size(weather_df))\n",
    "first(weather_df, 5)"
   ]
  },
  {
   "cell_type": "code",
   "execution_count": null,
   "metadata": {},
   "outputs": [],
   "source": [
    "# plot the weather data\n",
    "fig = Figure(; size = (1000, 600))\n",
    "\n",
    "ax1 = Axis(fig[1, 1], xlabel=\"Time\", ylabel=\"Solar Irradiance [W/m²]\")\n",
    "ax2 = Axis(fig[2, 1], xlabel=\"Time\", ylabel=\"Ambient Temperature [°C]\")\n",
    "\n",
    "lines!(ax1, DateTime.(weather_df.timestamp), weather_df.Φ_s, color=:blue)\n",
    "lines!(ax2, DateTime.(weather_df.timestamp), weather_df.T_a, color=:red)\n",
    "\n",
    "fig"
   ]
  },
  {
   "cell_type": "markdown",
   "metadata": {},
   "source": [
    "## Plot user power in kW"
   ]
  },
  {
   "cell_type": "code",
   "execution_count": null,
   "metadata": {},
   "outputs": [],
   "source": [
    "# plot user power data\n",
    "fig = Figure(; size = (1000, 600))\n",
    "\n",
    "for (i,user) in enumerate([50,54,56,76])\n",
    "\n",
    "    ax = Axis(fig[i, 1], xlabel=\"Time\", ylabel=\"Power [kW]\")\n",
    "    lines!(ax, loads_real[:, \"$user\"], label=\"Real\", color=:blue)\n",
    "    lines!(ax, loads_reactive[:, \"$user\"], label=\"Reactive\", color=:red)\n",
    "    axislegend(ax)\n",
    "end\n",
    "\n",
    "fig"
   ]
  },
  {
   "cell_type": "markdown",
   "metadata": {},
   "source": [
    "## Construct GEC"
   ]
  },
  {
   "cell_type": "code",
   "execution_count": null,
   "metadata": {},
   "outputs": [],
   "source": [
    "model = GEC(network=network, \n",
    "            connections=connections, \n",
    "            loads_real=loads_real, \n",
    "            loads_reactive=loads_reactive,   \n",
    "            weather=weather_df,    \n",
    "            meta = meta,\n",
    "            silent=false \n",
    ")"
   ]
  },
  {
   "cell_type": "markdown",
   "metadata": {},
   "source": [
    "## Test some outputs"
   ]
  },
  {
   "cell_type": "code",
   "execution_count": null,
   "metadata": {},
   "outputs": [],
   "source": [
    "# plot using Makie\n",
    "fig = Figure(; size = (1000, 600))\n",
    "ax = Axis(fig[1, 1], xlabel = \"Time [hours]\", \n",
    "    ylabel = \"Power [kW]\", \n",
    "    title = \"Power flow\",\n",
    "    xticks = (1:4:97, string.(0:1:24))\n",
    ")\n",
    "\n",
    "# index of slack bus (transformer)\n",
    "SB = argmin(value.(model[:P]).axes[2])\n",
    "P_trafo = Matrix(value.(model[:P]; result=1))[:, SB] .* -1E3\n",
    "\n",
    "\n",
    "# lines!(ax, sol[:P], color = :blue, label = \"Transformer\", linestyle = :so\n",
    "scatterlines!(ax, P_trafo, color = :blue, label = \"P trafo\", linewidth = 2)\n",
    "axislegend(ax, position = :lb)\n",
    "\n",
    "# display\n",
    "fig\n"
   ]
  }
 ],
 "metadata": {
  "kernelspec": {
   "display_name": "Julia 1.10.6",
   "language": "julia",
   "name": "julia-1.10"
  },
  "language_info": {
   "file_extension": ".jl",
   "mimetype": "application/julia",
   "name": "julia",
   "version": "1.10.6"
  }
 },
 "nbformat": 4,
 "nbformat_minor": 2
}
