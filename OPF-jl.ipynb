{
 "cells": [
  {
   "cell_type": "markdown",
   "metadata": {},
   "source": [
    "# Optimal power flow model in Julia"
   ]
  },
  {
   "cell_type": "code",
   "execution_count": 1,
   "metadata": {},
   "outputs": [
    {
     "name": "stderr",
     "output_type": "stream",
     "text": [
      "\u001b[32m\u001b[1m  Activating\u001b[22m\u001b[39m project at `c:\\Users\\lange\\OneDrive\\Projects\\2024\\Congestion-Management-based-on-Thermal-Comfort`\n",
      "\u001b[32m\u001b[1m  No Changes\u001b[22m\u001b[39m to `C:\\Users\\lange\\OneDrive\\Projects\\2024\\Congestion-Management-based-on-Thermal-Comfort\\Project.toml`\n",
      "\u001b[32m\u001b[1m  No Changes\u001b[22m\u001b[39m to `C:\\Users\\lange\\OneDrive\\Projects\\2024\\Congestion-Management-based-on-Thermal-Comfort\\Manifest.toml`\n",
      "\u001b[32m\u001b[1mPrecompiling\u001b[22m\u001b[39m project...\n",
      "\u001b[32m  ✓ \u001b[39mOptHP\n",
      "  1 dependency successfully precompiled in 6 seconds. 69 already precompiled."
     ]
    },
    {
     "name": "stdout",
     "output_type": "stream",
     "text": [
      "\u001b[32m\u001b[1mStatus\u001b[22m\u001b[39m `C:\\Users\\lange\\OneDrive\\Projects\\2024\\Congestion-Management-based-on-Thermal-Comfort\\Project.toml`\n",
      "  \u001b[90m[336ed68f] \u001b[39mCSV v0.10.15\n",
      "  \u001b[90m[a93c6f00] \u001b[39mDataFrames v1.7.0\n",
      "  \u001b[90m[2d871509] \u001b[39mOptHP v1.0.0-DEV `OptHP`\n",
      "  \u001b[90m[295af30f] \u001b[39mRevise v3.6.4"
     ]
    },
    {
     "name": "stderr",
     "output_type": "stream",
     "text": [
      "\n"
     ]
    },
    {
     "name": "stdout",
     "output_type": "stream",
     "text": [
      "\n"
     ]
    }
   ],
   "source": [
    "import Pkg\n",
    "\n",
    "# activate parent environment\n",
    "Pkg.activate(normpath(joinpath(@__DIR__, \".\")))\n",
    "Pkg.resolve()\n",
    "Pkg.instantiate()\n",
    "Pkg.status()\n",
    "\n",
    "using CSV\n",
    "using DataFrames\n",
    "\n",
    "using Revise\n",
    "using OptHP"
   ]
  },
  {
   "cell_type": "markdown",
   "metadata": {},
   "source": [
    "## Load data"
   ]
  },
  {
   "cell_type": "code",
   "execution_count": 2,
   "metadata": {},
   "outputs": [
    {
     "data": {
      "text/html": [
       "<div><div style = \"float: left;\"><span>5×7 DataFrame</span></div><div style = \"clear: both;\"></div></div><div class = \"data-frame\" style = \"overflow-x: scroll;\"><table class = \"data-frame\" style = \"margin-bottom: 6px;\"><thead><tr class = \"header\"><th class = \"rowNumber\" style = \"font-weight: bold; text-align: right;\">Row</th><th style = \"text-align: left;\">StartNode</th><th style = \"text-align: left;\">EndNode</th><th style = \"text-align: left;\">Length</th><th style = \"text-align: left;\">cable</th><th style = \"text-align: left;\">Inom</th><th style = \"text-align: left;\">R</th><th style = \"text-align: left;\">X</th></tr><tr class = \"subheader headerLastRow\"><th class = \"rowNumber\" style = \"font-weight: bold; text-align: right;\"></th><th title = \"Int64\" style = \"text-align: left;\">Int64</th><th title = \"Int64\" style = \"text-align: left;\">Int64</th><th title = \"Float64\" style = \"text-align: left;\">Float64</th><th title = \"String7\" style = \"text-align: left;\">String7</th><th title = \"Float64\" style = \"text-align: left;\">Float64</th><th title = \"Float64\" style = \"text-align: left;\">Float64</th><th title = \"Float64\" style = \"text-align: left;\">Float64</th></tr></thead><tbody><tr><td class = \"rowNumber\" style = \"font-weight: bold; text-align: right;\">1</td><td style = \"text-align: right;\">47</td><td style = \"text-align: right;\">15</td><td style = \"text-align: right;\">22.21</td><td style = \"text-align: left;\">50Al</td><td style = \"text-align: right;\">0.12528</td><td style = \"text-align: right;\">0.0142366</td><td style = \"text-align: right;\">0.00188785</td></tr><tr><td class = \"rowNumber\" style = \"font-weight: bold; text-align: right;\">2</td><td style = \"text-align: right;\">49</td><td style = \"text-align: right;\">40</td><td style = \"text-align: right;\">15.57</td><td style = \"text-align: left;\">95Al</td><td style = \"text-align: right;\">0.18386</td><td style = \"text-align: right;\">0.0049824</td><td style = \"text-align: right;\">0.00127674</td></tr><tr><td class = \"rowNumber\" style = \"font-weight: bold; text-align: right;\">3</td><td style = \"text-align: right;\">26</td><td style = \"text-align: right;\">41</td><td style = \"text-align: right;\">18.26</td><td style = \"text-align: left;\">95Al</td><td style = \"text-align: right;\">0.18386</td><td style = \"text-align: right;\">0.0058432</td><td style = \"text-align: right;\">0.00149732</td></tr><tr><td class = \"rowNumber\" style = \"font-weight: bold; text-align: right;\">4</td><td style = \"text-align: right;\">11</td><td style = \"text-align: right;\">12</td><td style = \"text-align: right;\">6.71</td><td style = \"text-align: left;\">95Al</td><td style = \"text-align: right;\">0.18386</td><td style = \"text-align: right;\">0.0021472</td><td style = \"text-align: right;\">0.00055022</td></tr><tr><td class = \"rowNumber\" style = \"font-weight: bold; text-align: right;\">5</td><td style = \"text-align: right;\">12</td><td style = \"text-align: right;\">27</td><td style = \"text-align: right;\">6.52</td><td style = \"text-align: left;\">95Al</td><td style = \"text-align: right;\">0.18386</td><td style = \"text-align: right;\">0.0020864</td><td style = \"text-align: right;\">0.00053464</td></tr></tbody></table></div>"
      ],
      "text/latex": [
       "\\begin{tabular}{r|ccccccc}\n",
       "\t& StartNode & EndNode & Length & cable & Inom & R & X\\\\\n",
       "\t\\hline\n",
       "\t& Int64 & Int64 & Float64 & String7 & Float64 & Float64 & Float64\\\\\n",
       "\t\\hline\n",
       "\t1 & 47 & 15 & 22.21 & 50Al & 0.12528 & 0.0142366 & 0.00188785 \\\\\n",
       "\t2 & 49 & 40 & 15.57 & 95Al & 0.18386 & 0.0049824 & 0.00127674 \\\\\n",
       "\t3 & 26 & 41 & 18.26 & 95Al & 0.18386 & 0.0058432 & 0.00149732 \\\\\n",
       "\t4 & 11 & 12 & 6.71 & 95Al & 0.18386 & 0.0021472 & 0.00055022 \\\\\n",
       "\t5 & 12 & 27 & 6.52 & 95Al & 0.18386 & 0.0020864 & 0.00053464 \\\\\n",
       "\\end{tabular}\n"
      ],
      "text/plain": [
       "\u001b[1m5×7 DataFrame\u001b[0m\n",
       "\u001b[1m Row \u001b[0m│\u001b[1m StartNode \u001b[0m\u001b[1m EndNode \u001b[0m\u001b[1m Length  \u001b[0m\u001b[1m cable   \u001b[0m\u001b[1m Inom    \u001b[0m\u001b[1m R         \u001b[0m\u001b[1m X          \u001b[0m\n",
       "     │\u001b[90m Int64     \u001b[0m\u001b[90m Int64   \u001b[0m\u001b[90m Float64 \u001b[0m\u001b[90m String7 \u001b[0m\u001b[90m Float64 \u001b[0m\u001b[90m Float64   \u001b[0m\u001b[90m Float64    \u001b[0m\n",
       "─────┼──────────────────────────────────────────────────────────────────────\n",
       "   1 │        47       15    22.21  50Al     0.12528  0.0142366  0.00188785\n",
       "   2 │        49       40    15.57  95Al     0.18386  0.0049824  0.00127674\n",
       "   3 │        26       41    18.26  95Al     0.18386  0.0058432  0.00149732\n",
       "   4 │        11       12     6.71  95Al     0.18386  0.0021472  0.00055022\n",
       "   5 │        12       27     6.52  95Al     0.18386  0.0020864  0.00053464"
      ]
     },
     "metadata": {},
     "output_type": "display_data"
    }
   ],
   "source": [
    "network = CSV.read(\"data/network.csv\", DataFrame)\n",
    "first(network, 5)"
   ]
  },
  {
   "cell_type": "code",
   "execution_count": 3,
   "metadata": {},
   "outputs": [
    {
     "data": {
      "text/html": [
       "<div><div style = \"float: left;\"><span>5×11 DataFrame</span></div><div style = \"clear: both;\"></div></div><div class = \"data-frame\" style = \"overflow-x: scroll;\"><table class = \"data-frame\" style = \"margin-bottom: 6px;\"><thead><tr class = \"header\"><th class = \"rowNumber\" style = \"font-weight: bold; text-align: right;\">Row</th><th style = \"text-align: left;\">Column1</th><th style = \"text-align: left;\">Name</th><th style = \"text-align: left;\">Node.ID</th><th style = \"text-align: left;\">Node.Unom</th><th style = \"text-align: left;\">Length</th><th style = \"text-align: left;\">Type short</th><th style = \"text-align: left;\">Connection value</th><th style = \"text-align: left;\">load</th><th style = \"text-align: left;\">PV</th><th style = \"text-align: left;\">HP</th><th style = \"text-align: left;\">Node</th></tr><tr class = \"subheader headerLastRow\"><th class = \"rowNumber\" style = \"font-weight: bold; text-align: right;\"></th><th title = \"Int64\" style = \"text-align: left;\">Int64</th><th title = \"Int64\" style = \"text-align: left;\">Int64</th><th title = \"Int64\" style = \"text-align: left;\">Int64</th><th title = \"Int64\" style = \"text-align: left;\">Int64</th><th title = \"String7\" style = \"text-align: left;\">String7</th><th title = \"String15\" style = \"text-align: left;\">String15</th><th title = \"String7\" style = \"text-align: left;\">String7</th><th title = \"Int64\" style = \"text-align: left;\">Int64</th><th title = \"String7\" style = \"text-align: left;\">String7</th><th title = \"Int64\" style = \"text-align: left;\">Int64</th><th title = \"Int64\" style = \"text-align: left;\">Int64</th></tr></thead><tbody><tr><td class = \"rowNumber\" style = \"font-weight: bold; text-align: right;\">1</td><td style = \"text-align: right;\">1</td><td style = \"text-align: right;\">871694840006284337</td><td style = \"text-align: right;\">46559968</td><td style = \"text-align: right;\">230</td><td style = \"text-align: left;\">21,75</td><td style = \"text-align: left;\">XLPE 4x6Cu</td><td style = \"text-align: left;\">3x25 A</td><td style = \"text-align: right;\">7000</td><td style = \"text-align: left;\">4</td><td style = \"text-align: right;\">1</td><td style = \"text-align: right;\">50</td></tr><tr><td class = \"rowNumber\" style = \"font-weight: bold; text-align: right;\">2</td><td style = \"text-align: right;\">2</td><td style = \"text-align: right;\">871694840006288793</td><td style = \"text-align: right;\">46563894</td><td style = \"text-align: right;\">230</td><td style = \"text-align: left;\">2,22</td><td style = \"text-align: left;\">XLPE 4x6Cu</td><td style = \"text-align: left;\">3x25 A</td><td style = \"text-align: right;\">7000</td><td style = \"text-align: left;\">6</td><td style = \"text-align: right;\">0</td><td style = \"text-align: right;\">51</td></tr><tr><td class = \"rowNumber\" style = \"font-weight: bold; text-align: right;\">3</td><td style = \"text-align: right;\">3</td><td style = \"text-align: right;\">871694840006284108</td><td style = \"text-align: right;\">11195660</td><td style = \"text-align: right;\">230</td><td style = \"text-align: left;\">10,4</td><td style = \"text-align: left;\">PVC 4x16Al</td><td style = \"text-align: left;\">1x35 A</td><td style = \"text-align: right;\">2000</td><td style = \"text-align: left;\">2,2</td><td style = \"text-align: right;\">0</td><td style = \"text-align: right;\">52</td></tr><tr><td class = \"rowNumber\" style = \"font-weight: bold; text-align: right;\">4</td><td style = \"text-align: right;\">4</td><td style = \"text-align: right;\">871694840006284115</td><td style = \"text-align: right;\">11195660</td><td style = \"text-align: right;\">230</td><td style = \"text-align: left;\">10,4</td><td style = \"text-align: left;\">PVC 4x16Al</td><td style = \"text-align: left;\">1x35 A</td><td style = \"text-align: right;\">500</td><td style = \"text-align: left;\">2,2</td><td style = \"text-align: right;\">0</td><td style = \"text-align: right;\">53</td></tr><tr><td class = \"rowNumber\" style = \"font-weight: bold; text-align: right;\">5</td><td style = \"text-align: right;\">5</td><td style = \"text-align: right;\">871694840006284092</td><td style = \"text-align: right;\">2573422</td><td style = \"text-align: right;\">230</td><td style = \"text-align: left;\">7,33</td><td style = \"text-align: left;\">PVC 4x16Al</td><td style = \"text-align: left;\">1x35 A</td><td style = \"text-align: right;\">2000</td><td style = \"text-align: left;\">2,2</td><td style = \"text-align: right;\">0</td><td style = \"text-align: right;\">54</td></tr></tbody></table></div>"
      ],
      "text/latex": [
       "\\begin{tabular}{r|cccccccc}\n",
       "\t& Column1 & Name & Node.ID & Node.Unom & Length & Type short & Connection value & \\\\\n",
       "\t\\hline\n",
       "\t& Int64 & Int64 & Int64 & Int64 & String7 & String15 & String7 & \\\\\n",
       "\t\\hline\n",
       "\t1 & 1 & 871694840006284337 & 46559968 & 230 & 21,75 & XLPE 4x6Cu & 3x25 A & $\\dots$ \\\\\n",
       "\t2 & 2 & 871694840006288793 & 46563894 & 230 & 2,22 & XLPE 4x6Cu & 3x25 A & $\\dots$ \\\\\n",
       "\t3 & 3 & 871694840006284108 & 11195660 & 230 & 10,4 & PVC 4x16Al & 1x35 A & $\\dots$ \\\\\n",
       "\t4 & 4 & 871694840006284115 & 11195660 & 230 & 10,4 & PVC 4x16Al & 1x35 A & $\\dots$ \\\\\n",
       "\t5 & 5 & 871694840006284092 & 2573422 & 230 & 7,33 & PVC 4x16Al & 1x35 A & $\\dots$ \\\\\n",
       "\\end{tabular}\n"
      ],
      "text/plain": [
       "\u001b[1m5×11 DataFrame\u001b[0m\n",
       "\u001b[1m Row \u001b[0m│\u001b[1m Column1 \u001b[0m\u001b[1m Name               \u001b[0m\u001b[1m Node.ID  \u001b[0m\u001b[1m Node.Unom \u001b[0m\u001b[1m Length  \u001b[0m\u001b[1m Type short \u001b[0m\u001b[1m \u001b[0m ⋯\n",
       "     │\u001b[90m Int64   \u001b[0m\u001b[90m Int64              \u001b[0m\u001b[90m Int64    \u001b[0m\u001b[90m Int64     \u001b[0m\u001b[90m String7 \u001b[0m\u001b[90m String15   \u001b[0m\u001b[90m \u001b[0m ⋯\n",
       "─────┼──────────────────────────────────────────────────────────────────────────\n",
       "   1 │       1  871694840006284337  46559968        230  21,75    XLPE 4x6Cu   ⋯\n",
       "   2 │       2  871694840006288793  46563894        230  2,22     XLPE 4x6Cu\n",
       "   3 │       3  871694840006284108  11195660        230  10,4     PVC 4x16Al\n",
       "   4 │       4  871694840006284115  11195660        230  10,4     PVC 4x16Al\n",
       "   5 │       5  871694840006284092   2573422        230  7,33     PVC 4x16Al   ⋯\n",
       "\u001b[36m                                                               5 columns omitted\u001b[0m"
      ]
     },
     "metadata": {},
     "output_type": "display_data"
    }
   ],
   "source": [
    "connections = CSV.read(\"data/user_connect.csv\", DataFrame; delim=\";\")\n",
    "first(connections, 5)"
   ]
  },
  {
   "cell_type": "markdown",
   "metadata": {},
   "source": [
    "## Construct GEC"
   ]
  },
  {
   "cell_type": "code",
   "execution_count": 32,
   "metadata": {},
   "outputs": [
    {
     "name": "stdout",
     "output_type": "stream",
     "text": [
      "Set parameter Username\n",
      "Set parameter LicenseID to value 2599292\n",
      "Academic license - for non-commercial use only - expires 2025-12-13\n"
     ]
    },
    {
     "data": {
      "text/plain": [
       "(1-dimensional DenseAxisArray{JuMP.ConstraintRef{JuMP.Model, MathOptInterface.ConstraintIndex{MathOptInterface.ScalarAffineFunction{Float64}, MathOptInterface.GreaterThan{Float64}}, JuMP.ScalarShape},1,...} with index sets:\n",
       "    Dimension 1, 1:96\n",
       "And data, a 96-element Vector{JuMP.ConstraintRef{JuMP.Model, MathOptInterface.ConstraintIndex{MathOptInterface.ScalarAffineFunction{Float64}, MathOptInterface.GreaterThan{Float64}}, JuMP.ScalarShape}}:\n",
       " TransPowerLimitForCongestion[1] : PBusInjection[1,1] >= -0.05\n",
       " TransPowerLimitForCongestion[2] : PBusInjection[1,2] >= -0.05\n",
       " TransPowerLimitForCongestion[3] : PBusInjection[1,3] >= -0.05\n",
       " TransPowerLimitForCongestion[4] : PBusInjection[1,4] >= -0.05\n",
       " TransPowerLimitForCongestion[5] : PBusInjection[1,5] >= -0.05\n",
       " TransPowerLimitForCongestion[6] : PBusInjection[1,6] >= -0.05\n",
       " TransPowerLimitForCongestion[7] : PBusInjection[1,7] >= -0.05\n",
       " TransPowerLimitForCongestion[8] : PBusInjection[1,8] >= -0.05\n",
       " TransPowerLimitForCongestion[9] : PBusInjection[1,9] >= -0.05\n",
       " TransPowerLimitForCongestion[10] : PBusInjection[1,10] >= -0.05\n",
       " ⋮\n",
       " TransPowerLimitForCongestion[88] : PBusInjection[1,88] >= -0.05\n",
       " TransPowerLimitForCongestion[89] : PBusInjection[1,89] >= -0.05\n",
       " TransPowerLimitForCongestion[90] : PBusInjection[1,90] >= -0.05\n",
       " TransPowerLimitForCongestion[91] : PBusInjection[1,91] >= -0.05\n",
       " TransPowerLimitForCongestion[92] : PBusInjection[1,92] >= -0.05\n",
       " TransPowerLimitForCongestion[93] : PBusInjection[1,93] >= -0.05\n",
       " TransPowerLimitForCongestion[94] : PBusInjection[1,94] >= -0.05\n",
       " TransPowerLimitForCongestion[95] : PBusInjection[1,95] >= -0.05\n",
       " TransPowerLimitForCongestion[96] : PBusInjection[1,96] >= -0.05, 1-dimensional DenseAxisArray{JuMP.ConstraintRef{JuMP.Model, MathOptInterface.ConstraintIndex{MathOptInterface.ScalarQuadraticFunction{Float64}, MathOptInterface.LessThan{Float64}}, JuMP.ScalarShape},1,...} with index sets:\n",
       "    Dimension 1, 1:96\n",
       "And data, a 96-element Vector{JuMP.ConstraintRef{JuMP.Model, MathOptInterface.ConstraintIndex{MathOptInterface.ScalarQuadraticFunction{Float64}, MathOptInterface.LessThan{Float64}}, JuMP.ScalarShape}}:\n",
       " TrafoLimit[1] : PBusInjection[1,1]² + QBusInjection[1,1]² <= 0.01218816\n",
       " TrafoLimit[2] : PBusInjection[1,2]² + QBusInjection[1,2]² <= 0.01218816\n",
       " TrafoLimit[3] : PBusInjection[1,3]² + QBusInjection[1,3]² <= 0.01218816\n",
       " TrafoLimit[4] : PBusInjection[1,4]² + QBusInjection[1,4]² <= 0.01218816\n",
       " TrafoLimit[5] : PBusInjection[1,5]² + QBusInjection[1,5]² <= 0.01218816\n",
       " TrafoLimit[6] : PBusInjection[1,6]² + QBusInjection[1,6]² <= 0.01218816\n",
       " TrafoLimit[7] : PBusInjection[1,7]² + QBusInjection[1,7]² <= 0.01218816\n",
       " TrafoLimit[8] : PBusInjection[1,8]² + QBusInjection[1,8]² <= 0.01218816\n",
       " TrafoLimit[9] : PBusInjection[1,9]² + QBusInjection[1,9]² <= 0.01218816\n",
       " TrafoLimit[10] : PBusInjection[1,10]² + QBusInjection[1,10]² <= 0.01218816\n",
       " ⋮\n",
       " TrafoLimit[88] : PBusInjection[1,88]² + QBusInjection[1,88]² <= 0.01218816\n",
       " TrafoLimit[89] : PBusInjection[1,89]² + QBusInjection[1,89]² <= 0.01218816\n",
       " TrafoLimit[90] : PBusInjection[1,90]² + QBusInjection[1,90]² <= 0.01218816\n",
       " TrafoLimit[91] : PBusInjection[1,91]² + QBusInjection[1,91]² <= 0.01218816\n",
       " TrafoLimit[92] : PBusInjection[1,92]² + QBusInjection[1,92]² <= 0.01218816\n",
       " TrafoLimit[93] : PBusInjection[1,93]² + QBusInjection[1,93]² <= 0.01218816\n",
       " TrafoLimit[94] : PBusInjection[1,94]² + QBusInjection[1,94]² <= 0.01218816\n",
       " TrafoLimit[95] : PBusInjection[1,95]² + QBusInjection[1,95]² <= 0.01218816\n",
       " TrafoLimit[96] : PBusInjection[1,96]² + QBusInjection[1,96]² <= 0.01218816)"
      ]
     },
     "metadata": {},
     "output_type": "display_data"
    }
   ],
   "source": [
    "model = GEC(network=network, connections=connections)"
   ]
  }
 ],
 "metadata": {
  "kernelspec": {
   "display_name": "Julia 1.10.6",
   "language": "julia",
   "name": "julia-1.10"
  },
  "language_info": {
   "file_extension": ".jl",
   "mimetype": "application/julia",
   "name": "julia",
   "version": "1.10.6"
  }
 },
 "nbformat": 4,
 "nbformat_minor": 2
}
