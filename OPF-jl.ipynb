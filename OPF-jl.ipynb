{
 "cells": [
  {
   "cell_type": "markdown",
   "metadata": {},
   "source": [
    "\n",
    "# Optimal power flow model in Julia"
   ]
  },
  {
   "cell_type": "code",
   "execution_count": 1,
   "metadata": {},
   "outputs": [
    {
     "name": "stderr",
     "output_type": "stream",
     "text": [
      "\u001b[32m\u001b[1m  Activating\u001b[22m\u001b[39m project at `c:\\Users\\lange\\OneDrive\\Projects\\2024\\EEM25\\Congestion-Management-based-on-Thermal-Comfort`\n",
      "\u001b[32m\u001b[1m  No Changes\u001b[22m\u001b[39m to `C:\\Users\\lange\\OneDrive\\Projects\\2024\\EEM25\\Congestion-Management-based-on-Thermal-Comfort\\Project.toml`\n",
      "\u001b[32m\u001b[1m  No Changes\u001b[22m\u001b[39m to `C:\\Users\\lange\\OneDrive\\Projects\\2024\\EEM25\\Congestion-Management-based-on-Thermal-Comfort\\Manifest.toml`\n"
     ]
    },
    {
     "name": "stdout",
     "output_type": "stream",
     "text": [
      "\u001b[32m\u001b[1mStatus\u001b[22m\u001b[39m `C:\\Users\\lange\\OneDrive\\Projects\\2024\\EEM25\\Congestion-Management-based-on-Thermal-Comfort\\Project.toml`\n",
      "  \u001b[90m[336ed68f] \u001b[39mCSV v0.10.15\n",
      "  \u001b[90m[13f3f980] \u001b[39mCairoMakie v0.12.18\n",
      "  \u001b[90m[a93c6f00] \u001b[39mDataFrames v1.7.0\n",
      "  \u001b[90m[682c06a0] \u001b[39mJSON v0.21.4\n",
      "  \u001b[90m[4076af6c] \u001b[39mJuMP v1.23.5\n",
      "  \u001b[90m[b8f27783] \u001b[39mMathOptInterface v1.34.0\n",
      "  \u001b[90m[2d871509] \u001b[39mOptHP v1.0.0-DEV `OptHP`\n",
      "  \u001b[90m[295af30f] \u001b[39mRevise v3.6.4\n"
     ]
    }
   ],
   "source": [
    "import Pkg\n",
    "\n",
    "# activate parent environment\n",
    "Pkg.activate(normpath(joinpath(@__DIR__, \".\")))\n",
    "Pkg.resolve()\n",
    "Pkg.instantiate()\n",
    "Pkg.status()\n",
    "\n",
    "using CSV\n",
    "using DataFrames\n",
    "using Dates\n",
    "using CairoMakie\n",
    "using JuMP\n",
    "import JSON\n",
    "import MathOptInterface as MOI\n",
    "\n",
    "using Revise\n",
    "using OptHP"
   ]
  },
  {
   "cell_type": "markdown",
   "metadata": {},
   "source": [
    "## Load data"
   ]
  },
  {
   "cell_type": "code",
   "execution_count": 2,
   "metadata": {},
   "outputs": [
    {
     "data": {
      "text/html": [
       "<div><div style = \"float: left;\"><span>5×7 DataFrame</span></div><div style = \"clear: both;\"></div></div><div class = \"data-frame\" style = \"overflow-x: scroll;\"><table class = \"data-frame\" style = \"margin-bottom: 6px;\"><thead><tr class = \"header\"><th class = \"rowNumber\" style = \"font-weight: bold; text-align: right;\">Row</th><th style = \"text-align: left;\">StartNode</th><th style = \"text-align: left;\">EndNode</th><th style = \"text-align: left;\">Length</th><th style = \"text-align: left;\">cable</th><th style = \"text-align: left;\">Inom</th><th style = \"text-align: left;\">R</th><th style = \"text-align: left;\">X</th></tr><tr class = \"subheader headerLastRow\"><th class = \"rowNumber\" style = \"font-weight: bold; text-align: right;\"></th><th title = \"Int64\" style = \"text-align: left;\">Int64</th><th title = \"Int64\" style = \"text-align: left;\">Int64</th><th title = \"Float64\" style = \"text-align: left;\">Float64</th><th title = \"String7\" style = \"text-align: left;\">String7</th><th title = \"Float64\" style = \"text-align: left;\">Float64</th><th title = \"Float64\" style = \"text-align: left;\">Float64</th><th title = \"Float64\" style = \"text-align: left;\">Float64</th></tr></thead><tbody><tr><td class = \"rowNumber\" style = \"font-weight: bold; text-align: right;\">1</td><td style = \"text-align: right;\">48</td><td style = \"text-align: right;\">16</td><td style = \"text-align: right;\">22.21</td><td style = \"text-align: left;\">50Al</td><td style = \"text-align: right;\">0.12528</td><td style = \"text-align: right;\">0.0142366</td><td style = \"text-align: right;\">0.00188785</td></tr><tr><td class = \"rowNumber\" style = \"font-weight: bold; text-align: right;\">2</td><td style = \"text-align: right;\">50</td><td style = \"text-align: right;\">41</td><td style = \"text-align: right;\">15.57</td><td style = \"text-align: left;\">95Al</td><td style = \"text-align: right;\">0.18386</td><td style = \"text-align: right;\">0.0049824</td><td style = \"text-align: right;\">0.00127674</td></tr><tr><td class = \"rowNumber\" style = \"font-weight: bold; text-align: right;\">3</td><td style = \"text-align: right;\">27</td><td style = \"text-align: right;\">42</td><td style = \"text-align: right;\">18.26</td><td style = \"text-align: left;\">95Al</td><td style = \"text-align: right;\">0.18386</td><td style = \"text-align: right;\">0.0058432</td><td style = \"text-align: right;\">0.00149732</td></tr><tr><td class = \"rowNumber\" style = \"font-weight: bold; text-align: right;\">4</td><td style = \"text-align: right;\">12</td><td style = \"text-align: right;\">13</td><td style = \"text-align: right;\">6.71</td><td style = \"text-align: left;\">95Al</td><td style = \"text-align: right;\">0.18386</td><td style = \"text-align: right;\">0.0021472</td><td style = \"text-align: right;\">0.00055022</td></tr><tr><td class = \"rowNumber\" style = \"font-weight: bold; text-align: right;\">5</td><td style = \"text-align: right;\">13</td><td style = \"text-align: right;\">28</td><td style = \"text-align: right;\">6.52</td><td style = \"text-align: left;\">95Al</td><td style = \"text-align: right;\">0.18386</td><td style = \"text-align: right;\">0.0020864</td><td style = \"text-align: right;\">0.00053464</td></tr></tbody></table></div>"
      ],
      "text/latex": [
       "\\begin{tabular}{r|ccccccc}\n",
       "\t& StartNode & EndNode & Length & cable & Inom & R & X\\\\\n",
       "\t\\hline\n",
       "\t& Int64 & Int64 & Float64 & String7 & Float64 & Float64 & Float64\\\\\n",
       "\t\\hline\n",
       "\t1 & 48 & 16 & 22.21 & 50Al & 0.12528 & 0.0142366 & 0.00188785 \\\\\n",
       "\t2 & 50 & 41 & 15.57 & 95Al & 0.18386 & 0.0049824 & 0.00127674 \\\\\n",
       "\t3 & 27 & 42 & 18.26 & 95Al & 0.18386 & 0.0058432 & 0.00149732 \\\\\n",
       "\t4 & 12 & 13 & 6.71 & 95Al & 0.18386 & 0.0021472 & 0.00055022 \\\\\n",
       "\t5 & 13 & 28 & 6.52 & 95Al & 0.18386 & 0.0020864 & 0.00053464 \\\\\n",
       "\\end{tabular}\n"
      ],
      "text/plain": [
       "\u001b[1m5×7 DataFrame\u001b[0m\n",
       "\u001b[1m Row \u001b[0m│\u001b[1m StartNode \u001b[0m\u001b[1m EndNode \u001b[0m\u001b[1m Length  \u001b[0m\u001b[1m cable   \u001b[0m\u001b[1m Inom    \u001b[0m\u001b[1m R         \u001b[0m\u001b[1m X          \u001b[0m\n",
       "     │\u001b[90m Int64     \u001b[0m\u001b[90m Int64   \u001b[0m\u001b[90m Float64 \u001b[0m\u001b[90m String7 \u001b[0m\u001b[90m Float64 \u001b[0m\u001b[90m Float64   \u001b[0m\u001b[90m Float64    \u001b[0m\n",
       "─────┼──────────────────────────────────────────────────────────────────────\n",
       "   1 │        48       16    22.21  50Al     0.12528  0.0142366  0.00188785\n",
       "   2 │        50       41    15.57  95Al     0.18386  0.0049824  0.00127674\n",
       "   3 │        27       42    18.26  95Al     0.18386  0.0058432  0.00149732\n",
       "   4 │        12       13     6.71  95Al     0.18386  0.0021472  0.00055022\n",
       "   5 │        13       28     6.52  95Al     0.18386  0.0020864  0.00053464"
      ]
     },
     "metadata": {},
     "output_type": "display_data"
    }
   ],
   "source": [
    "network = CSV.read(\"data/network.csv\", DataFrame)\n",
    "# correct StarNode and EndNode for 1 based indexing\n",
    "network.StartNode = network.StartNode .+ 1\n",
    "network.EndNode = network.EndNode .+ 1\n",
    "\n",
    "first(network, 5)"
   ]
  },
  {
   "cell_type": "code",
   "execution_count": 3,
   "metadata": {},
   "outputs": [
    {
     "data": {
      "text/html": [
       "<div><div style = \"float: left;\"><span>5×11 DataFrame</span></div><div style = \"clear: both;\"></div></div><div class = \"data-frame\" style = \"overflow-x: scroll;\"><table class = \"data-frame\" style = \"margin-bottom: 6px;\"><thead><tr class = \"header\"><th class = \"rowNumber\" style = \"font-weight: bold; text-align: right;\">Row</th><th style = \"text-align: left;\">Column1</th><th style = \"text-align: left;\">Name</th><th style = \"text-align: left;\">Node.ID</th><th style = \"text-align: left;\">Node.Unom</th><th style = \"text-align: left;\">Length</th><th style = \"text-align: left;\">Type short</th><th style = \"text-align: left;\">Connection value</th><th style = \"text-align: left;\">load</th><th style = \"text-align: left;\">PV</th><th style = \"text-align: left;\">HP</th><th style = \"text-align: left;\">Node</th></tr><tr class = \"subheader headerLastRow\"><th class = \"rowNumber\" style = \"font-weight: bold; text-align: right;\"></th><th title = \"Int64\" style = \"text-align: left;\">Int64</th><th title = \"Int64\" style = \"text-align: left;\">Int64</th><th title = \"Int64\" style = \"text-align: left;\">Int64</th><th title = \"Int64\" style = \"text-align: left;\">Int64</th><th title = \"String7\" style = \"text-align: left;\">String7</th><th title = \"String15\" style = \"text-align: left;\">String15</th><th title = \"String7\" style = \"text-align: left;\">String7</th><th title = \"Int64\" style = \"text-align: left;\">Int64</th><th title = \"Float64\" style = \"text-align: left;\">Float64</th><th title = \"Int64\" style = \"text-align: left;\">Int64</th><th title = \"Int64\" style = \"text-align: left;\">Int64</th></tr></thead><tbody><tr><td class = \"rowNumber\" style = \"font-weight: bold; text-align: right;\">1</td><td style = \"text-align: right;\">1</td><td style = \"text-align: right;\">871694840006284337</td><td style = \"text-align: right;\">46559968</td><td style = \"text-align: right;\">230</td><td style = \"text-align: left;\">21,75</td><td style = \"text-align: left;\">XLPE 4x6Cu</td><td style = \"text-align: left;\">3x25 A</td><td style = \"text-align: right;\">7000</td><td style = \"text-align: right;\">4.0</td><td style = \"text-align: right;\">1</td><td style = \"text-align: right;\">51</td></tr><tr><td class = \"rowNumber\" style = \"font-weight: bold; text-align: right;\">2</td><td style = \"text-align: right;\">2</td><td style = \"text-align: right;\">871694840006288793</td><td style = \"text-align: right;\">46563894</td><td style = \"text-align: right;\">230</td><td style = \"text-align: left;\">2,22</td><td style = \"text-align: left;\">XLPE 4x6Cu</td><td style = \"text-align: left;\">3x25 A</td><td style = \"text-align: right;\">7000</td><td style = \"text-align: right;\">6.0</td><td style = \"text-align: right;\">0</td><td style = \"text-align: right;\">52</td></tr><tr><td class = \"rowNumber\" style = \"font-weight: bold; text-align: right;\">3</td><td style = \"text-align: right;\">3</td><td style = \"text-align: right;\">871694840006284108</td><td style = \"text-align: right;\">11195660</td><td style = \"text-align: right;\">230</td><td style = \"text-align: left;\">10,4</td><td style = \"text-align: left;\">PVC 4x16Al</td><td style = \"text-align: left;\">1x35 A</td><td style = \"text-align: right;\">2000</td><td style = \"text-align: right;\">2.2</td><td style = \"text-align: right;\">0</td><td style = \"text-align: right;\">53</td></tr><tr><td class = \"rowNumber\" style = \"font-weight: bold; text-align: right;\">4</td><td style = \"text-align: right;\">4</td><td style = \"text-align: right;\">871694840006284115</td><td style = \"text-align: right;\">11195660</td><td style = \"text-align: right;\">230</td><td style = \"text-align: left;\">10,4</td><td style = \"text-align: left;\">PVC 4x16Al</td><td style = \"text-align: left;\">1x35 A</td><td style = \"text-align: right;\">500</td><td style = \"text-align: right;\">2.2</td><td style = \"text-align: right;\">0</td><td style = \"text-align: right;\">54</td></tr><tr><td class = \"rowNumber\" style = \"font-weight: bold; text-align: right;\">5</td><td style = \"text-align: right;\">5</td><td style = \"text-align: right;\">871694840006284092</td><td style = \"text-align: right;\">2573422</td><td style = \"text-align: right;\">230</td><td style = \"text-align: left;\">7,33</td><td style = \"text-align: left;\">PVC 4x16Al</td><td style = \"text-align: left;\">1x35 A</td><td style = \"text-align: right;\">2000</td><td style = \"text-align: right;\">2.2</td><td style = \"text-align: right;\">0</td><td style = \"text-align: right;\">55</td></tr></tbody></table></div>"
      ],
      "text/latex": [
       "\\begin{tabular}{r|cccccccc}\n",
       "\t& Column1 & Name & Node.ID & Node.Unom & Length & Type short & Connection value & \\\\\n",
       "\t\\hline\n",
       "\t& Int64 & Int64 & Int64 & Int64 & String7 & String15 & String7 & \\\\\n",
       "\t\\hline\n",
       "\t1 & 1 & 871694840006284337 & 46559968 & 230 & 21,75 & XLPE 4x6Cu & 3x25 A & $\\dots$ \\\\\n",
       "\t2 & 2 & 871694840006288793 & 46563894 & 230 & 2,22 & XLPE 4x6Cu & 3x25 A & $\\dots$ \\\\\n",
       "\t3 & 3 & 871694840006284108 & 11195660 & 230 & 10,4 & PVC 4x16Al & 1x35 A & $\\dots$ \\\\\n",
       "\t4 & 4 & 871694840006284115 & 11195660 & 230 & 10,4 & PVC 4x16Al & 1x35 A & $\\dots$ \\\\\n",
       "\t5 & 5 & 871694840006284092 & 2573422 & 230 & 7,33 & PVC 4x16Al & 1x35 A & $\\dots$ \\\\\n",
       "\\end{tabular}\n"
      ],
      "text/plain": [
       "\u001b[1m5×11 DataFrame\u001b[0m\n",
       "\u001b[1m Row \u001b[0m│\u001b[1m Column1 \u001b[0m\u001b[1m Name               \u001b[0m\u001b[1m Node.ID  \u001b[0m\u001b[1m Node.Unom \u001b[0m\u001b[1m Length  \u001b[0m\u001b[1m Type short \u001b[0m\u001b[1m \u001b[0m ⋯\n",
       "     │\u001b[90m Int64   \u001b[0m\u001b[90m Int64              \u001b[0m\u001b[90m Int64    \u001b[0m\u001b[90m Int64     \u001b[0m\u001b[90m String7 \u001b[0m\u001b[90m String15   \u001b[0m\u001b[90m \u001b[0m ⋯\n",
       "─────┼──────────────────────────────────────────────────────────────────────────\n",
       "   1 │       1  871694840006284337  46559968        230  21,75    XLPE 4x6Cu   ⋯\n",
       "   2 │       2  871694840006288793  46563894        230  2,22     XLPE 4x6Cu\n",
       "   3 │       3  871694840006284108  11195660        230  10,4     PVC 4x16Al\n",
       "   4 │       4  871694840006284115  11195660        230  10,4     PVC 4x16Al\n",
       "   5 │       5  871694840006284092   2573422        230  7,33     PVC 4x16Al   ⋯\n",
       "\u001b[36m                                                               5 columns omitted\u001b[0m"
      ]
     },
     "metadata": {},
     "output_type": "display_data"
    }
   ],
   "source": [
    "connections = CSV.read(\"data/user_connect.csv\", DataFrame; delim=\";\")\n",
    "\n",
    "# correct for 1 based indexing\n",
    "connections.Node = connections.Node .+ 1\n",
    "\n",
    "# convert PV (str) to Float64\n",
    "connections.PV = parse.(Float64, replace.(connections.PV, \",\" => \".\"))\n",
    "\n",
    "first(connections, 5)"
   ]
  },
  {
   "cell_type": "code",
   "execution_count": 4,
   "metadata": {},
   "outputs": [
    {
     "data": {
      "text/html": [
       "<div><div style = \"float: left;\"><span>5×37 DataFrame</span></div><div style = \"clear: both;\"></div></div><div class = \"data-frame\" style = \"overflow-x: scroll;\"><table class = \"data-frame\" style = \"margin-bottom: 6px;\"><thead><tr class = \"header\"><th class = \"rowNumber\" style = \"font-weight: bold; text-align: right;\">Row</th><th style = \"text-align: left;\">1</th><th style = \"text-align: left;\">2</th><th style = \"text-align: left;\">3</th><th style = \"text-align: left;\">4</th><th style = \"text-align: left;\">5</th><th style = \"text-align: left;\">6</th><th style = \"text-align: left;\">7</th><th style = \"text-align: left;\">8</th><th style = \"text-align: left;\">9</th><th style = \"text-align: left;\">10</th><th style = \"text-align: left;\">11</th><th style = \"text-align: left;\">12</th><th style = \"text-align: left;\">13</th><th style = \"text-align: left;\">14</th><th style = \"text-align: left;\">15</th><th style = \"text-align: left;\">16</th><th style = \"text-align: left;\">17</th><th style = \"text-align: left;\">18</th><th style = \"text-align: left;\">19</th><th style = \"text-align: left;\">20</th><th style = \"text-align: left;\">21</th><th style = \"text-align: left;\">22</th><th style = \"text-align: left;\">23</th><th style = \"text-align: left;\">24</th><th style = \"text-align: left;\">25</th><th style = \"text-align: left;\">26</th><th style = \"text-align: left;\">27</th><th style = \"text-align: left;\">28</th><th style = \"text-align: left;\">29</th><th style = \"text-align: left;\">30</th><th style = \"text-align: left;\">31</th><th style = \"text-align: left;\">32</th><th style = \"text-align: left;\">33</th><th style = \"text-align: left;\">34</th><th style = \"text-align: left;\">35</th><th style = \"text-align: left;\">36</th><th style = \"text-align: left;\">37</th></tr><tr class = \"subheader headerLastRow\"><th class = \"rowNumber\" style = \"font-weight: bold; text-align: right;\"></th><th title = \"Float64\" style = \"text-align: left;\">Float64</th><th title = \"Float64\" style = \"text-align: left;\">Float64</th><th title = \"Float64\" style = \"text-align: left;\">Float64</th><th title = \"Float64\" style = \"text-align: left;\">Float64</th><th title = \"Float64\" style = \"text-align: left;\">Float64</th><th title = \"Float64\" style = \"text-align: left;\">Float64</th><th title = \"Float64\" style = \"text-align: left;\">Float64</th><th title = \"Float64\" style = \"text-align: left;\">Float64</th><th title = \"Float64\" style = \"text-align: left;\">Float64</th><th title = \"Float64\" style = \"text-align: left;\">Float64</th><th title = \"Float64\" style = \"text-align: left;\">Float64</th><th title = \"Float64\" style = \"text-align: left;\">Float64</th><th title = \"Float64\" style = \"text-align: left;\">Float64</th><th title = \"Float64\" style = \"text-align: left;\">Float64</th><th title = \"Float64\" style = \"text-align: left;\">Float64</th><th title = \"Float64\" style = \"text-align: left;\">Float64</th><th title = \"Float64\" style = \"text-align: left;\">Float64</th><th title = \"Float64\" style = \"text-align: left;\">Float64</th><th title = \"Float64\" style = \"text-align: left;\">Float64</th><th title = \"Float64\" style = \"text-align: left;\">Float64</th><th title = \"Float64\" style = \"text-align: left;\">Float64</th><th title = \"Float64\" style = \"text-align: left;\">Float64</th><th title = \"Float64\" style = \"text-align: left;\">Float64</th><th title = \"Float64\" style = \"text-align: left;\">Float64</th><th title = \"Float64\" style = \"text-align: left;\">Float64</th><th title = \"Float64\" style = \"text-align: left;\">Float64</th><th title = \"Float64\" style = \"text-align: left;\">Float64</th><th title = \"Float64\" style = \"text-align: left;\">Float64</th><th title = \"Float64\" style = \"text-align: left;\">Float64</th><th title = \"Float64\" style = \"text-align: left;\">Float64</th><th title = \"Float64\" style = \"text-align: left;\">Float64</th><th title = \"Float64\" style = \"text-align: left;\">Float64</th><th title = \"Float64\" style = \"text-align: left;\">Float64</th><th title = \"Float64\" style = \"text-align: left;\">Float64</th><th title = \"Float64\" style = \"text-align: left;\">Float64</th><th title = \"Float64\" style = \"text-align: left;\">Float64</th><th title = \"Float64\" style = \"text-align: left;\">Float64</th></tr></thead><tbody><tr><td class = \"rowNumber\" style = \"font-weight: bold; text-align: right;\">1</td><td style = \"text-align: right;\">0.0280492</td><td style = \"text-align: right;\">0.0327633</td><td style = \"text-align: right;\">0.00789328</td><td style = \"text-align: right;\">0.00216432</td><td style = \"text-align: right;\">0.00870451</td><td style = \"text-align: right;\">0.0066902</td><td style = \"text-align: right;\">0.0190303</td><td style = \"text-align: right;\">0.0208217</td><td style = \"text-align: right;\">0.0316786</td><td style = \"text-align: right;\">0.00885476</td><td style = \"text-align: right;\">0.00227458</td><td style = \"text-align: right;\">0.0100109</td><td style = \"text-align: right;\">0.00389288</td><td style = \"text-align: right;\">0.00391422</td><td style = \"text-align: right;\">0.0217207</td><td style = \"text-align: right;\">0.00663473</td><td style = \"text-align: right;\">0.0137514</td><td style = \"text-align: right;\">0.038904</td><td style = \"text-align: right;\">0.0160743</td><td style = \"text-align: right;\">0.0134882</td><td style = \"text-align: right;\">0.0108427</td><td style = \"text-align: right;\">0.044233</td><td style = \"text-align: right;\">0.00783649</td><td style = \"text-align: right;\">0.00964245</td><td style = \"text-align: right;\">0.0327462</td><td style = \"text-align: right;\">0.0462532</td><td style = \"text-align: right;\">0.0159094</td><td style = \"text-align: right;\">0.0085621</td><td style = \"text-align: right;\">0.0220982</td><td style = \"text-align: right;\">0.00783409</td><td style = \"text-align: right;\">0.00924792</td><td style = \"text-align: right;\">0.0118713</td><td style = \"text-align: right;\">0.025677</td><td style = \"text-align: right;\">0.019321</td><td style = \"text-align: right;\">0.0138463</td><td style = \"text-align: right;\">0.0255821</td><td style = \"text-align: right;\">0.0</td></tr><tr><td class = \"rowNumber\" style = \"font-weight: bold; text-align: right;\">2</td><td style = \"text-align: right;\">0.0194261</td><td style = \"text-align: right;\">0.0201885</td><td style = \"text-align: right;\">0.00556897</td><td style = \"text-align: right;\">0.00150743</td><td style = \"text-align: right;\">0.00557323</td><td style = \"text-align: right;\">0.00408914</td><td style = \"text-align: right;\">0.0129535</td><td style = \"text-align: right;\">0.0161562</td><td style = \"text-align: right;\">0.0188356</td><td style = \"text-align: right;\">0.00547041</td><td style = \"text-align: right;\">0.00150153</td><td style = \"text-align: right;\">0.00703371</td><td style = \"text-align: right;\">0.00301253</td><td style = \"text-align: right;\">0.00301947</td><td style = \"text-align: right;\">0.0136849</td><td style = \"text-align: right;\">0.00469629</td><td style = \"text-align: right;\">0.0110687</td><td style = \"text-align: right;\">0.0308354</td><td style = \"text-align: right;\">0.0108854</td><td style = \"text-align: right;\">0.0103217</td><td style = \"text-align: right;\">0.00754248</td><td style = \"text-align: right;\">0.0315925</td><td style = \"text-align: right;\">0.00559041</td><td style = \"text-align: right;\">0.00759827</td><td style = \"text-align: right;\">0.0213481</td><td style = \"text-align: right;\">0.0281427</td><td style = \"text-align: right;\">0.0101261</td><td style = \"text-align: right;\">0.00647718</td><td style = \"text-align: right;\">0.0135207</td><td style = \"text-align: right;\">0.00579418</td><td style = \"text-align: right;\">0.00582512</td><td style = \"text-align: right;\">0.00873516</td><td style = \"text-align: right;\">0.018251</td><td style = \"text-align: right;\">0.013007</td><td style = \"text-align: right;\">0.00943072</td><td style = \"text-align: right;\">0.0178395</td><td style = \"text-align: right;\">0.0</td></tr><tr><td class = \"rowNumber\" style = \"font-weight: bold; text-align: right;\">3</td><td style = \"text-align: right;\">0.0222562</td><td style = \"text-align: right;\">0.0222175</td><td style = \"text-align: right;\">0.00583958</td><td style = \"text-align: right;\">0.00149652</td><td style = \"text-align: right;\">0.00583324</td><td style = \"text-align: right;\">0.0040186</td><td style = \"text-align: right;\">0.0131774</td><td style = \"text-align: right;\">0.0146778</td><td style = \"text-align: right;\">0.0221186</td><td style = \"text-align: right;\">0.0063148</td><td style = \"text-align: right;\">0.00160216</td><td style = \"text-align: right;\">0.00741227</td><td style = \"text-align: right;\">0.00291713</td><td style = \"text-align: right;\">0.00310672</td><td style = \"text-align: right;\">0.0151385</td><td style = \"text-align: right;\">0.00471799</td><td style = \"text-align: right;\">0.0109297</td><td style = \"text-align: right;\">0.0284821</td><td style = \"text-align: right;\">0.0112424</td><td style = \"text-align: right;\">0.00954143</td><td style = \"text-align: right;\">0.00796256</td><td style = \"text-align: right;\">0.0309558</td><td style = \"text-align: right;\">0.00559076</td><td style = \"text-align: right;\">0.00797005</td><td style = \"text-align: right;\">0.0227603</td><td style = \"text-align: right;\">0.0303833</td><td style = \"text-align: right;\">0.0111911</td><td style = \"text-align: right;\">0.0058502</td><td style = \"text-align: right;\">0.0160791</td><td style = \"text-align: right;\">0.00646978</td><td style = \"text-align: right;\">0.00603232</td><td style = \"text-align: right;\">0.00961901</td><td style = \"text-align: right;\">0.0193459</td><td style = \"text-align: right;\">0.0125066</td><td style = \"text-align: right;\">0.00844744</td><td style = \"text-align: right;\">0.0178119</td><td style = \"text-align: right;\">0.0</td></tr><tr><td class = \"rowNumber\" style = \"font-weight: bold; text-align: right;\">4</td><td style = \"text-align: right;\">0.0236077</td><td style = \"text-align: right;\">0.0214192</td><td style = \"text-align: right;\">0.00656782</td><td style = \"text-align: right;\">0.00158927</td><td style = \"text-align: right;\">0.00727005</td><td style = \"text-align: right;\">0.00480448</td><td style = \"text-align: right;\">0.0148979</td><td style = \"text-align: right;\">0.0172582</td><td style = \"text-align: right;\">0.021615</td><td style = \"text-align: right;\">0.00741563</td><td style = \"text-align: right;\">0.00154189</td><td style = \"text-align: right;\">0.00765452</td><td style = \"text-align: right;\">0.00309739</td><td style = \"text-align: right;\">0.00323702</td><td style = \"text-align: right;\">0.0160809</td><td style = \"text-align: right;\">0.00554229</td><td style = \"text-align: right;\">0.012016</td><td style = \"text-align: right;\">0.0365018</td><td style = \"text-align: right;\">0.0146685</td><td style = \"text-align: right;\">0.0129499</td><td style = \"text-align: right;\">0.00916666</td><td style = \"text-align: right;\">0.0329395</td><td style = \"text-align: right;\">0.00737826</td><td style = \"text-align: right;\">0.00877966</td><td style = \"text-align: right;\">0.0230161</td><td style = \"text-align: right;\">0.0328368</td><td style = \"text-align: right;\">0.0108052</td><td style = \"text-align: right;\">0.00674518</td><td style = \"text-align: right;\">0.0164615</td><td style = \"text-align: right;\">0.00639536</td><td style = \"text-align: right;\">0.00619007</td><td style = \"text-align: right;\">0.0105051</td><td style = \"text-align: right;\">0.0187594</td><td style = \"text-align: right;\">0.0137561</td><td style = \"text-align: right;\">0.010025</td><td style = \"text-align: right;\">0.020322</td><td style = \"text-align: right;\">0.0</td></tr><tr><td class = \"rowNumber\" style = \"font-weight: bold; text-align: right;\">5</td><td style = \"text-align: right;\">0.0258527</td><td style = \"text-align: right;\">0.026771</td><td style = \"text-align: right;\">0.00830569</td><td style = \"text-align: right;\">0.00182058</td><td style = \"text-align: right;\">0.00881239</td><td style = \"text-align: right;\">0.00562766</td><td style = \"text-align: right;\">0.0188999</td><td style = \"text-align: right;\">0.0181352</td><td style = \"text-align: right;\">0.0267452</td><td style = \"text-align: right;\">0.00775641</td><td style = \"text-align: right;\">0.00204764</td><td style = \"text-align: right;\">0.00959481</td><td style = \"text-align: right;\">0.00368743</td><td style = \"text-align: right;\">0.00390459</td><td style = \"text-align: right;\">0.0200733</td><td style = \"text-align: right;\">0.00636839</td><td style = \"text-align: right;\">0.0138178</td><td style = \"text-align: right;\">0.0417959</td><td style = \"text-align: right;\">0.0160488</td><td style = \"text-align: right;\">0.0146582</td><td style = \"text-align: right;\">0.00963903</td><td style = \"text-align: right;\">0.0412269</td><td style = \"text-align: right;\">0.00812958</td><td style = \"text-align: right;\">0.00960557</td><td style = \"text-align: right;\">0.0266</td><td style = \"text-align: right;\">0.0380806</td><td style = \"text-align: right;\">0.0141561</td><td style = \"text-align: right;\">0.00851961</td><td style = \"text-align: right;\">0.0213948</td><td style = \"text-align: right;\">0.00755007</td><td style = \"text-align: right;\">0.00783836</td><td style = \"text-align: right;\">0.0122754</td><td style = \"text-align: right;\">0.0233571</td><td style = \"text-align: right;\">0.0186267</td><td style = \"text-align: right;\">0.0109073</td><td style = \"text-align: right;\">0.0241358</td><td style = \"text-align: right;\">0.0</td></tr></tbody></table></div>"
      ],
      "text/latex": [
       "\\begin{tabular}{r|cccccccc}\n",
       "\t& 1 & 2 & 3 & 4 & 5 & 6 & 7 & \\\\\n",
       "\t\\hline\n",
       "\t& Float64 & Float64 & Float64 & Float64 & Float64 & Float64 & Float64 & \\\\\n",
       "\t\\hline\n",
       "\t1 & 0.0280492 & 0.0327633 & 0.00789328 & 0.00216432 & 0.00870451 & 0.0066902 & 0.0190303 & $\\dots$ \\\\\n",
       "\t2 & 0.0194261 & 0.0201885 & 0.00556897 & 0.00150743 & 0.00557323 & 0.00408914 & 0.0129535 & $\\dots$ \\\\\n",
       "\t3 & 0.0222562 & 0.0222175 & 0.00583958 & 0.00149652 & 0.00583324 & 0.0040186 & 0.0131774 & $\\dots$ \\\\\n",
       "\t4 & 0.0236077 & 0.0214192 & 0.00656782 & 0.00158927 & 0.00727005 & 0.00480448 & 0.0148979 & $\\dots$ \\\\\n",
       "\t5 & 0.0258527 & 0.026771 & 0.00830569 & 0.00182058 & 0.00881239 & 0.00562766 & 0.0188999 & $\\dots$ \\\\\n",
       "\\end{tabular}\n"
      ],
      "text/plain": [
       "\u001b[1m5×37 DataFrame\u001b[0m\n",
       "\u001b[1m Row \u001b[0m│\u001b[1m 1         \u001b[0m\u001b[1m 2         \u001b[0m\u001b[1m 3          \u001b[0m\u001b[1m 4          \u001b[0m\u001b[1m 5          \u001b[0m\u001b[1m 6          \u001b[0m\u001b[1m 7\u001b[0m ⋯\n",
       "     │\u001b[90m Float64   \u001b[0m\u001b[90m Float64   \u001b[0m\u001b[90m Float64    \u001b[0m\u001b[90m Float64    \u001b[0m\u001b[90m Float64    \u001b[0m\u001b[90m Float64    \u001b[0m\u001b[90m F\u001b[0m ⋯\n",
       "─────┼──────────────────────────────────────────────────────────────────────────\n",
       "   1 │ 0.0280492  0.0327633  0.00789328  0.00216432  0.00870451  0.0066902   0 ⋯\n",
       "   2 │ 0.0194261  0.0201885  0.00556897  0.00150743  0.00557323  0.00408914  0\n",
       "   3 │ 0.0222562  0.0222175  0.00583958  0.00149652  0.00583324  0.0040186   0\n",
       "   4 │ 0.0236077  0.0214192  0.00656782  0.00158927  0.00727005  0.00480448  0\n",
       "   5 │ 0.0258527  0.026771   0.00830569  0.00182058  0.00881239  0.00562766  0 ⋯\n",
       "\u001b[36m                                                              31 columns omitted\u001b[0m"
      ]
     },
     "metadata": {},
     "output_type": "display_data"
    }
   ],
   "source": [
    "loads_real = CSV.read(\"data/UserPower.csv\", DataFrame)\n",
    "loads_real.time = DateTime.(loads_real.time, \"m/d/yyyy H:M p\")\n",
    "\n",
    "loads_reactive = CSV.read(\"data/UserReactivePower.csv\", DataFrame)\n",
    "loads_reactive.time = DateTime.(loads_reactive.time, \"m/d/yyyy H:M p\")\n",
    "\n",
    "# Filter for rows where the date is February 1, 2024\n",
    "date = Date(2024, 2, 1)\n",
    "loads_real = loads_real[Date.(loads_real.time) .== date, 3:end]\n",
    "loads_reactive = loads_reactive[Date.(loads_reactive.time) .== date, 3:end]\n",
    "first(loads_real, 5)"
   ]
  },
  {
   "cell_type": "markdown",
   "metadata": {},
   "source": [
    "## Construct GEC"
   ]
  }
 ],
 "metadata": {
  "kernelspec": {
   "display_name": "Julia 1.10.6",
   "language": "julia",
   "name": "julia-1.10"
  },
  "language_info": {
   "file_extension": ".jl",
   "mimetype": "application/julia",
   "name": "julia",
   "version": "1.10.6"
  }
 },
 "nbformat": 4,
 "nbformat_minor": 2
}
