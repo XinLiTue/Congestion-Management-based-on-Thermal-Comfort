{
 "cells": [
  {
   "cell_type": "code",
   "execution_count": 1,
   "id": "1510b462-33b2-4a32-b4e3-6c5cafcc9739",
   "metadata": {},
   "outputs": [],
   "source": [
    "import gurobipy as gp\n",
    "from gurobipy import GRB, quicksum\n",
    "import pandas as pd\n",
    "import numpy as np\n",
    "import math"
   ]
  },
  {
   "cell_type": "code",
   "execution_count": 2,
   "id": "31fa8410-1412-42ae-9ee8-5ac8cd0cb697",
   "metadata": {},
   "outputs": [],
   "source": [
    "#tem input\n",
    "TemInd_file_path = \"data/TemperaturesInd.csv\"\n",
    "def TemInd_input(Tem_file_path):\n",
    "    #indoor tem in time 0\n",
    "    Indtem_data_row = pd.read_csv(Tem_file_path)\n",
    "    Indtem_data_row['time'] = pd.to_datetime(Indtem_data_row['time'])\n",
    "    #degree to value\n",
    "    Indtem_data_row[\"Room 1 - Actual\"] = Indtem_data_row[\"Room 1 - Actual\"].str.replace(\" °C\", \"\").astype(float)\n",
    "    Indtem_data_row[\"Room 1 - Set\"] = Indtem_data_row[\"Room 1 - Set\"].str.replace(\" °C\", \"\").astype(float)\n",
    "    #average 60min\n",
    "    Indtem_data_row[\"time_60min\"] = Indtem_data_row[\"time\"].dt.floor(\"60min\")\n",
    "    averages = Indtem_data_row.groupby(\"time_60min\")[[\"Room 1 - Actual\", \"Room 1 - Set\"]].mean().reset_index()\n",
    "    #select time 0 h\n",
    "    Tem_ind0= averages[\"Room 1 - Actual\"].values[0]\n",
    "    return Tem_ind0\n",
    "\n",
    "TemOut_file_path = \"data/TemperaturesOut.csv\"\n",
    "def TemOut_input(Tem_file_path):\n",
    "    # outdoor tem set\n",
    "    Outtem_data_row = pd.read_csv(Tem_file_path)\n",
    "    # Outtem_data_row\n",
    "    Outtem_data_row['time'] = pd.to_datetime(Outtem_data_row['time'])\n",
    "    #degree to value\n",
    "    Outtem_data_row[\"Outside\"] = Outtem_data_row[\"Outside\"].str.replace(\" °C\", \"\").astype(float)\n",
    "    #average 15min\n",
    "    Outtem_data_row[\"time_15min\"] = Outtem_data_row[\"time\"].dt.floor(\"15min\")\n",
    "    tem_amb = Outtem_data_row.groupby(\"time_15min\")[[\"Outside\"]].mean().reset_index()\n",
    "    T_amb=tem_amb[\"Outside\"].values\n",
    "    return T_amb\n",
    "\n",
    "Tem_ind0 = TemInd_input(TemInd_file_path)\n",
    "T_amb = TemOut_input(TemOut_file_path)\n"
   ]
  },
  {
   "cell_type": "code",
   "execution_count": null,
   "id": "cae980f2-45c4-4955-bdde-818eed5c89e3",
   "metadata": {
    "scrolled": true
   },
   "outputs": [],
   "source": [
    "#units in kA, kV, MW, MVA,MVar,Euro,m^3\n",
    "\n",
    "Time_day=96\n",
    "\n",
    "s_trafo = 0.23*0.16*3 #data from DACS area7\n",
    "\n",
    "#network\n",
    "network=pd.read_csv(\"data\\\\network.csv\")\n",
    "connect1=pd.read_excel(\"data\\\\user_connect.xlsx\")\n",
    "user_index=connect1[\"Node\"].tolist()\n",
    "n_bus=len(network)+1\n",
    "n_user= len(user_index)  #in DACS7, last one's load is 0 \n",
    "\n",
    "#pv\n",
    "pv_cap=connect1[\"PV\"]*1E-3 #pv capacity from dacs data\n",
    "pv_cap=pv_cap.tolist()\n",
    "\n",
    "#hp\n",
    "hp_own=connect1[\"HP\"].tolist()\n",
    "pf = 0.92 # baseload & HP\n",
    "tan_phi_load = (np.sqrt(1-pf**2))/pf\n",
    "p_hp_max=5*1e-3  #5kw\n",
    "p_hp_min =3*1e-3 #1.8kw\n",
    "p_boil_max=15*1e-3 #15kw\n",
    "p_boil_min=1*1e-3 #1kw\n",
    "\n",
    "#indoor thermal parameter\n",
    "C_house=(10+0.2+30)\n",
    "R_house=1/(1/7+1/6+1/2)\n",
    "COP=4.5\n",
    "x_vals = list(range(15, 31))  # T_ind values from 15 to 30\n",
    "y_vals = [31.9, 26.1, 20.8, 16.0, 12.3, 9.9, 8.2, 7.2, 6.6, 6.6, 7.1, 8.3, 10.4, 13.1, 16.4, 20.2]  # PPD values\n",
    "Pn = len(x_vals)\n",
    "#cost set\n",
    "c_loss = 40\n",
    "c_grid = 500\n",
    "c_hp_down = 400\n",
    "c_pv = 400\n",
    "\n",
    "price_data = pd.read_csv(\"data\\\\price_data.csv\")\n",
    "filtered_data = price_data[(price_data['year'] == 2024) & (price_data['month'] == 2) & (price_data['day'] == 1)]\n",
    "ele_price=filtered_data['energy_price_full'].values\n",
    "gas_price=filtered_data['gas_price_full'].values\n",
    "\n",
    "gas_LHV = 10.16  # kWh/m3\n",
    "\n",
    "\n",
    "\n",
    "#pv constrain\n",
    "pf_pv_limit = 0.95\n",
    "tan_phi_pv = (np.sqrt(1-pf_pv_limit**2))/pf_pv_limit\n",
    "\n",
    "\n",
    "#voltage constrain\n",
    "v_ref = 0.23 # kV\n",
    "v_lb = 0.96 #pu\n",
    "v_ub = 1.04\n",
    "#power\n",
    "\n",
    "df=pd.read_csv(\"data\\\\UserPower.csv\",index_col=0)\n",
    "df['time'] = pd.to_datetime(df['time'], format='%m/%d/%Y %I:%M %p')\n",
    "# Filter for rows where the date is February 1, 2024\n",
    "filtered_df = df[df['time'].dt.date == pd.to_datetime(\"2024-02-01\").date()]\n",
    "LoadPower=filtered_df.copy()\n",
    "LoadPower= LoadPower.reset_index(drop=True)\n",
    "LoadPower.index += 1\n",
    "#reactive power\n",
    "df=pd.read_csv(\"data\\\\UserReactivePower.csv\",index_col=0)\n",
    "df['time'] = pd.to_datetime(df['time'], format='%m/%d/%Y %I:%M %p')\n",
    "filtered_df = df[df['time'].dt.date == pd.to_datetime(\"2024-02-01\").date()]\n",
    "LoadReact=filtered_df.copy()\n",
    "LoadReact= LoadReact.reset_index(drop=True)\n",
    "LoadReact.index += 1\n",
    "\n",
    "#pv efficiency data in \"2024-02-01\"\n",
    "\n",
    "hourly_data = [\n",
    "    0, 0, 0, 0, 0, 0, 0, 0, 0.006, 0.053, 0.129, 0.179,\n",
    "    0.166, 0.14, 0.094, 0.046, 0.007, 0, 0, 0, 0, 0, 0, 0\n",
    "]\n",
    "\n",
    "expanded_data = [value for value in hourly_data for _ in range(4)]\n",
    "expanded_df = pd.DataFrame(expanded_data, columns=[\"Quarter_Hourly_Data\"])\n",
    "\n",
    "#congestion set\n",
    "congestion_limit=np.ones(96)*(-50*1e-3)# define the limit, -50 is no limit\n",
    "#for a congestion test\n",
    "StartRe=40\n",
    "EndRe=48\n",
    "PRe=-100*1e-3\n",
    "# congestion_limit[0]=PRe\n",
    "for t in range(StartRe,EndRe):\n",
    "    congestion_limit[t]=PRe"
   ]
  },
  {
   "cell_type": "code",
   "execution_count": 4,
   "id": "cec53330-9efd-4ff6-9d0d-33ed14a0ba2b",
   "metadata": {},
   "outputs": [
    {
     "name": "stdout",
     "output_type": "stream",
     "text": [
      "Set parameter Username\n",
      "Set parameter LicenseID to value 2617326\n",
      "Academic license - for non-commercial use only - expires 2026-02-03\n"
     ]
    }
   ],
   "source": [
    "m = gp.Model(\"GEC\")\n",
    "m.Params.LogToConsole = 0\n",
    "# define variables\n",
    "p = m.addVars(n_bus,Time_day, lb = -float('inf'), vtype = GRB.CONTINUOUS, name = \"PBusInjection\")\n",
    "\n",
    "q = m.addVars(n_bus, Time_day,lb = -float('inf'),  vtype = GRB.CONTINUOUS, name = \"QBusInjection\")\n",
    "\n",
    "PLine = m.addVars(n_bus-1,Time_day, lb = -float('inf'),  vtype = GRB.CONTINUOUS, name = \"PLine\")\n",
    "QLine = m.addVars(n_bus-1,Time_day, lb = -float('inf'),  vtype = GRB.CONTINUOUS, name = \"QLine\")\n",
    "v = m.addVars(n_bus, Time_day,lb = (v_lb*v_ref)**2, ub = (v_ub*v_ref)**2, vtype = GRB.CONTINUOUS, name = \"VoltSquare\")\n",
    "l = m.addVars(n_bus-1, Time_day,lb = 0, vtype = GRB.CONTINUOUS, name = \"CurrentSquare\")\n",
    "p_pv = m.addVars(n_user,Time_day, lb = 0, vtype = GRB.CONTINUOUS, name = \"PVactivePower\")\n",
    "q_pv = m.addVars(n_user,Time_day, lb = -float('inf'),  vtype = GRB.CONTINUOUS, name = \"PVreactivePower\")\n",
    "\n",
    "p_hp = m.addVars(n_user,Time_day, lb = 0, vtype = GRB.CONTINUOUS, name = \"HPactivePower\")\n",
    "q_hp = m.addVars(n_user,Time_day, lb = 0,  vtype = GRB.CONTINUOUS, name = \"HPreactivePower\")\n",
    "\n",
    "p_pv_down = m.addVars(n_user,Time_day, lb = 0,  vtype = GRB.CONTINUOUS, name = \"PVcurtailedActivePower\")\n",
    "b_hp =m.addVars(n_user,Time_day,  vtype = GRB.BINARY, name = \"HP_Open\")\n",
    "p_hp_down = m.addVars(n_user,Time_day, lb = 0, vtype = GRB.CONTINUOUS, name = \"HPcurtailedActivePower\")\n",
    "\n",
    "#indoor variable\n",
    "h_hp=m.addVars(n_user,Time_day, lb = 0, vtype = GRB.CONTINUOUS, name = \"HPHeat\")\n",
    "g_boil = m.addVars(n_user,Time_day, lb = 0, vtype = GRB.CONTINUOUS, name = \"GasToBoiler\")\n",
    "h_boil = m.addVars(n_user,Time_day, lb = 0, vtype = GRB.CONTINUOUS, name = \"BoilerHeat\")\n",
    "b_boil =m.addVars(n_user,Time_day,  vtype = GRB.BINARY, name = \"Boil_Open\")\n",
    "\n",
    "Heat = m.addVars(n_user,Time_day, lb = 0, vtype = GRB.CONTINUOUS, name = \"TotalHeat\")\n",
    "T_ind = m.addVars(n_user,Time_day, lb = 0, vtype = GRB.CONTINUOUS, name = \"IndoorTem\")\n",
    "PPD  = m.addVars(n_user,Time_day, lb = 0, vtype = GRB.CONTINUOUS, name = \"PPD\")\n",
    "lambdas = m.addVars(Pn, lb=0, ub=1, name=\"lambda\")  # SOS2 variables\n"
   ]
  },
  {
   "cell_type": "code",
   "execution_count": 5,
   "id": "9e0fdc41-1c5e-4c1c-a895-7ac714123e47",
   "metadata": {},
   "outputs": [],
   "source": [
    "# define constraints\n",
    "\n",
    "for t in range(Time_day):\n",
    "        #choose the time\n",
    "    run_time=t\n",
    "    # pv efficiency in selected time\n",
    "    pv_ef=expanded_df.at[run_time,\"Quarter_Hourly_Data\"]\n",
    "    # load in selected time\n",
    "    p_baseload=LoadPower.iloc[run_time,1:]*1E-3\n",
    "    p_baseload=p_baseload.tolist()\n",
    "    q_baseload=LoadReact.iloc[run_time,1:]*1E-3\n",
    "    q_baseload=q_baseload.tolist()\n",
    "    \n",
    "    # for slack bus, power balance\n",
    "\n",
    "    m.addQConstr(p[0,t] >= congestion_limit[t], \"TransPowerLimitForCongestion\")\n",
    "    m.addQConstr(p[0,t]*p[0,t] + q[0,t]*q[0,t]  <= s_trafo**2, \"trafoLimit\") # transformer loading constraints, #1 additional constraint\n",
    "    \n",
    "    # for non-slack bus, power balance\n",
    "    for j in range(0,n_bus):\n",
    "        P_outFlow = 0\n",
    "        P_inFlow = 0\n",
    "        P_loss=0\n",
    "        for i in range(0,n_bus-1):\n",
    "            if (network.at[i,'StartNode'] == j) :                \n",
    "                P_outFlow += PLine[i,t]                \n",
    "            if (network.at[i,'EndNode'] == j) :                \n",
    "                P_inFlow += PLine[i,t]                \n",
    "                P_loss += l[i,t]*network.at[i,'R']\n",
    "        m.addConstr( p[j,t] == -P_outFlow + (P_inFlow-P_loss),name = \"BusPower{}\".format(j))       \n",
    "    for j in range(0,n_bus):\n",
    "        Q_outFlow = 0\n",
    "        Q_inFlow = 0\n",
    "        Q_loss = 0\n",
    "        for i in range(0,n_bus-1):\n",
    "            if (network.at[i,'StartNode'] == j):    \n",
    "                Q_outFlow += QLine[i,t]\n",
    "            if (network.at[i,'EndNode'] == j):                \n",
    "                Q_inFlow += QLine[i,t]\n",
    "                Q_loss += l[i,t]*network.at[i,'X']\n",
    "        m.addConstr((q[j,t]  ) == -Q_outFlow + (Q_inFlow-Q_loss) ,name = \"BusReact{}\".format(j))\n",
    "    # voltage relation\n",
    "    for i in range(n_bus-1):\n",
    "        m.addConstr(v[network.at[i,'EndNode'],t] == v[network.at[i,'StartNode'],t]\\\n",
    "                    -2*(network.at[i,'R']*PLine[i,t] \\\n",
    "                        +network.at[i,'X']*QLine[i,t])+(network.at[i,'R']**2+network.at[i,'X']**2)*l[i,t],name = \"LineVoltage{}\".format(i))\n",
    "    \n",
    "    for i in range(n_bus-1):\n",
    "        m.addQConstr(1E3*PLine[i,t] * PLine[i,t] +1E3*QLine[i,t] * QLine[i,t] <=1E3* l[i,t] * v[network.at[i,'StartNode'],t], name = \"BusSOCP{}\".format(i))    \n",
    "    \n",
    "    for i in range(n_bus-1):\n",
    "            m.addConstr(l[i,t]  <= (network.at[i,'Inom'])**2,name = \"LineCurrent{}\".format(i))\n",
    "    m.addConstr(v[0,t] == v_ref**2,\"transVol\") #3 additional constraint\n",
    "    # load constraints\n",
    "    for i in range(n_bus):\n",
    "        if i not in user_index and i != 0: # slack bus + residential loads\n",
    "            m.addConstr(p[i,t] == 0,\"busP=0\")\n",
    "            m.addConstr(q[i,t] == 0,\"busQ=0\")\n",
    "        if i in user_index:\n",
    "            m.addConstr(p[i,t] ==  p_baseload[i-(n_bus-n_user)] - p_pv[i-(n_bus-n_user),t] + p_hp[i-(n_bus-n_user),t], \"LoadP\")\n",
    "            m.addConstr(q[i,t] ==  q_baseload[i-(n_bus-n_user)]  - q_pv[i-(n_bus-n_user),t] + q_hp[i-(n_bus-n_user),t], \"LoadQ\")          \n",
    "\n",
    "    # m.addConstr( b_hp[i,t] == 0,\"HHP_test\")\n",
    "    #constraints for pv hp\n",
    "    for i in range(n_user):        \n",
    "        m.addConstr(-p_pv[i,t] * tan_phi_pv <= q_pv[i,t],\"pv_tan-\")\n",
    "        m.addConstr(q_pv[i,t] <= p_pv[i,t] * tan_phi_pv,\"pv_tan+\")\n",
    "        m.addConstr(q_hp[i,t] == p_hp[i,t] * tan_phi_load,\"hp_tan\")\n",
    "         \n",
    "        m.addConstr(p_pv[i,t] <= pv_cap[i]*pv_ef,\"pvMax\")\n",
    "        m.addConstr(p_pv_down[i,t] == pv_cap[i]*pv_ef - p_pv[i,t],\"pv_down\")\n",
    "        m.addConstr(p_hp[i,t] <= b_hp[i,t]*p_hp_max*hp_own[i],\"hp_max\")\n",
    "        m.addConstr(p_hp[i,t] >= b_hp[i,t]*p_hp_min*hp_own[i],\"hp_min\")\n",
    "        m.addConstr(p_hp_down[i,t] >= p_hp_max*hp_own[i] - p_hp[i,t],\"hp_down\")\n",
    "    #indoor model\n",
    "        m.addConstr(h_boil[i,t] <= b_boil[i,t]*p_boil_max,\"boil_max\")\n",
    "        m.addConstr(h_boil[i,t] >= b_boil[i,t]*p_boil_min,\"boil_min\")\n",
    "\n",
    "        m.addConstr(b_boil[i,t] + b_hp[i,t] <= 1,\"HHP_constrain\")\n",
    "        # m.addConstr( b_hp[i,t] == 0,\"HHP_test\")\n",
    "        m.addConstr(h_hp[i,t] == COP*p_hp[i,t],\"hp_heat\")\n",
    "        m.addConstr(1e3*h_boil[i,t] == 4*gas_LHV*g_boil[i,t],\"boiler_heat\") #unit, mw\n",
    "       \n",
    "        m.addConstr(Heat[i,t] == h_hp[i,t] + h_boil[i,t] ,\"HeatOutput\")\n",
    "        \n",
    "        # m.addConstr(T_ind[i,t] >=20.4 ,\"MinIndoorTem\")\n",
    "        if t == 0:\n",
    "            m.addConstr(C_house*(T_ind[i,t]-Tem_ind0) == 1e3*Heat[i,t]*0.25+(T_amb[0]-Tem_ind0)/R_house*0.25 ,\"IndoorTemChange0\")            \n",
    "        else:\n",
    "            m.addConstr(C_house*(T_ind[i,t]-T_ind[i,t-1]) == 1e3*Heat[i,t]*0.25+(T_amb[t-1]-T_ind[i,t-1])/R_house*0.25 ,\"IndoorTemChange\")\n",
    "\n",
    "        # m.addConstr(PPD[i,t] <=9.247186774, name=\"PPDMarg\")\n",
    "        # PPD SOS2\n",
    "        # Constraints\n",
    "        m.addConstr(sum(lambdas[i] for i in range(Pn)) == 1, name=\"SumToOne\")\n",
    "        m.addConstr(T_ind[i,t] == sum(x_vals[i] * lambdas[i] for i in range(Pn)), name=\"T_indEq\")\n",
    "        m.addConstr(PPD[i,t] == sum(y_vals[i] * lambdas[i] for i in range(Pn)), name=\"PPDEq\")\n",
    "        \n",
    "        # SOS2 constraint\n",
    "        m.addSOS(GRB.SOS_TYPE2, [lambdas[i] for i in range(Pn)])\n"
   ]
  },
  {
   "cell_type": "code",
   "execution_count": 9,
   "id": "8e126634-79a0-4291-aced-e7611cb78bf1",
   "metadata": {},
   "outputs": [],
   "source": [
    "# define objective\n",
    "obj = 0\\\n",
    "+quicksum(1e3*ele_price[int(t/4)]*(p[i,t])*0.25 for i in user_index for t in range(Time_day) )\\\n",
    "+ quicksum(gas_price[int(t/4)]*g_boil[i,t] for t in range(Time_day) for i in range(n_user))\\\n",
    "+ quicksum(2.5*PPD[i,t] for t in range(Time_day) for i in range(n_user))\\\n",
    "# + quicksum(c_hp_down*p_hp_down[i,t]*0.25 for t in range(Time_day) for i in range(n_user))\\\n",
    "# + quicksum(c_pv*p_pv_down[i,t]*0.25 for t in range(Time_day) for i in range(n_user))\\\n",
    "# + quicksum(l[i,t]*network.at[i,'R'] * c_loss for t in range(Time_day) for i in range(n_bus-1))\\\n",
    "\n",
    "# m.write(\"model.lp\")\n",
    "m.setObjective(obj, GRB.MINIMIZE)"
   ]
  },
  {
   "cell_type": "code",
   "execution_count": 10,
   "id": "38db256d-983e-47ac-aa69-c33f5934ff73",
   "metadata": {},
   "outputs": [
    {
     "name": "stdout",
     "output_type": "stream",
     "text": [
      "Optimization Runtime: 112.88700008392334 seconds\n",
      "Model solved successfully!\n"
     ]
    }
   ],
   "source": [
    "m.optimize()\n",
    "print(f\"Optimization Runtime: {m.Runtime} seconds\")\n",
    "if m.status == GRB.OPTIMAL:\n",
    "    print(\"Model solved successfully!\")    \n",
    "    # m.write(\"opf_model.sol\")\n",
    "else:\n",
    "    print(f\"Model status: {m.status}\")\n"
   ]
  },
  {
   "cell_type": "code",
   "execution_count": 177,
   "id": "066f52dd-9f89-4479-88d6-0b34c0be145e",
   "metadata": {},
   "outputs": [
    {
     "data": {
      "text/plain": [
       "0.24"
      ]
     },
     "execution_count": 177,
     "metadata": {},
     "output_type": "execute_result"
    }
   ],
   "source": [
    "ele_price[0]"
   ]
  },
  {
   "cell_type": "code",
   "execution_count": 178,
   "id": "c1595e5e-2624-41f3-90c0-b1e5f3638e74",
   "metadata": {},
   "outputs": [],
   "source": [
    "# m.write(\"fullmodel.lp\")"
   ]
  },
  {
   "cell_type": "code",
   "execution_count": 179,
   "id": "f5c461cf-5d4e-4261-95bd-2107c648a154",
   "metadata": {},
   "outputs": [],
   "source": [
    "# m.write(\"fullmodel.sol\")"
   ]
  },
  {
   "cell_type": "code",
   "execution_count": 180,
   "id": "488a30be-67a2-4f7f-b6b9-abb40974ca38",
   "metadata": {},
   "outputs": [],
   "source": [
    "# m.computeIIS()\n",
    "# m.write(\"infeasible.ilp\")"
   ]
  },
  {
   "cell_type": "code",
   "execution_count": 11,
   "id": "92e1e4ee-cef4-4904-bc00-e4601f6a70fe",
   "metadata": {
    "scrolled": true
   },
   "outputs": [],
   "source": [
    "#change the output name\n",
    "dict_optimizedResults = {\n",
    "    \"p\": [[p[i,t].X  for t in range(Time_day)]for i in range(n_bus)],\n",
    "    \"q\": [[q[i,t].X  for t in range(Time_day)] for i in range(n_bus)], \n",
    "    \"v_value\": [[v[i,t].X  for t in range(Time_day)] for i in range(n_bus)],   \n",
    "    \"p_hp_down\": [[p_hp_down[i,t].X for t in range(Time_day)]for i in range(n_user)], \n",
    "    \"p_hp\": [[p_hp[i,t].X for t in range(Time_day)]for i in range(n_user)],\n",
    "    \"p_pv_down\": [[p_pv_down[i,t].X for t in range(Time_day)]for i in range(n_user)], \n",
    "    \"p_pv\": [[p_pv[i,t].X for t in range(Time_day)]for i in range(n_user)],\n",
    "    \"T_ind\": [[T_ind[i,t].X for t in range(Time_day)]for i in range(n_user)],\n",
    "    \"g_boil\": [[g_boil[i,t].X for t in range(Time_day)]for i in range(n_user)],\n",
    "    \"PPD\": [[PPD[i,t].X for t in range(Time_day)]for i in range(n_user)]\n",
    "    } \n",
    "# print(dict_optimizedResults)\n",
    "Result_p = dict_optimizedResults[\"p\"]\n",
    "Result_q = dict_optimizedResults[\"q\"]\n",
    "Result_v= dict_optimizedResults[\"v_value\"]\n",
    "Result_hp_down = dict_optimizedResults[\"p_hp_down\"]\n",
    "Result_hp = dict_optimizedResults[\"p_hp\"]\n",
    "Result_pv_down = dict_optimizedResults[\"p_pv_down\"]\n",
    "Result_pv = dict_optimizedResults[\"p_pv\"]\n",
    "Result_T_ind = dict_optimizedResults[\"T_ind\"]\n",
    "Result_g_boil = dict_optimizedResults[\"g_boil\"]\n",
    "Result_PPD = dict_optimizedResults[\"PPD\"]"
   ]
  },
  {
   "cell_type": "code",
   "execution_count": 28,
   "id": "8a4d7ced-4be8-4f5d-abf5-5cbf573864d5",
   "metadata": {},
   "outputs": [
    {
     "name": "stdout",
     "output_type": "stream",
     "text": [
      "total power\n",
      "[-0.01689217954923882]\n",
      "Indoor Tem:\n",
      "[[19.027164647619905], [19.027164647619905], [19.027164647619905], [19.027164647619905], [19.027164647619905], [19.027164647619905], [19.027164647619905], [19.027164647619905], [19.027164647619905], [19.027164647619905], [19.027164647619905], [19.027164647619905], [19.027164647619905], [19.027164647619905], [19.027164647619905], [19.027164647619905], [19.027164647619905], [19.027164647619905], [19.027164647619905], [19.027164647619905], [19.027164647619905], [19.027164647619905], [19.027164647619905], [19.027164647619905], [19.027164647619905], [19.027164647619905], [19.027164647619905], [19.027164647619905], [19.027164647619905], [19.027164647619905], [19.027164647619905], [19.027164647619905], [19.027164647619905], [19.027164647619905], [19.027164647619905], [19.027164647619905], [19.027164647619905]]\n",
      "Gas:\n",
      "[10.29733974]\n",
      "hp:\n",
      "[[0.003321300692235257], [0.0], [0.0], [0.0], [0.0], [0.0], [0.0], [0.003321300692235257], [0.0], [0.0], [0.0], [0.0], [0.0], [0.0], [0.0], [0.0], [0.0], [0.003321300692235257], [0.003321300692235257], [0.0], [0.0], [0.0], [0.0], [0.0], [0.003321300692235257], [0.003321300692235257], [0.0], [0.0], [0.003321300692235257], [0.0], [0.0], [0.0], [0.003321300692235257], [0.0], [0.003321300692235257], [0.0], [0.0]]\n",
      "[0.02989171]\n",
      "PPD:\n",
      "[[12.234804845712226], [12.234804845712226], [12.234804845712226], [12.234804845712226], [12.234804845712226], [12.234804845712226], [12.234804845712226], [12.234804845712226], [12.234804845712226], [12.234804845712226], [12.234804845712226], [12.234804845712226], [12.234804845712226], [12.234804845712226], [12.234804845712226], [12.234804845712226], [12.234804845712226], [12.234804845712226], [12.234804845712226], [12.234804845712226], [12.234804845712226], [12.234804845712226], [12.234804845712226], [12.234804845712226], [12.234804845712226], [12.234804845712226], [12.234804845712226], [12.234804845712226], [12.234804845712226], [12.234804845712226], [12.234804845712226], [12.234804845712226], [12.234804845712226], [12.234804845712226], [12.234804845712226], [12.234804845712226], [12.234804845712226]]\n"
     ]
    }
   ],
   "source": [
    "print(\"total power\")\n",
    "print(Result_p[0])\n",
    "print(\"Indoor Tem:\")\n",
    "print(Result_T_ind)\n",
    "print(\"Gas:\")\n",
    "print(sum(np.array(Result_g_boil)))\n",
    "print(\"hp:\")\n",
    "print(Result_hp)\n",
    "print(sum(np.array(Result_hp)))\n",
    "print(\"PPD:\")\n",
    "print(Result_PPD)"
   ]
  },
  {
   "cell_type": "code",
   "execution_count": 183,
   "id": "56f0bd90-cc7b-433f-8708-830b6f4d66a2",
   "metadata": {},
   "outputs": [
    {
     "name": "stdout",
     "output_type": "stream",
     "text": [
      "The optimal objective value is: 1144.222756733108\n"
     ]
    }
   ],
   "source": [
    "print(f\"The optimal objective value is: {m.objVal}\")"
   ]
  },
  {
   "cell_type": "code",
   "execution_count": 12,
   "id": "f90bae78-361f-4bd3-a843-1d0b376b0569",
   "metadata": {},
   "outputs": [],
   "source": [
    "Result_p_array = np.array(Result_p)\n",
    "Result_q_array = np.array(Result_q)\n",
    "\n",
    "# Result_hp_array = np.array(Result_hp)\n",
    "# Result_hp_sum = Result_hp_array.sum(axis=0)*1e3  \n",
    "\n",
    "# Result_hp_down_array = np.array(Result_hp_down)\n",
    "# Result_hp_down_sum = Result_hp_down_array.sum(axis=0)*1e3  \n",
    "\n",
    "# Result_pv_array = np.array(Result_pv)\n",
    "# Result_pv_sum = Result_pv_array.sum(axis=0)*1e3  \n",
    "\n",
    "# Result_pv_down_array = np.array(Result_pv_down)\n",
    "# Result_pv_down_sum = Result_pv_down_array.sum(axis=0)*1e3  \n"
   ]
  },
  {
   "cell_type": "code",
   "execution_count": 134,
   "id": "6417c8df-636f-4b97-b95b-e5e9c547d1d7",
   "metadata": {},
   "outputs": [
    {
     "data": {
      "image/png": "[encoded data removed]",
      "text/plain": [
       "<Figure size 800x500 with 1 Axes>"
      ]
     },
     "metadata": {},
     "output_type": "display_data"
    }
   ],
   "source": [
    "import matplotlib.pyplot as plt\n",
    "# Create an index for the x-axis\n",
    "indices = range(len(Result_p[0]))\n",
    "transformed_Result_p = [-val * 1e3 for val in Result_p[0]]\n",
    "# Plot the data\n",
    "plt.figure(figsize=(8, 5))\n",
    "plt.plot(indices, transformed_Result_p, marker='o', linestyle='-', color='b', label='Transformer')\n",
    "plt.plot(Result_hp_sum, label=\"HP\", marker='o', color='r')\n",
    "plt.plot(Result_hp_down_sum, label=\"HPDown\", marker='x', color='purple')  \n",
    "plt.plot(Result_pv_sum, label=\"PV\", marker='o', color='y')\n",
    "plt.plot(Result_pv_down_sum, label=\"PVDown\", marker='x', color='black') \n",
    "\n",
    "\n",
    "# Add labels and title\n",
    "plt.xlabel('Time', fontsize=12)\n",
    "plt.ylabel('Power/kW', fontsize=12)\n",
    "plt.title('Result', fontsize=14)\n",
    "plt.grid(True)\n",
    "plt.legend()\n",
    "\n",
    "# Show the plot\n",
    "plt.show()"
   ]
  },
  {
   "cell_type": "code",
   "execution_count": 13,
   "id": "9bd2fb82-09f7-42d6-b842-02f02c2c5c2d",
   "metadata": {},
   "outputs": [],
   "source": [
    "#pf validate\n",
    "\n",
    "import pandas as pd\n",
    "from pandapower.plotting import simple_plot \n",
    "import pandapower as pp\n",
    "\n",
    "\n",
    "\n",
    "def epse_feeder(t):\n",
    "\n",
    "    net = pp.create_empty_network()\n",
    "    pp.set_user_pf_options(net, algorithm='nr', init_vm_pu = \"flat\", init_va_degree = \"dc\", calculate_voltage_angles = True) \n",
    "    n_bus = 87\n",
    "    # create buses\n",
    "    for i in range(n_bus): \n",
    "        globals()['b{}'.format(i)] = pp.create_bus(net, 0.23, name = \"b{}\".format(i))          \n",
    "    # slack bus\n",
    "    pp.create_ext_grid(net, globals()['b0'], s_sc_max_kva=400,rx_max=0.1,r0x0_max= 0.1,x0x_max=1.0)\n",
    "    # create standard lines\n",
    "    # data from Vision\n",
    " \n",
    "    pp.create_std_type(net, {\"c_nf_per_km\": 430, \"r_ohm_per_km\": 1.91, \"x_ohm_per_km\": 0.096,\\\n",
    "                             \"c0_nf_per_km\": 260, \"r0_ohm_per_km\": 4.65, \"x0_ohm_per_km\": 0.16,\\\n",
    "                             \"max_i_ka\": 0.075}, name = \"16Al\", element = \"line\")\n",
    "\n",
    "    pp.create_std_type(net, {\"c_nf_per_km\": 540, \"r_ohm_per_km\": 0.641, \"x_ohm_per_km\": 0.085,\\\n",
    "                             \"c0_nf_per_km\": 320, \"r0_ohm_per_km\": 1.65, \"x0_ohm_per_km\": 0.15,\\\n",
    "                             \"max_i_ka\": 0.14}, name = \"50Al\", element = \"line\")\n",
    "    pp.create_std_type(net, {\"c_nf_per_km\": 660, \"r_ohm_per_km\": 0.32, \"x_ohm_per_km\": 0.082,\\\n",
    "                             \"c0_nf_per_km\": 400, \"r0_ohm_per_km\": 0.91, \"x0_ohm_per_km\": 0.15,\\\n",
    "                             \"max_i_ka\": 0.22}, name = \"95Al\", element = \"line\")\n",
    "    pp.create_std_type(net, {\"c_nf_per_km\": 200, \"r_ohm_per_km\": 3.061, \"x_ohm_per_km\": 0.1,\\\n",
    "                             \"c0_nf_per_km\": 120, \"r0_ohm_per_km\": 7.82, \"x0_ohm_per_km\": 0.18,\\\n",
    "                             \"max_i_ka\": 0.055}, name = \"6Cu\", element = \"line\")\n",
    "    pp.create_std_type(net, {\"c_nf_per_km\": 350, \"r_ohm_per_km\": 1.15, \"x_ohm_per_km\": 0.08,\\\n",
    "                             \"c0_nf_per_km\": 210, \"r0_ohm_per_km\": 3.6, \"x0_ohm_per_km\": 0.21,\\\n",
    "                             \"max_i_ka\": 0.1}, name = \"16Cu\", element = \"line\")\n",
    "\n",
    "    \n",
    "    #use the default cable parameter, next time change it as the gaia Inom\n",
    "    for i in range(n_bus-1):\n",
    "        pp.create_line(net, globals()['b{}'.format(network.at[i,'StartNode'])], \\\n",
    "                       globals()['b{}'.format(network.at[i,'EndNode'])], network.at[i,'Length']*1E-3, network.at[i,'cable']) \n",
    "        \n",
    "    # create loads\n",
    "    for i in range(n_bus): \n",
    "        if i in connect1['Node'].values:            \n",
    "            pp.create_load(net, globals()['b{}'.format(i)], p_mw=Result_p_array[i][t], q_mvar=Result_q_array[i][t])\n",
    " \n",
    "    # print(net.bus)\n",
    "    # print(net.line)\n",
    "    pp.runpp(net)\n",
    "    # simple_plot(net, plot_loads = True)  \n",
    "    p_bus0 = net.res_bus.loc[0, 'p_mw']  # Active power at bus 0\n",
    "    q_bus0 = net.res_bus.loc[0, 'q_mvar']  # Reactive power at bus 0\n",
    "    \n",
    "    return net, p_bus0, q_bus0\n",
    "\n",
    "if __name__ == \"__main__\":\n",
    "    TransAva=[]\n",
    "    PFdiff =[]\n",
    "    PF_bus0=[]\n",
    "    for t in range(Time_day):\n",
    "        net,p_bus0,q_bus0 = epse_feeder(t)\n",
    "        # add p_bus0 to the list\n",
    "        PF_bus0.append(p_bus0)\n",
    "        # TransAva.append(p_bus0 - congestion_limit[t])\n",
    "        # PFdiff.append(abs(p_bus0 - Result_p_array[0][t]))\n",
    "        \n",
    "        "
   ]
  },
  {
   "cell_type": "code",
   "execution_count": null,
   "id": "b7898dff",
   "metadata": {},
   "outputs": [
    {
     "data": {
      "text/plain": [
       "array([-0.01556154])"
      ]
     },
     "execution_count": 19,
     "metadata": {},
     "output_type": "execute_result"
    }
   ],
   "source": [
    "\n"
   ]
  },
  {
   "cell_type": "code",
   "execution_count": 16,
   "id": "709fb0a4",
   "metadata": {},
   "outputs": [
    {
     "data": {
      "image/png": "[encoded data removed]",
      "text/plain": [
       "<Figure size 800x500 with 1 Axes>"
      ]
     },
     "metadata": {},
     "output_type": "display_data"
    }
   ],
   "source": [
    "# compare PF_bus0 with Result_p_array[0] in every time step in a plot\n",
    "import matplotlib.pyplot as plt\n",
    "plt.figure(figsize=(8, 5))\n",
    "plt.plot(PF_bus0, label='PF_bus0')\n",
    "plt.plot(Result_p_array[0], label='Result_p_array[0]')\n",
    "# add sum (Result_p_array[i] for i in range(1, n_bus)) to the plot\n",
    "plt.plot(-sum(Result_p_array[i] for i in range(1, n_bus)), label='Sum of Result_p_array[i]')\n",
    "plt.xlabel('Time', fontsize=12)\n",
    "plt.ylabel('Power/kW', fontsize=12)\n",
    "plt.title('PF_bus0 vs Result_p_array[0]', fontsize=14)\n",
    "plt.grid(True)\n",
    "plt.legend()\n",
    "plt.show()\n"
   ]
  },
  {
   "cell_type": "code",
   "execution_count": 136,
   "id": "36c33189-6877-4566-80af-cca4b0c1bba2",
   "metadata": {},
   "outputs": [
    {
     "name": "stdout",
     "output_type": "stream",
     "text": [
      "The power flow validate the OPF result, the biggest difference is: 3.656321740340418e-07MW\n"
     ]
    }
   ],
   "source": [
    "#check the transformer's power \n",
    "min_value = min(TransAva)\n",
    "max_value = max(PFdiff)\n",
    "# Check if the transformer power of the pf fit the congestion limit\n",
    "if min_value < 0:    \n",
    "    locations = [i for i, val in enumerate(TransAva) if val == min_value]\n",
    "    print(f\"Congestion Management Error: {min_value}\")\n",
    "    print(f\"Locations of Errors: {locations}\")\n",
    "#calculate the difference between the pf and opf\n",
    "print(f\"The power flow validate the OPF result, the biggest difference is: {max_value}MW\")"
   ]
  },
  {
   "cell_type": "markdown",
   "id": "33bc9f6d-087a-471f-b02a-ac1f3d9f9fd4",
   "metadata": {},
   "source": [
    "# For Stefan:\n",
    "\n",
    "## Indoor Temperature ($T_\\text{indoor}$) Formulation\n",
    "\n",
    "The $T_\\text{indoor}$ formulation I want to implement is similar to the one presented in the paper:  \n",
    "[Indoor Temperature Dynamics in Demand-Side Management](https://ieeexplore.ieee.org/document/10137610) (Section 2-B).  \n",
    "\n",
    "To model this, I would need parameters such as thermal resistance ($R$) and thermal capacitance ($C$) for a typical house in a DACS (Direct Air Conditioning System) setting.\n",
    "\n",
    "### Alternative Approach\n",
    "\n",
    "If the above formulation cannot be realized, you can proceed with the planned method for modeling heat pumps as part of the whole congestion management system.\n"
   ]
  },
  {
   "cell_type": "code",
   "execution_count": 137,
   "id": "fbe11c6f-3af3-46d6-8b34-599e5940fea6",
   "metadata": {},
   "outputs": [],
   "source": [
    "#thermal model\n",
    "\n",
    "#house parameter\n",
    "#total thermal output\n",
    "# Q_thermal= Qhp+Qcv\n",
    "# Qhp=Php*COP   \n",
    "#C_house*(T_in(t)-T_in(t-1)) = Q_thermal*dt+(T_amb-T_in(t-1))/R_house*dt\n",
    "\n",
    "# I want to have the T_in and the correspoding model. so I can use T_in to get PMV and thus get the constraints of heat demand\n",
    "\n",
    "#thermal uncomfort\n",
    "# PPD=F(T_in(t))\n"
   ]
  }
 ],
 "metadata": {
  "kernelspec": {
   "display_name": "Model310",
   "language": "python",
   "name": "model310"
  },
  "language_info": {
   "codemirror_mode": {
    "name": "ipython",
    "version": 3
   },
   "file_extension": ".py",
   "mimetype": "text/x-python",
   "name": "python",
   "nbconvert_exporter": "python",
   "pygments_lexer": "ipython3",
   "version": "3.10.14"
  }
 },
 "nbformat": 4,
 "nbformat_minor": 5
}
