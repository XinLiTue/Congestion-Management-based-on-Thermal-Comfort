{
 "cells": [
  {
   "cell_type": "code",
   "execution_count": 2,
   "id": "1510b462-33b2-4a32-b4e3-6c5cafcc9739",
   "metadata": {},
   "outputs": [],
   "source": [
    "import gurobipy as gp\n",
    "from gurobipy import GRB, quicksum\n",
    "import pandas as pd\n",
    "import numpy as np\n",
    "import math"
   ]
  },
  {
   "cell_type": "code",
   "execution_count": 3,
   "id": "31fa8410-1412-42ae-9ee8-5ac8cd0cb697",
   "metadata": {},
   "outputs": [
    {
     "ename": "FileNotFoundError",
     "evalue": "[Errno 2] No such file or directory: 'data\\\\TemperaturesInd.csv'",
     "output_type": "error",
     "traceback": [
      "\u001b[1;31m---------------------------------------------------------------------------\u001b[0m",
      "\u001b[1;31mFileNotFoundError\u001b[0m                         Traceback (most recent call last)",
      "Cell \u001b[1;32mIn[3], line 3\u001b[0m\n\u001b[0;32m      1\u001b[0m \u001b[38;5;66;03m#tem input\u001b[39;00m\n\u001b[0;32m      2\u001b[0m \u001b[38;5;66;03m#indoor tem in time 0\u001b[39;00m\n\u001b[1;32m----> 3\u001b[0m Indtem_data_row \u001b[38;5;241m=\u001b[39m \u001b[43mpd\u001b[49m\u001b[38;5;241;43m.\u001b[39;49m\u001b[43mread_csv\u001b[49m\u001b[43m(\u001b[49m\u001b[38;5;124;43m\"\u001b[39;49m\u001b[38;5;124;43mdata\u001b[39;49m\u001b[38;5;130;43;01m\\\\\u001b[39;49;00m\u001b[38;5;124;43mTemperaturesInd.csv\u001b[39;49m\u001b[38;5;124;43m\"\u001b[39;49m\u001b[43m)\u001b[49m\n\u001b[0;32m      4\u001b[0m Indtem_data_row[\u001b[38;5;124m'\u001b[39m\u001b[38;5;124mtime\u001b[39m\u001b[38;5;124m'\u001b[39m] \u001b[38;5;241m=\u001b[39m pd\u001b[38;5;241m.\u001b[39mto_datetime(Indtem_data_row[\u001b[38;5;124m'\u001b[39m\u001b[38;5;124mtime\u001b[39m\u001b[38;5;124m'\u001b[39m])\n\u001b[0;32m      5\u001b[0m \u001b[38;5;66;03m#degree to value\u001b[39;00m\n",
      "File \u001b[1;32m~\\AppData\\Local\\anaconda3\\envs\\Model310\\lib\\site-packages\\pandas\\io\\parsers\\readers.py:1026\u001b[0m, in \u001b[0;36mread_csv\u001b[1;34m(filepath_or_buffer, sep, delimiter, header, names, index_col, usecols, dtype, engine, converters, true_values, false_values, skipinitialspace, skiprows, skipfooter, nrows, na_values, keep_default_na, na_filter, verbose, skip_blank_lines, parse_dates, infer_datetime_format, keep_date_col, date_parser, date_format, dayfirst, cache_dates, iterator, chunksize, compression, thousands, decimal, lineterminator, quotechar, quoting, doublequote, escapechar, comment, encoding, encoding_errors, dialect, on_bad_lines, delim_whitespace, low_memory, memory_map, float_precision, storage_options, dtype_backend)\u001b[0m\n\u001b[0;32m   1013\u001b[0m kwds_defaults \u001b[38;5;241m=\u001b[39m _refine_defaults_read(\n\u001b[0;32m   1014\u001b[0m     dialect,\n\u001b[0;32m   1015\u001b[0m     delimiter,\n\u001b[1;32m   (...)\u001b[0m\n\u001b[0;32m   1022\u001b[0m     dtype_backend\u001b[38;5;241m=\u001b[39mdtype_backend,\n\u001b[0;32m   1023\u001b[0m )\n\u001b[0;32m   1024\u001b[0m kwds\u001b[38;5;241m.\u001b[39mupdate(kwds_defaults)\n\u001b[1;32m-> 1026\u001b[0m \u001b[38;5;28;01mreturn\u001b[39;00m \u001b[43m_read\u001b[49m\u001b[43m(\u001b[49m\u001b[43mfilepath_or_buffer\u001b[49m\u001b[43m,\u001b[49m\u001b[43m \u001b[49m\u001b[43mkwds\u001b[49m\u001b[43m)\u001b[49m\n",
      "File \u001b[1;32m~\\AppData\\Local\\anaconda3\\envs\\Model310\\lib\\site-packages\\pandas\\io\\parsers\\readers.py:620\u001b[0m, in \u001b[0;36m_read\u001b[1;34m(filepath_or_buffer, kwds)\u001b[0m\n\u001b[0;32m    617\u001b[0m _validate_names(kwds\u001b[38;5;241m.\u001b[39mget(\u001b[38;5;124m\"\u001b[39m\u001b[38;5;124mnames\u001b[39m\u001b[38;5;124m\"\u001b[39m, \u001b[38;5;28;01mNone\u001b[39;00m))\n\u001b[0;32m    619\u001b[0m \u001b[38;5;66;03m# Create the parser.\u001b[39;00m\n\u001b[1;32m--> 620\u001b[0m parser \u001b[38;5;241m=\u001b[39m TextFileReader(filepath_or_buffer, \u001b[38;5;241m*\u001b[39m\u001b[38;5;241m*\u001b[39mkwds)\n\u001b[0;32m    622\u001b[0m \u001b[38;5;28;01mif\u001b[39;00m chunksize \u001b[38;5;129;01mor\u001b[39;00m iterator:\n\u001b[0;32m    623\u001b[0m     \u001b[38;5;28;01mreturn\u001b[39;00m parser\n",
      "File \u001b[1;32m~\\AppData\\Local\\anaconda3\\envs\\Model310\\lib\\site-packages\\pandas\\io\\parsers\\readers.py:1620\u001b[0m, in \u001b[0;36mTextFileReader.__init__\u001b[1;34m(self, f, engine, **kwds)\u001b[0m\n\u001b[0;32m   1617\u001b[0m     \u001b[38;5;28mself\u001b[39m\u001b[38;5;241m.\u001b[39moptions[\u001b[38;5;124m\"\u001b[39m\u001b[38;5;124mhas_index_names\u001b[39m\u001b[38;5;124m\"\u001b[39m] \u001b[38;5;241m=\u001b[39m kwds[\u001b[38;5;124m\"\u001b[39m\u001b[38;5;124mhas_index_names\u001b[39m\u001b[38;5;124m\"\u001b[39m]\n\u001b[0;32m   1619\u001b[0m \u001b[38;5;28mself\u001b[39m\u001b[38;5;241m.\u001b[39mhandles: IOHandles \u001b[38;5;241m|\u001b[39m \u001b[38;5;28;01mNone\u001b[39;00m \u001b[38;5;241m=\u001b[39m \u001b[38;5;28;01mNone\u001b[39;00m\n\u001b[1;32m-> 1620\u001b[0m \u001b[38;5;28mself\u001b[39m\u001b[38;5;241m.\u001b[39m_engine \u001b[38;5;241m=\u001b[39m \u001b[38;5;28;43mself\u001b[39;49m\u001b[38;5;241;43m.\u001b[39;49m\u001b[43m_make_engine\u001b[49m\u001b[43m(\u001b[49m\u001b[43mf\u001b[49m\u001b[43m,\u001b[49m\u001b[43m \u001b[49m\u001b[38;5;28;43mself\u001b[39;49m\u001b[38;5;241;43m.\u001b[39;49m\u001b[43mengine\u001b[49m\u001b[43m)\u001b[49m\n",
      "File \u001b[1;32m~\\AppData\\Local\\anaconda3\\envs\\Model310\\lib\\site-packages\\pandas\\io\\parsers\\readers.py:1880\u001b[0m, in \u001b[0;36mTextFileReader._make_engine\u001b[1;34m(self, f, engine)\u001b[0m\n\u001b[0;32m   1878\u001b[0m     \u001b[38;5;28;01mif\u001b[39;00m \u001b[38;5;124m\"\u001b[39m\u001b[38;5;124mb\u001b[39m\u001b[38;5;124m\"\u001b[39m \u001b[38;5;129;01mnot\u001b[39;00m \u001b[38;5;129;01min\u001b[39;00m mode:\n\u001b[0;32m   1879\u001b[0m         mode \u001b[38;5;241m+\u001b[39m\u001b[38;5;241m=\u001b[39m \u001b[38;5;124m\"\u001b[39m\u001b[38;5;124mb\u001b[39m\u001b[38;5;124m\"\u001b[39m\n\u001b[1;32m-> 1880\u001b[0m \u001b[38;5;28mself\u001b[39m\u001b[38;5;241m.\u001b[39mhandles \u001b[38;5;241m=\u001b[39m \u001b[43mget_handle\u001b[49m\u001b[43m(\u001b[49m\n\u001b[0;32m   1881\u001b[0m \u001b[43m    \u001b[49m\u001b[43mf\u001b[49m\u001b[43m,\u001b[49m\n\u001b[0;32m   1882\u001b[0m \u001b[43m    \u001b[49m\u001b[43mmode\u001b[49m\u001b[43m,\u001b[49m\n\u001b[0;32m   1883\u001b[0m \u001b[43m    \u001b[49m\u001b[43mencoding\u001b[49m\u001b[38;5;241;43m=\u001b[39;49m\u001b[38;5;28;43mself\u001b[39;49m\u001b[38;5;241;43m.\u001b[39;49m\u001b[43moptions\u001b[49m\u001b[38;5;241;43m.\u001b[39;49m\u001b[43mget\u001b[49m\u001b[43m(\u001b[49m\u001b[38;5;124;43m\"\u001b[39;49m\u001b[38;5;124;43mencoding\u001b[39;49m\u001b[38;5;124;43m\"\u001b[39;49m\u001b[43m,\u001b[49m\u001b[43m \u001b[49m\u001b[38;5;28;43;01mNone\u001b[39;49;00m\u001b[43m)\u001b[49m\u001b[43m,\u001b[49m\n\u001b[0;32m   1884\u001b[0m \u001b[43m    \u001b[49m\u001b[43mcompression\u001b[49m\u001b[38;5;241;43m=\u001b[39;49m\u001b[38;5;28;43mself\u001b[39;49m\u001b[38;5;241;43m.\u001b[39;49m\u001b[43moptions\u001b[49m\u001b[38;5;241;43m.\u001b[39;49m\u001b[43mget\u001b[49m\u001b[43m(\u001b[49m\u001b[38;5;124;43m\"\u001b[39;49m\u001b[38;5;124;43mcompression\u001b[39;49m\u001b[38;5;124;43m\"\u001b[39;49m\u001b[43m,\u001b[49m\u001b[43m \u001b[49m\u001b[38;5;28;43;01mNone\u001b[39;49;00m\u001b[43m)\u001b[49m\u001b[43m,\u001b[49m\n\u001b[0;32m   1885\u001b[0m \u001b[43m    \u001b[49m\u001b[43mmemory_map\u001b[49m\u001b[38;5;241;43m=\u001b[39;49m\u001b[38;5;28;43mself\u001b[39;49m\u001b[38;5;241;43m.\u001b[39;49m\u001b[43moptions\u001b[49m\u001b[38;5;241;43m.\u001b[39;49m\u001b[43mget\u001b[49m\u001b[43m(\u001b[49m\u001b[38;5;124;43m\"\u001b[39;49m\u001b[38;5;124;43mmemory_map\u001b[39;49m\u001b[38;5;124;43m\"\u001b[39;49m\u001b[43m,\u001b[49m\u001b[43m \u001b[49m\u001b[38;5;28;43;01mFalse\u001b[39;49;00m\u001b[43m)\u001b[49m\u001b[43m,\u001b[49m\n\u001b[0;32m   1886\u001b[0m \u001b[43m    \u001b[49m\u001b[43mis_text\u001b[49m\u001b[38;5;241;43m=\u001b[39;49m\u001b[43mis_text\u001b[49m\u001b[43m,\u001b[49m\n\u001b[0;32m   1887\u001b[0m \u001b[43m    \u001b[49m\u001b[43merrors\u001b[49m\u001b[38;5;241;43m=\u001b[39;49m\u001b[38;5;28;43mself\u001b[39;49m\u001b[38;5;241;43m.\u001b[39;49m\u001b[43moptions\u001b[49m\u001b[38;5;241;43m.\u001b[39;49m\u001b[43mget\u001b[49m\u001b[43m(\u001b[49m\u001b[38;5;124;43m\"\u001b[39;49m\u001b[38;5;124;43mencoding_errors\u001b[39;49m\u001b[38;5;124;43m\"\u001b[39;49m\u001b[43m,\u001b[49m\u001b[43m \u001b[49m\u001b[38;5;124;43m\"\u001b[39;49m\u001b[38;5;124;43mstrict\u001b[39;49m\u001b[38;5;124;43m\"\u001b[39;49m\u001b[43m)\u001b[49m\u001b[43m,\u001b[49m\n\u001b[0;32m   1888\u001b[0m \u001b[43m    \u001b[49m\u001b[43mstorage_options\u001b[49m\u001b[38;5;241;43m=\u001b[39;49m\u001b[38;5;28;43mself\u001b[39;49m\u001b[38;5;241;43m.\u001b[39;49m\u001b[43moptions\u001b[49m\u001b[38;5;241;43m.\u001b[39;49m\u001b[43mget\u001b[49m\u001b[43m(\u001b[49m\u001b[38;5;124;43m\"\u001b[39;49m\u001b[38;5;124;43mstorage_options\u001b[39;49m\u001b[38;5;124;43m\"\u001b[39;49m\u001b[43m,\u001b[49m\u001b[43m \u001b[49m\u001b[38;5;28;43;01mNone\u001b[39;49;00m\u001b[43m)\u001b[49m\u001b[43m,\u001b[49m\n\u001b[0;32m   1889\u001b[0m \u001b[43m\u001b[49m\u001b[43m)\u001b[49m\n\u001b[0;32m   1890\u001b[0m \u001b[38;5;28;01massert\u001b[39;00m \u001b[38;5;28mself\u001b[39m\u001b[38;5;241m.\u001b[39mhandles \u001b[38;5;129;01mis\u001b[39;00m \u001b[38;5;129;01mnot\u001b[39;00m \u001b[38;5;28;01mNone\u001b[39;00m\n\u001b[0;32m   1891\u001b[0m f \u001b[38;5;241m=\u001b[39m \u001b[38;5;28mself\u001b[39m\u001b[38;5;241m.\u001b[39mhandles\u001b[38;5;241m.\u001b[39mhandle\n",
      "File \u001b[1;32m~\\AppData\\Local\\anaconda3\\envs\\Model310\\lib\\site-packages\\pandas\\io\\common.py:873\u001b[0m, in \u001b[0;36mget_handle\u001b[1;34m(path_or_buf, mode, encoding, compression, memory_map, is_text, errors, storage_options)\u001b[0m\n\u001b[0;32m    868\u001b[0m \u001b[38;5;28;01melif\u001b[39;00m \u001b[38;5;28misinstance\u001b[39m(handle, \u001b[38;5;28mstr\u001b[39m):\n\u001b[0;32m    869\u001b[0m     \u001b[38;5;66;03m# Check whether the filename is to be opened in binary mode.\u001b[39;00m\n\u001b[0;32m    870\u001b[0m     \u001b[38;5;66;03m# Binary mode does not support 'encoding' and 'newline'.\u001b[39;00m\n\u001b[0;32m    871\u001b[0m     \u001b[38;5;28;01mif\u001b[39;00m ioargs\u001b[38;5;241m.\u001b[39mencoding \u001b[38;5;129;01mand\u001b[39;00m \u001b[38;5;124m\"\u001b[39m\u001b[38;5;124mb\u001b[39m\u001b[38;5;124m\"\u001b[39m \u001b[38;5;129;01mnot\u001b[39;00m \u001b[38;5;129;01min\u001b[39;00m ioargs\u001b[38;5;241m.\u001b[39mmode:\n\u001b[0;32m    872\u001b[0m         \u001b[38;5;66;03m# Encoding\u001b[39;00m\n\u001b[1;32m--> 873\u001b[0m         handle \u001b[38;5;241m=\u001b[39m \u001b[38;5;28;43mopen\u001b[39;49m\u001b[43m(\u001b[49m\n\u001b[0;32m    874\u001b[0m \u001b[43m            \u001b[49m\u001b[43mhandle\u001b[49m\u001b[43m,\u001b[49m\n\u001b[0;32m    875\u001b[0m \u001b[43m            \u001b[49m\u001b[43mioargs\u001b[49m\u001b[38;5;241;43m.\u001b[39;49m\u001b[43mmode\u001b[49m\u001b[43m,\u001b[49m\n\u001b[0;32m    876\u001b[0m \u001b[43m            \u001b[49m\u001b[43mencoding\u001b[49m\u001b[38;5;241;43m=\u001b[39;49m\u001b[43mioargs\u001b[49m\u001b[38;5;241;43m.\u001b[39;49m\u001b[43mencoding\u001b[49m\u001b[43m,\u001b[49m\n\u001b[0;32m    877\u001b[0m \u001b[43m            \u001b[49m\u001b[43merrors\u001b[49m\u001b[38;5;241;43m=\u001b[39;49m\u001b[43merrors\u001b[49m\u001b[43m,\u001b[49m\n\u001b[0;32m    878\u001b[0m \u001b[43m            \u001b[49m\u001b[43mnewline\u001b[49m\u001b[38;5;241;43m=\u001b[39;49m\u001b[38;5;124;43m\"\u001b[39;49m\u001b[38;5;124;43m\"\u001b[39;49m\u001b[43m,\u001b[49m\n\u001b[0;32m    879\u001b[0m \u001b[43m        \u001b[49m\u001b[43m)\u001b[49m\n\u001b[0;32m    880\u001b[0m     \u001b[38;5;28;01melse\u001b[39;00m:\n\u001b[0;32m    881\u001b[0m         \u001b[38;5;66;03m# Binary mode\u001b[39;00m\n\u001b[0;32m    882\u001b[0m         handle \u001b[38;5;241m=\u001b[39m \u001b[38;5;28mopen\u001b[39m(handle, ioargs\u001b[38;5;241m.\u001b[39mmode)\n",
      "\u001b[1;31mFileNotFoundError\u001b[0m: [Errno 2] No such file or directory: 'data\\\\TemperaturesInd.csv'"
     ]
    }
   ],
   "source": [
    "#tem input\n",
    "#indoor tem in time 0\n",
    "Indtem_data_row = pd.read_csv(\"data\\\\TemperaturesInd.csv\")\n",
    "Indtem_data_row['time'] = pd.to_datetime(Indtem_data_row['time'])\n",
    "#degree to value\n",
    "Indtem_data_row[\"Room 1 - Actual\"] = Indtem_data_row[\"Room 1 - Actual\"].str.replace(\" °C\", \"\").astype(float)\n",
    "Indtem_data_row[\"Room 1 - Set\"] = Indtem_data_row[\"Room 1 - Set\"].str.replace(\" °C\", \"\").astype(float)\n",
    "#average 60min\n",
    "Indtem_data_row[\"time_60min\"] = Indtem_data_row[\"time\"].dt.floor(\"60min\")\n",
    "averages = Indtem_data_row.groupby(\"time_60min\")[[\"Room 1 - Actual\", \"Room 1 - Set\"]].mean().reset_index()\n",
    "Tem_ind0= averages[\"Room 1 - Actual\"].values[10]\n",
    "\n",
    "# outdoor tem set\n",
    "Outtem_data_row = pd.read_csv(\"data\\\\TemperaturesOut.csv\")\n",
    "# Outtem_data_row\n",
    "Outtem_data_row['time'] = pd.to_datetime(Outtem_data_row['time'])\n",
    "#degree to value\n",
    "Outtem_data_row[\"Outside\"] = Outtem_data_row[\"Outside\"].str.replace(\" °C\", \"\").astype(float)\n",
    "\n",
    "#average 15min\n",
    "Outtem_data_row[\"time_15min\"] = Outtem_data_row[\"time\"].dt.floor(\"15min\")\n",
    "tem_amb = Outtem_data_row.groupby(\"time_15min\")[[\"Outside\"]].mean().reset_index()\n",
    "T_amb=tem_amb[\"Outside\"].values"
   ]
  },
  {
   "cell_type": "code",
   "execution_count": 184,
   "id": "4af5eba1-14d3-446d-ba61-2ea66b0a3a1e",
   "metadata": {},
   "outputs": [
    {
     "data": {
      "text/plain": [
       "19.0"
      ]
     },
     "execution_count": 184,
     "metadata": {},
     "output_type": "execute_result"
    }
   ],
   "source": [
    " Tem_ind0"
   ]
  },
  {
   "cell_type": "code",
   "execution_count": 172,
   "id": "cae980f2-45c4-4955-bdde-818eed5c89e3",
   "metadata": {
    "scrolled": true
   },
   "outputs": [],
   "source": [
    "#units in kA, kV, MW, MVA,MVar,Euro,m^3\n",
    "\n",
    "Time_day=1\n",
    "\n",
    "s_trafo = 0.23*0.16*3 #data from DACS area7\n",
    "\n",
    "#network\n",
    "network=pd.read_csv(\"data\\\\network.csv\")\n",
    "connect1=pd.read_excel(\"data\\\\user_connect.xlsx\")\n",
    "user_index=connect1[\"Node\"].tolist()\n",
    "n_bus=len(network)+1\n",
    "n_user= len(user_index)  #in DACS7, last one's load is 0 \n",
    "\n",
    "#pv\n",
    "pv_cap=connect1[\"PV\"]*1E-3 #pv capacity from dacs data\n",
    "pv_cap=pv_cap.tolist()\n",
    "\n",
    "#hp\n",
    "hp_own=connect1[\"HP\"].tolist()\n",
    "pf = 0.92 # baseload & HP\n",
    "tan_phi_load = (np.sqrt(1-pf**2))/pf\n",
    "p_hp_max=5*1e-3  #5kw\n",
    "p_hp_min =3*1e-3 #1.8kw\n",
    "p_boil_max=15*1e-3 #15kw\n",
    "p_boil_min=1*1e-3 #1kw\n",
    "\n",
    "#indoor thermal parameter\n",
    "C_house=(10+0.2+30)\n",
    "R_house=1/(1/7+1/6+1/2)\n",
    "COP=4.5\n",
    "x_vals = list(range(15, 31))  # T_ind values from 15 to 30\n",
    "y_vals = [31.9, 26.1, 20.8, 16.0, 12.3, 9.9, 8.2, 7.2, 6.6, 6.6, 7.1, 8.3, 10.4, 13.1, 16.4, 20.2]  # PPD values\n",
    "Pn = len(x_vals)\n",
    "#cost set\n",
    "c_loss = 40\n",
    "c_grid = 500\n",
    "c_hp_down = 400\n",
    "c_pv = 400\n",
    "\n",
    "price_data = pd.read_csv(\"data\\\\price_data.csv\")\n",
    "filtered_data = price_data[(price_data['year'] == 2024) & (price_data['month'] == 2) & (price_data['day'] == 1)]\n",
    "ele_price=filtered_data['energy_price_full'].values\n",
    "gas_price=filtered_data['gas_price_full'].values\n",
    "# ele=ele_price[int(t/4)]\n",
    "gas_LHV = 10.16  # kWh/m3\n",
    "\n",
    "\n",
    "\n",
    "#pv constrain\n",
    "pf_pv_limit = 0.95\n",
    "tan_phi_pv = (np.sqrt(1-pf_pv_limit**2))/pf_pv_limit\n",
    "\n",
    "\n",
    "#voltage constrain\n",
    "v_ref = 0.23 # kV\n",
    "v_lb = 0.96 #pu\n",
    "v_ub = 1.04\n",
    "#power\n",
    "\n",
    "df=pd.read_csv(\"data\\\\UserPower.csv\",index_col=0)\n",
    "df['time'] = pd.to_datetime(df['time'], format='%m/%d/%Y %I:%M %p')\n",
    "# Filter for rows where the date is February 1, 2024\n",
    "filtered_df = df[df['time'].dt.date == pd.to_datetime(\"2024-02-01\").date()]\n",
    "LoadPower=filtered_df.copy()\n",
    "LoadPower= LoadPower.reset_index(drop=True)\n",
    "LoadPower.index += 1\n",
    "#reactive power\n",
    "df=pd.read_csv(\"data\\\\UserReactivePower.csv\",index_col=0)\n",
    "df['time'] = pd.to_datetime(df['time'], format='%m/%d/%Y %I:%M %p')\n",
    "filtered_df = df[df['time'].dt.date == pd.to_datetime(\"2024-02-01\").date()]\n",
    "LoadReact=filtered_df.copy()\n",
    "LoadReact= LoadReact.reset_index(drop=True)\n",
    "LoadReact.index += 1\n",
    "\n",
    "#pv efficiency data in \"2024-02-01\"\n",
    "\n",
    "hourly_data = [\n",
    "    0, 0, 0, 0, 0, 0, 0, 0, 0.006, 0.053, 0.129, 0.179,\n",
    "    0.166, 0.14, 0.094, 0.046, 0.007, 0, 0, 0, 0, 0, 0, 0\n",
    "]\n",
    "\n",
    "expanded_data = [value for value in hourly_data for _ in range(4)]\n",
    "expanded_df = pd.DataFrame(expanded_data, columns=[\"Quarter_Hourly_Data\"])\n",
    "\n",
    "#congestion set\n",
    "congestion_limit=np.ones(96)*(-50*1e-3)# define the limit, -50 is no limit\n",
    "#for a congestion test\n",
    "StartRe=40\n",
    "EndRe=48\n",
    "PRe=-15*1e-3\n",
    "# congestion_limit[0]=PRe\n",
    "for t in range(StartRe,EndRe):\n",
    "    congestion_limit[t]=PRe"
   ]
  },
  {
   "cell_type": "code",
   "execution_count": 173,
   "id": "cec53330-9efd-4ff6-9d0d-33ed14a0ba2b",
   "metadata": {},
   "outputs": [],
   "source": [
    "m = gp.Model(\"GEC\")\n",
    "m.Params.LogToConsole = 0\n",
    "# define variables\n",
    "p = m.addVars(n_bus,Time_day, lb = -float('inf'), vtype = GRB.CONTINUOUS, name = \"PBusInjection\")\n",
    "\n",
    "q = m.addVars(n_bus, Time_day,lb = -float('inf'),  vtype = GRB.CONTINUOUS, name = \"QBusInjection\")\n",
    "\n",
    "PLine = m.addVars(n_bus-1,Time_day, lb = -float('inf'),  vtype = GRB.CONTINUOUS, name = \"PLine\")\n",
    "QLine = m.addVars(n_bus-1,Time_day, lb = -float('inf'),  vtype = GRB.CONTINUOUS, name = \"QLine\")\n",
    "v = m.addVars(n_bus, Time_day,lb = (v_lb*v_ref)**2, ub = (v_ub*v_ref)**2, vtype = GRB.CONTINUOUS, name = \"VoltSquare\")\n",
    "l = m.addVars(n_bus-1, Time_day,lb = 0, vtype = GRB.CONTINUOUS, name = \"CurrentSquare\")\n",
    "p_pv = m.addVars(n_user,Time_day, lb = 0, vtype = GRB.CONTINUOUS, name = \"PVactivePower\")\n",
    "q_pv = m.addVars(n_user,Time_day, lb = -float('inf'),  vtype = GRB.CONTINUOUS, name = \"PVreactivePower\")\n",
    "\n",
    "p_hp = m.addVars(n_user,Time_day, lb = 0, vtype = GRB.CONTINUOUS, name = \"HPactivePower\")\n",
    "q_hp = m.addVars(n_user,Time_day, lb = 0,  vtype = GRB.CONTINUOUS, name = \"HPreactivePower\")\n",
    "\n",
    "p_pv_down = m.addVars(n_user,Time_day, lb = 0,  vtype = GRB.CONTINUOUS, name = \"PVcurtailedActivePower\")\n",
    "b_hp =m.addVars(n_user,Time_day,  vtype = GRB.BINARY, name = \"HP_Open\")\n",
    "p_hp_down = m.addVars(n_user,Time_day, lb = 0, vtype = GRB.CONTINUOUS, name = \"HPcurtailedActivePower\")\n",
    "\n",
    "#indoor variable\n",
    "h_hp=m.addVars(n_user,Time_day, lb = 0, vtype = GRB.CONTINUOUS, name = \"HPHeat\")\n",
    "g_boil = m.addVars(n_user,Time_day, lb = 0, vtype = GRB.CONTINUOUS, name = \"GasToBoiler\")\n",
    "h_boil = m.addVars(n_user,Time_day, lb = 0, vtype = GRB.CONTINUOUS, name = \"BoilerHeat\")\n",
    "b_boil =m.addVars(n_user,Time_day,  vtype = GRB.BINARY, name = \"Boil_Open\")\n",
    "\n",
    "Heat = m.addVars(n_user,Time_day, lb = 0, vtype = GRB.CONTINUOUS, name = \"TotalHeat\")\n",
    "T_ind = m.addVars(n_user,Time_day, lb = 0, vtype = GRB.CONTINUOUS, name = \"IndoorTem\")\n",
    "PPD  = m.addVars(n_user,Time_day, lb = 0, vtype = GRB.CONTINUOUS, name = \"PPD\")\n",
    "lambdas = m.addVars(Pn, lb=0, ub=1, name=\"lambda\")  # SOS2 variables\n"
   ]
  },
  {
   "cell_type": "code",
   "execution_count": 174,
   "id": "9e0fdc41-1c5e-4c1c-a895-7ac714123e47",
   "metadata": {},
   "outputs": [],
   "source": [
    "# define constraints\n",
    "\n",
    "for t in range(Time_day):\n",
    "        #choose the time\n",
    "    run_time=t\n",
    "    # pv efficiency in selected time\n",
    "    pv_ef=expanded_df.at[run_time+40,\"Quarter_Hourly_Data\"]\n",
    "    # load in selected time\n",
    "    p_baseload=LoadPower.iloc[run_time+40,1:]*1E-3\n",
    "    p_baseload=p_baseload.tolist()   \n",
    "    q_baseload=LoadReact.iloc[run_time+40,1:]*1E-3\n",
    "    q_baseload=q_baseload.tolist()\n",
    "    \n",
    "    # for slack bus, power balance\n",
    "\n",
    "    m.addQConstr(p[0,t] >= congestion_limit[t], \"TransPowerLimitForCongestion\")\n",
    "    m.addQConstr(p[0,t]*p[0,t] + q[0,t]*q[0,t]  <= s_trafo**2, \"trafoLimit\") # transformer loading constraints, #1 additional constraint\n",
    "    \n",
    "    # for non-slack bus, power balance\n",
    "    for j in range(0,n_bus):\n",
    "        P_outFlow = 0\n",
    "        P_inFlow = 0\n",
    "        P_loss=0\n",
    "        for i in range(0,n_bus-1):\n",
    "            if (network.at[i,'StartNode'] == j) :                \n",
    "                P_outFlow += PLine[i,t]                \n",
    "            if (network.at[i,'EndNode'] == j) :                \n",
    "                P_inFlow += PLine[i,t]                \n",
    "                P_loss += l[i,t]*network.at[i,'R']\n",
    "        m.addConstr(1E3*(p[j,t] \\\n",
    "                         # + slack_pos[j,t] -slack_neg[j,t]\\\n",
    "                        ) == -1E3*P_outFlow + 1E3*(P_inFlow-P_loss),name = \"BusPower{}\".format(j))       \n",
    "    for j in range(0,n_bus):\n",
    "        Q_outFlow = 0\n",
    "        Q_inFlow = 0\n",
    "        Q_loss = 0\n",
    "        for i in range(0,n_bus-1):\n",
    "            if (network.at[i,'StartNode'] == j):    \n",
    "                Q_outFlow += QLine[i,t]\n",
    "            if (network.at[i,'EndNode'] == j):                \n",
    "                Q_inFlow += QLine[i,t]\n",
    "                Q_loss += l[i,t]*network.at[i,'X']\n",
    "        m.addConstr(1E3*(q[j,t]  ) == -1E3*Q_outFlow + 1E3*(Q_inFlow-Q_loss) ,name = \"BusReact{}\".format(j))\n",
    "    # voltage relation\n",
    "    for i in range(n_bus-1):\n",
    "        m.addConstr(1E5*v[network.at[i,'EndNode'],t] == 1E5*v[network.at[i,'StartNode'],t]\\\n",
    "                    -1E5*2*(network.at[i,'R']*PLine[i,t] \\\n",
    "                        +network.at[i,'X']*QLine[i,t])+1E5*(network.at[i,'R']**2+network.at[i,'X']**2)*l[i,t],name = \"LineVoltage{}\".format(i))\n",
    "    \n",
    "    for i in range(n_bus-1):\n",
    "        m.addQConstr(1E3*PLine[i,t] * PLine[i,t] +1E3*QLine[i,t] * QLine[i,t] <=1E3* l[i,t] * v[network.at[i,'StartNode'],t], name = \"BusSOCP{}\".format(i))\n",
    "    \n",
    "    for i in range(n_bus-1):\n",
    "            m.addConstr(1E3*l[i,t]  <= 1E3*(network.at[i,'Inom'])**2,name = \"LineCurrent{}\".format(i))\n",
    "    m.addConstr(v[0,t] == v_ref**2,\"transVol\") #3 additional constraint\n",
    "    # load constraints\n",
    "    for i in range(n_bus):\n",
    "        if i not in user_index and i != 0: # slack bus + residential loads\n",
    "            m.addConstr(p[i,t] == 0,\"busP=0\")\n",
    "            m.addConstr(q[i,t] == 0,\"busQ=0\")\n",
    "        if i in user_index:\n",
    "            m.addConstr(p[i,t] ==  p_baseload[i-(n_bus-n_user)] - p_pv[i-(n_bus-n_user),t] + p_hp[i-(n_bus-n_user),t], \"LoadP\")\n",
    "            m.addConstr(q[i,t] ==  q_baseload[i-(n_bus-n_user)]  - q_pv[i-(n_bus-n_user),t] + q_hp[i-(n_bus-n_user),t], \"LoadQ\")          \n",
    "\n",
    "    # m.addConstr( b_hp[i,t] == 0,\"HHP_test\")\n",
    "    #constraints for pv hp\n",
    "    for i in range(n_user):        \n",
    "        m.addConstr(-p_pv[i,t] * tan_phi_pv <= q_pv[i,t],\"pv_tan-\")\n",
    "        m.addConstr(q_pv[i,t] <= p_pv[i,t] * tan_phi_pv,\"pv_tan+\")\n",
    "        m.addConstr(q_hp[i,t] == p_hp[i,t] * tan_phi_load,\"hp_tan\")\n",
    "         \n",
    "        m.addConstr(p_pv[i,t] <= pv_cap[i]*pv_ef,\"pvMax\")\n",
    "        m.addConstr(p_pv_down[i,t] == pv_cap[i]*pv_ef - p_pv[i,t],\"pv_down\")\n",
    "        m.addConstr(p_hp[i,t] <= b_hp[i,t]*p_hp_max*hp_own[i],\"hp_max\")\n",
    "        m.addConstr(p_hp[i,t] >= b_hp[i,t]*p_hp_min*hp_own[i],\"hp_min\")\n",
    "        m.addConstr(p_hp_down[i,t] >= p_hp_max*hp_own[i] - p_hp[i,t],\"hp_down\")\n",
    "    #indoor model\n",
    "        m.addConstr(h_boil[i,t] <= b_boil[i,t]*p_boil_max,\"boil_max\")\n",
    "        m.addConstr(h_boil[i,t] >= b_boil[i,t]*p_boil_min,\"boil_min\")\n",
    "\n",
    "        m.addConstr(b_boil[i,t] + b_hp[i,t] <= 1,\"HHP_constrain\")\n",
    "        # m.addConstr( b_hp[i,t] == 0,\"HHP_test\")\n",
    "        m.addConstr(h_hp[i,t] == COP*p_hp[i,t],\"hp_heat\")\n",
    "        m.addConstr(1e3*h_boil[i,t] == 4*gas_LHV*g_boil[i,t],\"boiler_heat\") #unit, mw\n",
    "       \n",
    "        m.addConstr(Heat[i,t] == h_hp[i,t] + h_boil[i,t] ,\"HeatOutput\")\n",
    "        \n",
    "        # m.addConstr(T_ind[i,t] >=20.4 ,\"MinIndoorTem\")\n",
    "        if t == 0:\n",
    "            m.addConstr(C_house*(T_ind[i,t]-Tem_ind0) == 1e3*Heat[i,t]*0.25+(T_amb[0]-Tem_ind0)/R_house*0.25 ,\"IndoorTemChange0\")            \n",
    "        else:\n",
    "            m.addConstr(C_house*(T_ind[i,t]-T_ind[i,t-1]) == 1e3*Heat[i,t]*0.25+(T_amb[t-1]-T_ind[i,t-1])/R_house*0.25 ,\"IndoorTemChange\")\n",
    "\n",
    "        # m.addConstr(PPD[i,t] <=9.247186774, name=\"PPDMarg\")\n",
    "        # PPD SOS2\n",
    "        # Constraints\n",
    "        m.addConstr(sum(lambdas[i] for i in range(Pn)) == 1, name=\"SumToOne\")\n",
    "        m.addConstr(T_ind[i,t] == sum(x_vals[i] * lambdas[i] for i in range(Pn)), name=\"T_indEq\")\n",
    "        m.addConstr(PPD[i,t] == sum(y_vals[i] * lambdas[i] for i in range(Pn)), name=\"PPDEq\")\n",
    "        \n",
    "        # SOS2 constraint\n",
    "        m.addSOS(GRB.SOS_TYPE2, [lambdas[i] for i in range(Pn)])\n"
   ]
  },
  {
   "cell_type": "code",
   "execution_count": 175,
   "id": "8e126634-79a0-4291-aced-e7611cb78bf1",
   "metadata": {},
   "outputs": [],
   "source": [
    "# define objective\n",
    "obj = 0\\\n",
    "+quicksum(1e3*ele_price[t]*(p[i,t])*0.25 for i in user_index for t in range(Time_day) )\\\n",
    "+ quicksum(gas_price[t]*g_boil[i,t] for t in range(Time_day) for i in range(n_user))\\\n",
    "+ quicksum(2.5*PPD[i,t] for t in range(Time_day) for i in range(n_user))\\\n",
    "# + quicksum(c_hp_down*p_hp_down[i,t]*0.25 for t in range(Time_day) for i in range(n_user))\\\n",
    "# + quicksum(c_pv*p_pv_down[i,t]*0.25 for t in range(Time_day) for i in range(n_user))\\\n",
    "# + quicksum(l[i,t]*network.at[i,'R'] * c_loss for t in range(Time_day) for i in range(n_bus-1))\\\n",
    "\n",
    "# m.write(\"model.lp\")\n",
    "m.setObjective(obj, GRB.MINIMIZE)"
   ]
  },
  {
   "cell_type": "code",
   "execution_count": 176,
   "id": "38db256d-983e-47ac-aa69-c33f5934ff73",
   "metadata": {},
   "outputs": [
    {
     "name": "stdout",
     "output_type": "stream",
     "text": [
      "Optimization Runtime: 0.0989999771118164 seconds\n",
      "Model solved successfully!\n"
     ]
    }
   ],
   "source": [
    "m.optimize()\n",
    "print(f\"Optimization Runtime: {m.Runtime} seconds\")\n",
    "if m.status == GRB.OPTIMAL:\n",
    "    print(\"Model solved successfully!\")    \n",
    "    # m.write(\"opf_model.sol\")\n",
    "else:\n",
    "    print(f\"Model status: {m.status}\")\n"
   ]
  },
  {
   "cell_type": "code",
   "execution_count": 177,
   "id": "066f52dd-9f89-4479-88d6-0b34c0be145e",
   "metadata": {},
   "outputs": [
    {
     "data": {
      "text/plain": [
       "0.24"
      ]
     },
     "execution_count": 177,
     "metadata": {},
     "output_type": "execute_result"
    }
   ],
   "source": [
    "ele_price[0]"
   ]
  },
  {
   "cell_type": "code",
   "execution_count": 178,
   "id": "c1595e5e-2624-41f3-90c0-b1e5f3638e74",
   "metadata": {},
   "outputs": [],
   "source": [
    "# m.write(\"fullmodel.lp\")"
   ]
  },
  {
   "cell_type": "code",
   "execution_count": 179,
   "id": "f5c461cf-5d4e-4261-95bd-2107c648a154",
   "metadata": {},
   "outputs": [],
   "source": [
    "# m.write(\"fullmodel.sol\")"
   ]
  },
  {
   "cell_type": "code",
   "execution_count": 180,
   "id": "488a30be-67a2-4f7f-b6b9-abb40974ca38",
   "metadata": {},
   "outputs": [],
   "source": [
    "# m.computeIIS()\n",
    "# m.write(\"infeasible.ilp\")"
   ]
  },
  {
   "cell_type": "code",
   "execution_count": 181,
   "id": "92e1e4ee-cef4-4904-bc00-e4601f6a70fe",
   "metadata": {
    "scrolled": true
   },
   "outputs": [],
   "source": [
    "#change the output name\n",
    "dict_optimizedResults = {\n",
    "    \"p\": [[p[i,t].X  for t in range(Time_day)]for i in range(n_bus)],\n",
    "    \"q\": [[q[i,t].X  for t in range(Time_day)] for i in range(n_bus)], \n",
    "    \"v_value\": [[v[i,t].X  for t in range(Time_day)] for i in range(n_bus)],   \n",
    "    \"p_hp_down\": [[p_hp_down[i,t].X for t in range(Time_day)]for i in range(n_user)], \n",
    "    \"p_hp\": [[p_hp[i,t].X for t in range(Time_day)]for i in range(n_user)],\n",
    "    \"p_pv_down\": [[p_pv_down[i,t].X for t in range(Time_day)]for i in range(n_user)], \n",
    "    \"p_pv\": [[p_pv[i,t].X for t in range(Time_day)]for i in range(n_user)],\n",
    "    \"T_ind\": [[T_ind[i,t].X for t in range(Time_day)]for i in range(n_user)],\n",
    "    \"g_boil\": [[g_boil[i,t].X for t in range(Time_day)]for i in range(n_user)],\n",
    "    \"PPD\": [[PPD[i,t].X for t in range(Time_day)]for i in range(n_user)]\n",
    "    } \n",
    "# print(dict_optimizedResults)\n",
    "Result_p = dict_optimizedResults[\"p\"]\n",
    "Result_q = dict_optimizedResults[\"q\"]\n",
    "Result_v= dict_optimizedResults[\"v_value\"]\n",
    "Result_hp_down = dict_optimizedResults[\"p_hp_down\"]\n",
    "Result_hp = dict_optimizedResults[\"p_hp\"]\n",
    "Result_pv_down = dict_optimizedResults[\"p_pv_down\"]\n",
    "Result_pv = dict_optimizedResults[\"p_pv\"]\n",
    "Result_T_ind = dict_optimizedResults[\"T_ind\"]\n",
    "Result_g_boil = dict_optimizedResults[\"g_boil\"]\n",
    "Result_PPD = dict_optimizedResults[\"PPD\"]"
   ]
  },
  {
   "cell_type": "code",
   "execution_count": 182,
   "id": "8a4d7ced-4be8-4f5d-abf5-5cbf573864d5",
   "metadata": {},
   "outputs": [
    {
     "name": "stdout",
     "output_type": "stream",
     "text": [
      "total power\n",
      "[-0.016892150931162968]\n",
      "Indoor Tem:\n",
      "[[19.0271646046246], [19.0271646046246], [19.0271646046246], [19.0271646046246], [19.0271646046246], [19.0271646046246], [19.0271646046246], [19.0271646046246], [19.0271646046246], [19.0271646046246], [19.0271646046246], [19.0271646046246], [19.0271646046246], [19.0271646046246], [19.0271646046246], [19.0271646046246], [19.0271646046246], [19.0271646046246], [19.0271646046246], [19.0271646046246], [19.0271646046246], [19.0271646046246], [19.0271646046246], [19.0271646046246], [19.0271646046246], [19.0271646046246], [19.0271646046246], [19.0271646046246], [19.0271646046246], [19.0271646046246], [19.0271646046246], [19.0271646046246], [19.0271646046246], [19.0271646046246], [19.0271646046246], [19.0271646046246], [19.0271646046246]]\n",
      "Gas:\n",
      "[10.29733498]\n",
      "hp:\n",
      "[[0.0033212991558695705], [0.0], [0.0], [0.0], [0.0], [0.0], [0.0], [0.0033212991558695705], [0.0], [0.0], [0.0], [0.0], [0.0], [0.0], [0.0], [0.0], [0.0], [0.0033212991558695705], [0.0033212991558695705], [0.0], [0.0], [0.0], [0.0], [0.0], [0.0033212991558695705], [0.0033212991558695705], [0.0], [0.0], [0.0033212991558695705], [0.0], [0.0], [0.0], [0.0033212991558695705], [0.0], [0.0033212991558695705], [0.0], [0.0]]\n",
      "[0.02989169]\n",
      "PPD:\n",
      "[[12.234804948900964], [12.234804948900964], [12.234804948900964], [12.234804948900964], [12.234804948900964], [12.234804948900964], [12.234804948900964], [12.234804948900964], [12.234804948900964], [12.234804948900964], [12.234804948900964], [12.234804948900964], [12.234804948900964], [12.234804948900964], [12.234804948900964], [12.234804948900964], [12.234804948900964], [12.234804948900964], [12.234804948900964], [12.234804948900964], [12.234804948900964], [12.234804948900964], [12.234804948900964], [12.234804948900964], [12.234804948900964], [12.234804948900964], [12.234804948900964], [12.234804948900964], [12.234804948900964], [12.234804948900964], [12.234804948900964], [12.234804948900964], [12.234804948900964], [12.234804948900964], [12.234804948900964], [12.234804948900964], [12.234804948900964]]\n"
     ]
    }
   ],
   "source": [
    "print(\"total power\")\n",
    "print(Result_p[0])\n",
    "print(\"Indoor Tem:\")\n",
    "print(Result_T_ind)\n",
    "print(\"Gas:\")\n",
    "print(sum(np.array(Result_g_boil)))\n",
    "print(\"hp:\")\n",
    "print(Result_hp)\n",
    "print(sum(np.array(Result_hp)))\n",
    "print(\"PPD:\")\n",
    "print(Result_PPD)"
   ]
  },
  {
   "cell_type": "code",
   "execution_count": 183,
   "id": "56f0bd90-cc7b-433f-8708-830b6f4d66a2",
   "metadata": {},
   "outputs": [
    {
     "name": "stdout",
     "output_type": "stream",
     "text": [
      "The optimal objective value is: 1144.222756733108\n"
     ]
    }
   ],
   "source": [
    "print(f\"The optimal objective value is: {m.objVal}\")"
   ]
  },
  {
   "cell_type": "code",
   "execution_count": 133,
   "id": "f90bae78-361f-4bd3-a843-1d0b376b0569",
   "metadata": {},
   "outputs": [],
   "source": [
    "Result_p_array = np.array(Result_p)\n",
    "Result_q_array = np.array(Result_q)\n",
    "\n",
    "Result_hp_array = np.array(Result_hp)\n",
    "Result_hp_sum = Result_hp_array.sum(axis=0)*1e3  \n",
    "\n",
    "Result_hp_down_array = np.array(Result_hp_down)\n",
    "Result_hp_down_sum = Result_hp_down_array.sum(axis=0)*1e3  \n",
    "\n",
    "Result_pv_array = np.array(Result_pv)\n",
    "Result_pv_sum = Result_pv_array.sum(axis=0)*1e3  \n",
    "\n",
    "Result_pv_down_array = np.array(Result_pv_down)\n",
    "Result_pv_down_sum = Result_pv_down_array.sum(axis=0)*1e3  \n"
   ]
  },
  {
   "cell_type": "code",
   "execution_count": 134,
   "id": "6417c8df-636f-4b97-b95b-e5e9c547d1d7",
   "metadata": {},
   "outputs": [
    {
     "data": {
      "image/png": "[encoded data removed]",
      "text/plain": [
       "<Figure size 800x500 with 1 Axes>"
      ]
     },
     "metadata": {},
     "output_type": "display_data"
    }
   ],
   "source": [
    "import matplotlib.pyplot as plt\n",
    "# Create an index for the x-axis\n",
    "indices = range(len(Result_p[0]))\n",
    "transformed_Result_p = [-val * 1e3 for val in Result_p[0]]\n",
    "# Plot the data\n",
    "plt.figure(figsize=(8, 5))\n",
    "plt.plot(indices, transformed_Result_p, marker='o', linestyle='-', color='b', label='Transformer')\n",
    "plt.plot(Result_hp_sum, label=\"HP\", marker='o', color='r')\n",
    "plt.plot(Result_hp_down_sum, label=\"HPDown\", marker='x', color='purple')  \n",
    "plt.plot(Result_pv_sum, label=\"PV\", marker='o', color='y')\n",
    "plt.plot(Result_pv_down_sum, label=\"PVDown\", marker='x', color='black') \n",
    "\n",
    "\n",
    "# Add labels and title\n",
    "plt.xlabel('Time', fontsize=12)\n",
    "plt.ylabel('Power/kW', fontsize=12)\n",
    "plt.title('Result', fontsize=14)\n",
    "plt.grid(True)\n",
    "plt.legend()\n",
    "\n",
    "# Show the plot\n",
    "plt.show()"
   ]
  },
  {
   "cell_type": "code",
   "execution_count": 135,
   "id": "9bd2fb82-09f7-42d6-b842-02f02c2c5c2d",
   "metadata": {},
   "outputs": [],
   "source": [
    "#pf validate\n",
    "\n",
    "import pandas as pd\n",
    "from pandapower.plotting import simple_plot \n",
    "import pandapower as pp\n",
    "\n",
    "\n",
    "\n",
    "def epse_feeder(t):\n",
    "\n",
    "    net = pp.create_empty_network()\n",
    "    pp.set_user_pf_options(net, algorithm='nr', init_vm_pu = \"flat\", init_va_degree = \"dc\", calculate_voltage_angles = True) \n",
    "    n_bus = 87\n",
    "    # create buses\n",
    "    for i in range(n_bus): \n",
    "        globals()['b{}'.format(i)] = pp.create_bus(net, 0.23, name = \"b{}\".format(i))          \n",
    "    # slack bus\n",
    "    pp.create_ext_grid(net, globals()['b0'], s_sc_max_kva=400,rx_max=0.1,r0x0_max= 0.1,x0x_max=1.0)\n",
    "    # create standard lines\n",
    "    # data from Vision\n",
    " \n",
    "    pp.create_std_type(net, {\"c_nf_per_km\": 430, \"r_ohm_per_km\": 1.91, \"x_ohm_per_km\": 0.096,\\\n",
    "                             \"c0_nf_per_km\": 260, \"r0_ohm_per_km\": 4.65, \"x0_ohm_per_km\": 0.16,\\\n",
    "                             \"max_i_ka\": 0.075}, name = \"16Al\", element = \"line\")\n",
    "\n",
    "    pp.create_std_type(net, {\"c_nf_per_km\": 540, \"r_ohm_per_km\": 0.641, \"x_ohm_per_km\": 0.085,\\\n",
    "                             \"c0_nf_per_km\": 320, \"r0_ohm_per_km\": 1.65, \"x0_ohm_per_km\": 0.15,\\\n",
    "                             \"max_i_ka\": 0.14}, name = \"50Al\", element = \"line\")\n",
    "    pp.create_std_type(net, {\"c_nf_per_km\": 660, \"r_ohm_per_km\": 0.32, \"x_ohm_per_km\": 0.082,\\\n",
    "                             \"c0_nf_per_km\": 400, \"r0_ohm_per_km\": 0.91, \"x0_ohm_per_km\": 0.15,\\\n",
    "                             \"max_i_ka\": 0.22}, name = \"95Al\", element = \"line\")\n",
    "    pp.create_std_type(net, {\"c_nf_per_km\": 200, \"r_ohm_per_km\": 3.061, \"x_ohm_per_km\": 0.1,\\\n",
    "                             \"c0_nf_per_km\": 120, \"r0_ohm_per_km\": 7.82, \"x0_ohm_per_km\": 0.18,\\\n",
    "                             \"max_i_ka\": 0.055}, name = \"6Cu\", element = \"line\")\n",
    "    pp.create_std_type(net, {\"c_nf_per_km\": 350, \"r_ohm_per_km\": 1.15, \"x_ohm_per_km\": 0.08,\\\n",
    "                             \"c0_nf_per_km\": 210, \"r0_ohm_per_km\": 3.6, \"x0_ohm_per_km\": 0.21,\\\n",
    "                             \"max_i_ka\": 0.1}, name = \"16Cu\", element = \"line\")\n",
    "\n",
    "    \n",
    "    #use the default cable parameter, next time change it as the gaia Inom\n",
    "    for i in range(n_bus-1):\n",
    "        pp.create_line(net, globals()['b{}'.format(network.at[i,'StartNode'])], \\\n",
    "                       globals()['b{}'.format(network.at[i,'EndNode'])], network.at[i,'Length']*1E-3, network.at[i,'cable']) \n",
    "        \n",
    "    # create loads\n",
    "    for i in range(n_bus): \n",
    "        if i in connect1['Node'].values:            \n",
    "            pp.create_load(net, globals()['b{}'.format(i)], p_mw=Result_p_array[i][t], q_mvar=Result_q_array[i][t])\n",
    " \n",
    "    # print(net.bus)\n",
    "    # print(net.line)\n",
    "    pp.runpp(net)\n",
    "    # simple_plot(net, plot_loads = True)  \n",
    "    p_bus0 = net.res_bus.loc[0, 'p_mw']  # Active power at bus 0\n",
    "    q_bus0 = net.res_bus.loc[0, 'q_mvar']  # Reactive power at bus 0\n",
    "    \n",
    "    return net, p_bus0, q_bus0\n",
    "\n",
    "if __name__ == \"__main__\":\n",
    "    TransAva=[]\n",
    "    PFdiff =[]\n",
    "    for t in range(Time_day):\n",
    "        net,p_bus0,q_bus0 = epse_feeder(t)\n",
    "        TransAva.append(p_bus0 - congestion_limit[t])\n",
    "        PFdiff.append(abs(p_bus0 - Result_p_array[0][t]))\n",
    "        "
   ]
  },
  {
   "cell_type": "code",
   "execution_count": 136,
   "id": "36c33189-6877-4566-80af-cca4b0c1bba2",
   "metadata": {},
   "outputs": [
    {
     "name": "stdout",
     "output_type": "stream",
     "text": [
      "The power flow validate the OPF result, the biggest difference is: 3.656321740340418e-07MW\n"
     ]
    }
   ],
   "source": [
    "#check the transformer's power \n",
    "min_value = min(TransAva)\n",
    "max_value = max(PFdiff)\n",
    "# Check if the transformer power of the pf fit the congestion limit\n",
    "if min_value < 0:    \n",
    "    locations = [i for i, val in enumerate(TransAva) if val == min_value]\n",
    "    print(f\"Congestion Management Error: {min_value}\")\n",
    "    print(f\"Locations of Errors: {locations}\")\n",
    "#calculate the difference between the pf and opf\n",
    "print(f\"The power flow validate the OPF result, the biggest difference is: {max_value}MW\")"
   ]
  },
  {
   "cell_type": "markdown",
   "id": "33bc9f6d-087a-471f-b02a-ac1f3d9f9fd4",
   "metadata": {},
   "source": [
    "# For Stefan:\n",
    "\n",
    "## Indoor Temperature ($T_\\text{indoor}$) Formulation\n",
    "\n",
    "The $T_\\text{indoor}$ formulation I want to implement is similar to the one presented in the paper:  \n",
    "[Indoor Temperature Dynamics in Demand-Side Management](https://ieeexplore.ieee.org/document/10137610) (Section 2-B).  \n",
    "\n",
    "To model this, I would need parameters such as thermal resistance ($R$) and thermal capacitance ($C$) for a typical house in a DACS (Direct Air Conditioning System) setting.\n",
    "\n",
    "### Alternative Approach\n",
    "\n",
    "If the above formulation cannot be realized, you can proceed with the planned method for modeling heat pumps as part of the whole congestion management system.\n"
   ]
  },
  {
   "cell_type": "code",
   "execution_count": 137,
   "id": "fbe11c6f-3af3-46d6-8b34-599e5940fea6",
   "metadata": {},
   "outputs": [],
   "source": [
    "#thermal model\n",
    "\n",
    "#house parameter\n",
    "#total thermal output\n",
    "# Q_thermal= Qhp+Qcv\n",
    "# Qhp=Php*COP   \n",
    "#C_house*(T_in(t)-T_in(t-1)) = Q_thermal*dt+(T_amb-T_in(t-1))/R_house*dt\n",
    "\n",
    "# I want to have the T_in and the correspoding model. so I can use T_in to get PMV and thus get the constraints of heat demand\n",
    "\n",
    "#thermal uncomfort\n",
    "# PPD=F(T_in(t))\n"
   ]
  }
 ],
 "metadata": {
  "kernelspec": {
   "display_name": "Model310",
   "language": "python",
   "name": "model310"
  },
  "language_info": {
   "codemirror_mode": {
    "name": "ipython",
    "version": 3
   },
   "file_extension": ".py",
   "mimetype": "text/x-python",
   "name": "python",
   "nbconvert_exporter": "python",
   "pygments_lexer": "ipython3",
   "version": "3.10.14"
  }
 },
 "nbformat": 4,
 "nbformat_minor": 5
}
